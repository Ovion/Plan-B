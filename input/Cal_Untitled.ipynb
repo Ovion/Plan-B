{
 "cells": [
  {
   "cell_type": "code",
   "execution_count": 1,
   "metadata": {},
   "outputs": [],
   "source": [
    "import pandas as pd\n",
    "import re"
   ]
  },
  {
   "cell_type": "code",
   "execution_count": 2,
   "metadata": {},
   "outputs": [],
   "source": [
    "def clean_calendar(df):\n",
    "    df.drop(['Dia_semana', 'Tipo de Festivo',\n",
    "             'Festividad'], axis=1, inplace=True)\n",
    "    df.Dia = pd.to_datetime(df['Dia'], dayfirst=True)\n",
    "    df.rename(columns={\n",
    "              'Dia': 'dia', 'laborable / festivo / domingo festivo': 'festividad'}, inplace=True)\n",
    "    df.festividad = df.festividad.apply(lambda x: 'Festivo' if (\n",
    "        x == 'domingo' or x == 'festivo') else 'Laborable')\n",
    "    return df"
   ]
  },
  {
   "cell_type": "code",
   "execution_count": 3,
   "metadata": {},
   "outputs": [],
   "source": [
    "cal = pd.read_csv('raw_data/bicicletas/calendario.csv',\n",
    "                  encoding='latin_1', sep=';')"
   ]
  },
  {
   "cell_type": "code",
   "execution_count": 4,
   "metadata": {},
   "outputs": [],
   "source": [
    "cal = clean_calendar(cal)\n",
    "for i in range(0, cal.shape[0]-1):\n",
    "    if (cal.iat[i, cal.columns.get_loc('festividad')] == 'Laborable' and cal.iat[i+1, cal.columns.get_loc('festividad')] == 'Festivo'):\n",
    "        cal.iat[i, cal.columns.get_loc('festividad')] = 'Vispera'\n"
   ]
  },
  {
   "cell_type": "code",
   "execution_count": 5,
   "metadata": {},
   "outputs": [
    {
     "data": {
      "text/plain": [
       "dia           datetime64[ns]\n",
       "festividad            object\n",
       "dtype: object"
      ]
     },
     "execution_count": 5,
     "metadata": {},
     "output_type": "execute_result"
    }
   ],
   "source": [
    "cal.dtypes"
   ]
  },
  {
   "cell_type": "code",
   "execution_count": 6,
   "metadata": {},
   "outputs": [],
   "source": [
    "cal.to_csv('clean_data/cal_clean.csv', index=False)"
   ]
  },
  {
   "cell_type": "code",
   "execution_count": 7,
   "metadata": {},
   "outputs": [],
   "source": [
    "cal = pd.read_csv('clean_data/cal_clean.csv')"
   ]
  },
  {
   "cell_type": "code",
   "execution_count": 26,
   "metadata": {},
   "outputs": [],
   "source": [
    "aux = cal[cal.dia=='2019-12-19']['festividad'].values[0]"
   ]
  },
  {
   "cell_type": "code",
   "execution_count": 27,
   "metadata": {},
   "outputs": [
    {
     "data": {
      "text/plain": [
       "'Laborable'"
      ]
     },
     "execution_count": 27,
     "metadata": {},
     "output_type": "execute_result"
    }
   ],
   "source": [
    "aux\n"
   ]
  },
  {
   "cell_type": "code",
   "execution_count": null,
   "metadata": {},
   "outputs": [],
   "source": []
  }
 ],
 "metadata": {
  "kernelspec": {
   "display_name": "Python 3",
   "language": "python",
   "name": "python3"
  },
  "language_info": {
   "codemirror_mode": {
    "name": "ipython",
    "version": 3
   },
   "file_extension": ".py",
   "mimetype": "text/x-python",
   "name": "python",
   "nbconvert_exporter": "python",
   "pygments_lexer": "ipython3",
   "version": "3.7.5"
  }
 },
 "nbformat": 4,
 "nbformat_minor": 2
}
