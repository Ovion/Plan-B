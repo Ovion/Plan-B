{
 "cells": [
  {
   "cell_type": "code",
   "execution_count": 1,
   "metadata": {},
   "outputs": [],
   "source": [
    "import pandas as pd"
   ]
  },
  {
   "cell_type": "code",
   "execution_count": 2,
   "metadata": {},
   "outputs": [],
   "source": [
    "bici_19 = pd.read_csv('AB_19.csv')\n",
    "bici_18 = pd.read_csv('AB_18.csv')\n",
    "bici_17 = pd.read_csv('AB_17.csv')"
   ]
  },
  {
   "cell_type": "code",
   "execution_count": 3,
   "metadata": {},
   "outputs": [],
   "source": [
    "bici = pd.concat([bici_19, bici_18, bici_17], ignore_index = True)"
   ]
  },
  {
   "cell_type": "code",
   "execution_count": 4,
   "metadata": {},
   "outputs": [
    {
     "data": {
      "text/html": [
       "<div>\n",
       "<style scoped>\n",
       "    .dataframe tbody tr th:only-of-type {\n",
       "        vertical-align: middle;\n",
       "    }\n",
       "\n",
       "    .dataframe tbody tr th {\n",
       "        vertical-align: top;\n",
       "    }\n",
       "\n",
       "    .dataframe thead th {\n",
       "        text-align: right;\n",
       "    }\n",
       "</style>\n",
       "<table border=\"1\" class=\"dataframe\">\n",
       "  <thead>\n",
       "    <tr style=\"text-align: right;\">\n",
       "      <th></th>\n",
       "      <th>fecha</th>\n",
       "      <th>meteo</th>\n",
       "      <th>tipo_accidente</th>\n",
       "      <th>lesividad</th>\n",
       "      <th>distrito</th>\n",
       "      <th>direccion</th>\n",
       "    </tr>\n",
       "  </thead>\n",
       "  <tbody>\n",
       "    <tr>\n",
       "      <th>0</th>\n",
       "      <td>2019-01-01 14:00:00</td>\n",
       "      <td>Despejado</td>\n",
       "      <td>Colision</td>\n",
       "      <td>Moderada</td>\n",
       "      <td>SALAMANCA</td>\n",
       "      <td>CALL. CASTELLO / CALL. DON RAMON DE LA CRUZ</td>\n",
       "    </tr>\n",
       "    <tr>\n",
       "      <th>1</th>\n",
       "      <td>2019-01-02 21:00:00</td>\n",
       "      <td>Despejado</td>\n",
       "      <td>Colision</td>\n",
       "      <td>Grave</td>\n",
       "      <td>HORTALEZA</td>\n",
       "      <td>AVDA. GRAN VIA DE HORTALEZA / GTA. LUIS ROSALES</td>\n",
       "    </tr>\n",
       "    <tr>\n",
       "      <th>2</th>\n",
       "      <td>2019-01-03 14:00:00</td>\n",
       "      <td>Despejado</td>\n",
       "      <td>Colision</td>\n",
       "      <td>Leve</td>\n",
       "      <td>VILLA DE VALLECAS</td>\n",
       "      <td>CALL. FELIPE ALVAREZ 10</td>\n",
       "    </tr>\n",
       "    <tr>\n",
       "      <th>3</th>\n",
       "      <td>2019-01-03 13:00:00</td>\n",
       "      <td>Despejado</td>\n",
       "      <td>Colision</td>\n",
       "      <td>Leve</td>\n",
       "      <td>VILLA DE VALLECAS</td>\n",
       "      <td>AVDA. SANTA EUGENIA / CALL. REAL DE ARGANDA</td>\n",
       "    </tr>\n",
       "    <tr>\n",
       "      <th>4</th>\n",
       "      <td>2019-01-03 13:00:00</td>\n",
       "      <td>Despejado</td>\n",
       "      <td>Colision</td>\n",
       "      <td>Leve</td>\n",
       "      <td>VILLA DE VALLECAS</td>\n",
       "      <td>AVDA. SANTA EUGENIA / CALL. REAL DE ARGANDA</td>\n",
       "    </tr>\n",
       "  </tbody>\n",
       "</table>\n",
       "</div>"
      ],
      "text/plain": [
       "                 fecha      meteo tipo_accidente lesividad           distrito  \\\n",
       "0  2019-01-01 14:00:00  Despejado       Colision  Moderada          SALAMANCA   \n",
       "1  2019-01-02 21:00:00  Despejado       Colision     Grave          HORTALEZA   \n",
       "2  2019-01-03 14:00:00  Despejado       Colision      Leve  VILLA DE VALLECAS   \n",
       "3  2019-01-03 13:00:00  Despejado       Colision      Leve  VILLA DE VALLECAS   \n",
       "4  2019-01-03 13:00:00  Despejado       Colision      Leve  VILLA DE VALLECAS   \n",
       "\n",
       "                                         direccion  \n",
       "0      CALL. CASTELLO / CALL. DON RAMON DE LA CRUZ  \n",
       "1  AVDA. GRAN VIA DE HORTALEZA / GTA. LUIS ROSALES  \n",
       "2                          CALL. FELIPE ALVAREZ 10  \n",
       "3      AVDA. SANTA EUGENIA / CALL. REAL DE ARGANDA  \n",
       "4      AVDA. SANTA EUGENIA / CALL. REAL DE ARGANDA  "
      ]
     },
     "execution_count": 4,
     "metadata": {},
     "output_type": "execute_result"
    }
   ],
   "source": [
    "bici.head()"
   ]
  },
  {
   "cell_type": "code",
   "execution_count": 5,
   "metadata": {},
   "outputs": [],
   "source": [
    "def horario(df):\n",
    "    df['fecha'] = pd.to_datetime(df['fecha'], yearfirst=True)\n",
    "    df['hora'] = df.fecha.dt.hour\n",
    "    df['horario'] = df.hora.apply(lambda x: 'Mañana' if (x>=6 and x<=12) else ('Tarde' if (x>12 and x<=20) else 'Noche'))\n",
    "    df.drop(['hora'], axis = 1, inplace = True)\n",
    "    df['dia'] = df.fecha.dt.date\n",
    "    return df\n"
   ]
  },
  {
   "cell_type": "code",
   "execution_count": 6,
   "metadata": {},
   "outputs": [],
   "source": [
    "bici = horario(bici)"
   ]
  },
  {
   "cell_type": "code",
   "execution_count": 7,
   "metadata": {},
   "outputs": [
    {
     "data": {
      "text/html": [
       "<div>\n",
       "<style scoped>\n",
       "    .dataframe tbody tr th:only-of-type {\n",
       "        vertical-align: middle;\n",
       "    }\n",
       "\n",
       "    .dataframe tbody tr th {\n",
       "        vertical-align: top;\n",
       "    }\n",
       "\n",
       "    .dataframe thead th {\n",
       "        text-align: right;\n",
       "    }\n",
       "</style>\n",
       "<table border=\"1\" class=\"dataframe\">\n",
       "  <thead>\n",
       "    <tr style=\"text-align: right;\">\n",
       "      <th></th>\n",
       "      <th>fecha</th>\n",
       "      <th>meteo</th>\n",
       "      <th>tipo_accidente</th>\n",
       "      <th>lesividad</th>\n",
       "      <th>distrito</th>\n",
       "      <th>direccion</th>\n",
       "      <th>horario</th>\n",
       "      <th>dia</th>\n",
       "    </tr>\n",
       "  </thead>\n",
       "  <tbody>\n",
       "    <tr>\n",
       "      <th>0</th>\n",
       "      <td>2019-01-01 14:00:00</td>\n",
       "      <td>Despejado</td>\n",
       "      <td>Colision</td>\n",
       "      <td>Moderada</td>\n",
       "      <td>SALAMANCA</td>\n",
       "      <td>CALL. CASTELLO / CALL. DON RAMON DE LA CRUZ</td>\n",
       "      <td>Tarde</td>\n",
       "      <td>2019-01-01</td>\n",
       "    </tr>\n",
       "    <tr>\n",
       "      <th>1</th>\n",
       "      <td>2019-01-02 21:00:00</td>\n",
       "      <td>Despejado</td>\n",
       "      <td>Colision</td>\n",
       "      <td>Grave</td>\n",
       "      <td>HORTALEZA</td>\n",
       "      <td>AVDA. GRAN VIA DE HORTALEZA / GTA. LUIS ROSALES</td>\n",
       "      <td>Noche</td>\n",
       "      <td>2019-01-02</td>\n",
       "    </tr>\n",
       "    <tr>\n",
       "      <th>2</th>\n",
       "      <td>2019-01-03 14:00:00</td>\n",
       "      <td>Despejado</td>\n",
       "      <td>Colision</td>\n",
       "      <td>Leve</td>\n",
       "      <td>VILLA DE VALLECAS</td>\n",
       "      <td>CALL. FELIPE ALVAREZ 10</td>\n",
       "      <td>Tarde</td>\n",
       "      <td>2019-01-03</td>\n",
       "    </tr>\n",
       "    <tr>\n",
       "      <th>3</th>\n",
       "      <td>2019-01-03 13:00:00</td>\n",
       "      <td>Despejado</td>\n",
       "      <td>Colision</td>\n",
       "      <td>Leve</td>\n",
       "      <td>VILLA DE VALLECAS</td>\n",
       "      <td>AVDA. SANTA EUGENIA / CALL. REAL DE ARGANDA</td>\n",
       "      <td>Tarde</td>\n",
       "      <td>2019-01-03</td>\n",
       "    </tr>\n",
       "    <tr>\n",
       "      <th>4</th>\n",
       "      <td>2019-01-03 13:00:00</td>\n",
       "      <td>Despejado</td>\n",
       "      <td>Colision</td>\n",
       "      <td>Leve</td>\n",
       "      <td>VILLA DE VALLECAS</td>\n",
       "      <td>AVDA. SANTA EUGENIA / CALL. REAL DE ARGANDA</td>\n",
       "      <td>Tarde</td>\n",
       "      <td>2019-01-03</td>\n",
       "    </tr>\n",
       "  </tbody>\n",
       "</table>\n",
       "</div>"
      ],
      "text/plain": [
       "                fecha      meteo tipo_accidente lesividad           distrito  \\\n",
       "0 2019-01-01 14:00:00  Despejado       Colision  Moderada          SALAMANCA   \n",
       "1 2019-01-02 21:00:00  Despejado       Colision     Grave          HORTALEZA   \n",
       "2 2019-01-03 14:00:00  Despejado       Colision      Leve  VILLA DE VALLECAS   \n",
       "3 2019-01-03 13:00:00  Despejado       Colision      Leve  VILLA DE VALLECAS   \n",
       "4 2019-01-03 13:00:00  Despejado       Colision      Leve  VILLA DE VALLECAS   \n",
       "\n",
       "                                         direccion horario         dia  \n",
       "0      CALL. CASTELLO / CALL. DON RAMON DE LA CRUZ   Tarde  2019-01-01  \n",
       "1  AVDA. GRAN VIA DE HORTALEZA / GTA. LUIS ROSALES   Noche  2019-01-02  \n",
       "2                          CALL. FELIPE ALVAREZ 10   Tarde  2019-01-03  \n",
       "3      AVDA. SANTA EUGENIA / CALL. REAL DE ARGANDA   Tarde  2019-01-03  \n",
       "4      AVDA. SANTA EUGENIA / CALL. REAL DE ARGANDA   Tarde  2019-01-03  "
      ]
     },
     "execution_count": 7,
     "metadata": {},
     "output_type": "execute_result"
    }
   ],
   "source": [
    "bici.head()"
   ]
  },
  {
   "cell_type": "code",
   "execution_count": null,
   "metadata": {},
   "outputs": [],
   "source": []
  },
  {
   "cell_type": "code",
   "execution_count": null,
   "metadata": {},
   "outputs": [],
   "source": []
  },
  {
   "cell_type": "code",
   "execution_count": 9,
   "metadata": {},
   "outputs": [],
   "source": [
    "cal = pd.read_csv ('../raw_data/bicicletas/calendario.csv', encoding='latin_1',sep = ';')"
   ]
  },
  {
   "cell_type": "code",
   "execution_count": 10,
   "metadata": {},
   "outputs": [
    {
     "data": {
      "text/html": [
       "<div>\n",
       "<style scoped>\n",
       "    .dataframe tbody tr th:only-of-type {\n",
       "        vertical-align: middle;\n",
       "    }\n",
       "\n",
       "    .dataframe tbody tr th {\n",
       "        vertical-align: top;\n",
       "    }\n",
       "\n",
       "    .dataframe thead th {\n",
       "        text-align: right;\n",
       "    }\n",
       "</style>\n",
       "<table border=\"1\" class=\"dataframe\">\n",
       "  <thead>\n",
       "    <tr style=\"text-align: right;\">\n",
       "      <th></th>\n",
       "      <th>Dia</th>\n",
       "      <th>Dia_semana</th>\n",
       "      <th>laborable / festivo / domingo festivo</th>\n",
       "      <th>Tipo de Festivo</th>\n",
       "      <th>Festividad</th>\n",
       "    </tr>\n",
       "  </thead>\n",
       "  <tbody>\n",
       "    <tr>\n",
       "      <th>0</th>\n",
       "      <td>01/01/2013</td>\n",
       "      <td>martes</td>\n",
       "      <td>festivo</td>\n",
       "      <td>Festivo nacional</td>\n",
       "      <td>Año Nuevo</td>\n",
       "    </tr>\n",
       "    <tr>\n",
       "      <th>1</th>\n",
       "      <td>02/01/2013</td>\n",
       "      <td>miércoles</td>\n",
       "      <td>laborable</td>\n",
       "      <td>NaN</td>\n",
       "      <td>NaN</td>\n",
       "    </tr>\n",
       "    <tr>\n",
       "      <th>2</th>\n",
       "      <td>03/01/2013</td>\n",
       "      <td>jueves</td>\n",
       "      <td>laborable</td>\n",
       "      <td>NaN</td>\n",
       "      <td>NaN</td>\n",
       "    </tr>\n",
       "    <tr>\n",
       "      <th>3</th>\n",
       "      <td>04/01/2013</td>\n",
       "      <td>viernes</td>\n",
       "      <td>laborable</td>\n",
       "      <td>NaN</td>\n",
       "      <td>NaN</td>\n",
       "    </tr>\n",
       "    <tr>\n",
       "      <th>4</th>\n",
       "      <td>05/01/2013</td>\n",
       "      <td>sábado</td>\n",
       "      <td>sábado</td>\n",
       "      <td>NaN</td>\n",
       "      <td>NaN</td>\n",
       "    </tr>\n",
       "  </tbody>\n",
       "</table>\n",
       "</div>"
      ],
      "text/plain": [
       "          Dia Dia_semana laborable / festivo / domingo festivo  \\\n",
       "0  01/01/2013     martes                               festivo   \n",
       "1  02/01/2013  miércoles                             laborable   \n",
       "2  03/01/2013     jueves                             laborable   \n",
       "3  04/01/2013    viernes                             laborable   \n",
       "4  05/01/2013     sábado                                sábado   \n",
       "\n",
       "    Tipo de Festivo Festividad  \n",
       "0  Festivo nacional  Año Nuevo  \n",
       "1               NaN        NaN  \n",
       "2               NaN        NaN  \n",
       "3               NaN        NaN  \n",
       "4               NaN        NaN  "
      ]
     },
     "execution_count": 10,
     "metadata": {},
     "output_type": "execute_result"
    }
   ],
   "source": [
    "cal.head()"
   ]
  },
  {
   "cell_type": "code",
   "execution_count": 13,
   "metadata": {},
   "outputs": [],
   "source": [
    "cal.drop(['Dia_semana', 'Tipo de Festivo', 'Festividad'], axis = 1, inplace = True)"
   ]
  },
  {
   "cell_type": "code",
   "execution_count": 15,
   "metadata": {},
   "outputs": [],
   "source": [
    "cal.Dia = pd.to_datetime(cal['Dia'], dayfirst=True)"
   ]
  },
  {
   "cell_type": "code",
   "execution_count": 17,
   "metadata": {},
   "outputs": [],
   "source": [
    "cal.rename(columns={'Dia':'dia', 'laborable / festivo / domingo festivo':'festividad'}, inplace=True)"
   ]
  },
  {
   "cell_type": "code",
   "execution_count": null,
   "metadata": {},
   "outputs": [],
   "source": []
  },
  {
   "cell_type": "code",
   "execution_count": null,
   "metadata": {},
   "outputs": [],
   "source": []
  },
  {
   "cell_type": "code",
   "execution_count": null,
   "metadata": {},
   "outputs": [],
   "source": []
  },
  {
   "cell_type": "code",
   "execution_count": 18,
   "metadata": {},
   "outputs": [
    {
     "data": {
      "text/html": [
       "<div>\n",
       "<style scoped>\n",
       "    .dataframe tbody tr th:only-of-type {\n",
       "        vertical-align: middle;\n",
       "    }\n",
       "\n",
       "    .dataframe tbody tr th {\n",
       "        vertical-align: top;\n",
       "    }\n",
       "\n",
       "    .dataframe thead th {\n",
       "        text-align: right;\n",
       "    }\n",
       "</style>\n",
       "<table border=\"1\" class=\"dataframe\">\n",
       "  <thead>\n",
       "    <tr style=\"text-align: right;\">\n",
       "      <th></th>\n",
       "      <th>dia</th>\n",
       "      <th>festividad</th>\n",
       "    </tr>\n",
       "  </thead>\n",
       "  <tbody>\n",
       "    <tr>\n",
       "      <th>0</th>\n",
       "      <td>2013-01-01</td>\n",
       "      <td>festivo</td>\n",
       "    </tr>\n",
       "    <tr>\n",
       "      <th>1</th>\n",
       "      <td>2013-01-02</td>\n",
       "      <td>laborable</td>\n",
       "    </tr>\n",
       "    <tr>\n",
       "      <th>2</th>\n",
       "      <td>2013-01-03</td>\n",
       "      <td>laborable</td>\n",
       "    </tr>\n",
       "    <tr>\n",
       "      <th>3</th>\n",
       "      <td>2013-01-04</td>\n",
       "      <td>laborable</td>\n",
       "    </tr>\n",
       "    <tr>\n",
       "      <th>4</th>\n",
       "      <td>2013-01-05</td>\n",
       "      <td>sábado</td>\n",
       "    </tr>\n",
       "  </tbody>\n",
       "</table>\n",
       "</div>"
      ],
      "text/plain": [
       "         dia festividad\n",
       "0 2013-01-01    festivo\n",
       "1 2013-01-02  laborable\n",
       "2 2013-01-03  laborable\n",
       "3 2013-01-04  laborable\n",
       "4 2013-01-05     sábado"
      ]
     },
     "execution_count": 18,
     "metadata": {},
     "output_type": "execute_result"
    }
   ],
   "source": [
    "cal.head()"
   ]
  },
  {
   "cell_type": "code",
   "execution_count": null,
   "metadata": {},
   "outputs": [],
   "source": []
  },
  {
   "cell_type": "code",
   "execution_count": null,
   "metadata": {},
   "outputs": [],
   "source": []
  },
  {
   "cell_type": "code",
   "execution_count": null,
   "metadata": {},
   "outputs": [],
   "source": []
  },
  {
   "cell_type": "code",
   "execution_count": null,
   "metadata": {},
   "outputs": [],
   "source": []
  },
  {
   "cell_type": "code",
   "execution_count": null,
   "metadata": {},
   "outputs": [],
   "source": []
  }
 ],
 "metadata": {
  "kernelspec": {
   "display_name": "Python 3",
   "language": "python",
   "name": "python3"
  },
  "language_info": {
   "codemirror_mode": {
    "name": "ipython",
    "version": 3
   },
   "file_extension": ".py",
   "mimetype": "text/x-python",
   "name": "python",
   "nbconvert_exporter": "python",
   "pygments_lexer": "ipython3",
   "version": "3.7.5"
  }
 },
 "nbformat": 4,
 "nbformat_minor": 2
}
