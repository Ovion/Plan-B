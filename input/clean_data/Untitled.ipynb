{
 "cells": [
  {
   "cell_type": "code",
   "execution_count": 1,
   "metadata": {},
   "outputs": [],
   "source": [
    "import pandas as pd\n"
   ]
  },
  {
   "cell_type": "code",
   "execution_count": 2,
   "metadata": {},
   "outputs": [],
   "source": [
    "bici = pd.read_csv('bici.csv')"
   ]
  },
  {
   "cell_type": "code",
   "execution_count": 3,
   "metadata": {},
   "outputs": [
    {
     "data": {
      "text/html": [
       "<div>\n",
       "<style scoped>\n",
       "    .dataframe tbody tr th:only-of-type {\n",
       "        vertical-align: middle;\n",
       "    }\n",
       "\n",
       "    .dataframe tbody tr th {\n",
       "        vertical-align: top;\n",
       "    }\n",
       "\n",
       "    .dataframe thead th {\n",
       "        text-align: right;\n",
       "    }\n",
       "</style>\n",
       "<table border=\"1\" class=\"dataframe\">\n",
       "  <thead>\n",
       "    <tr style=\"text-align: right;\">\n",
       "      <th></th>\n",
       "      <th>fecha</th>\n",
       "      <th>meteo</th>\n",
       "      <th>tipo_accidente</th>\n",
       "      <th>lesividad</th>\n",
       "      <th>distrito</th>\n",
       "      <th>direccion</th>\n",
       "      <th>horario</th>\n",
       "      <th>dia</th>\n",
       "      <th>festividad</th>\n",
       "      <th>lon</th>\n",
       "      <th>lat</th>\n",
       "    </tr>\n",
       "  </thead>\n",
       "  <tbody>\n",
       "    <tr>\n",
       "      <th>0</th>\n",
       "      <td>2019-01-01 14:00:00</td>\n",
       "      <td>Despejado</td>\n",
       "      <td>Colision</td>\n",
       "      <td>Moderada</td>\n",
       "      <td>SALAMANCA</td>\n",
       "      <td>CALLE CASTELLO / CALLE DON RAMON DE LA CRUZ Ma...</td>\n",
       "      <td>Tarde</td>\n",
       "      <td>2019-01-01</td>\n",
       "      <td>Festivo</td>\n",
       "      <td>-3.681209</td>\n",
       "      <td>40.428990</td>\n",
       "    </tr>\n",
       "    <tr>\n",
       "      <th>1</th>\n",
       "      <td>2019-01-02 21:00:00</td>\n",
       "      <td>Despejado</td>\n",
       "      <td>Colision</td>\n",
       "      <td>Grave</td>\n",
       "      <td>HORTALEZA</td>\n",
       "      <td>AVDA. GRAN VIA DE HORTALEZA / GTA. LUIS ROSALE...</td>\n",
       "      <td>Noche</td>\n",
       "      <td>2019-01-02</td>\n",
       "      <td>Laborable</td>\n",
       "      <td>-3.654527</td>\n",
       "      <td>40.466921</td>\n",
       "    </tr>\n",
       "    <tr>\n",
       "      <th>2</th>\n",
       "      <td>2019-01-03 14:00:00</td>\n",
       "      <td>Despejado</td>\n",
       "      <td>Colision</td>\n",
       "      <td>Leve</td>\n",
       "      <td>VILLA DE VALLECAS</td>\n",
       "      <td>CALLE FELIPE ALVAREZ 10 Madrid</td>\n",
       "      <td>Tarde</td>\n",
       "      <td>2019-01-03</td>\n",
       "      <td>Laborable</td>\n",
       "      <td>-3.623423</td>\n",
       "      <td>40.381971</td>\n",
       "    </tr>\n",
       "    <tr>\n",
       "      <th>3</th>\n",
       "      <td>2019-01-03 13:00:00</td>\n",
       "      <td>Despejado</td>\n",
       "      <td>Colision</td>\n",
       "      <td>Leve</td>\n",
       "      <td>VILLA DE VALLECAS</td>\n",
       "      <td>AVDA. SANTA EUGENIA / CALLE REAL DE ARGANDA Ma...</td>\n",
       "      <td>Tarde</td>\n",
       "      <td>2019-01-03</td>\n",
       "      <td>Laborable</td>\n",
       "      <td>-3.608276</td>\n",
       "      <td>40.377939</td>\n",
       "    </tr>\n",
       "    <tr>\n",
       "      <th>4</th>\n",
       "      <td>2019-01-03 13:00:00</td>\n",
       "      <td>Despejado</td>\n",
       "      <td>Colision</td>\n",
       "      <td>Leve</td>\n",
       "      <td>VILLA DE VALLECAS</td>\n",
       "      <td>AVDA. SANTA EUGENIA / CALLE REAL DE ARGANDA Ma...</td>\n",
       "      <td>Tarde</td>\n",
       "      <td>2019-01-03</td>\n",
       "      <td>Laborable</td>\n",
       "      <td>-3.608276</td>\n",
       "      <td>40.377939</td>\n",
       "    </tr>\n",
       "  </tbody>\n",
       "</table>\n",
       "</div>"
      ],
      "text/plain": [
       "                 fecha      meteo tipo_accidente lesividad           distrito  \\\n",
       "0  2019-01-01 14:00:00  Despejado       Colision  Moderada          SALAMANCA   \n",
       "1  2019-01-02 21:00:00  Despejado       Colision     Grave          HORTALEZA   \n",
       "2  2019-01-03 14:00:00  Despejado       Colision      Leve  VILLA DE VALLECAS   \n",
       "3  2019-01-03 13:00:00  Despejado       Colision      Leve  VILLA DE VALLECAS   \n",
       "4  2019-01-03 13:00:00  Despejado       Colision      Leve  VILLA DE VALLECAS   \n",
       "\n",
       "                                           direccion horario         dia  \\\n",
       "0  CALLE CASTELLO / CALLE DON RAMON DE LA CRUZ Ma...   Tarde  2019-01-01   \n",
       "1  AVDA. GRAN VIA DE HORTALEZA / GTA. LUIS ROSALE...   Noche  2019-01-02   \n",
       "2                     CALLE FELIPE ALVAREZ 10 Madrid   Tarde  2019-01-03   \n",
       "3  AVDA. SANTA EUGENIA / CALLE REAL DE ARGANDA Ma...   Tarde  2019-01-03   \n",
       "4  AVDA. SANTA EUGENIA / CALLE REAL DE ARGANDA Ma...   Tarde  2019-01-03   \n",
       "\n",
       "  festividad       lon        lat  \n",
       "0    Festivo -3.681209  40.428990  \n",
       "1  Laborable -3.654527  40.466921  \n",
       "2  Laborable -3.623423  40.381971  \n",
       "3  Laborable -3.608276  40.377939  \n",
       "4  Laborable -3.608276  40.377939  "
      ]
     },
     "execution_count": 3,
     "metadata": {},
     "output_type": "execute_result"
    }
   ],
   "source": [
    "bici.head()"
   ]
  },
  {
   "cell_type": "code",
   "execution_count": 12,
   "metadata": {},
   "outputs": [
    {
     "data": {
      "text/plain": [
       "fecha             datetime64[ns]\n",
       "meteo                     object\n",
       "tipo_accidente            object\n",
       "lesividad                 object\n",
       "distrito                  object\n",
       "direccion                 object\n",
       "horario                   object\n",
       "dia               datetime64[ns]\n",
       "festividad                object\n",
       "lon                      float64\n",
       "lat                      float64\n",
       "dtype: object"
      ]
     },
     "execution_count": 12,
     "metadata": {},
     "output_type": "execute_result"
    }
   ],
   "source": [
    "bici.dtypes"
   ]
  },
  {
   "cell_type": "code",
   "execution_count": 10,
   "metadata": {},
   "outputs": [],
   "source": [
    "bici.fecha = pd.to_datetime(bici.fecha, yearfirst=True)\n",
    "bici.dia = pd.to_datetime(bici.dia, yearfirst=True)"
   ]
  },
  {
   "cell_type": "code",
   "execution_count": 13,
   "metadata": {},
   "outputs": [],
   "source": [
    "bici['year']=bici.dia.dt.year"
   ]
  },
  {
   "cell_type": "code",
   "execution_count": 14,
   "metadata": {},
   "outputs": [
    {
     "data": {
      "text/html": [
       "<div>\n",
       "<style scoped>\n",
       "    .dataframe tbody tr th:only-of-type {\n",
       "        vertical-align: middle;\n",
       "    }\n",
       "\n",
       "    .dataframe tbody tr th {\n",
       "        vertical-align: top;\n",
       "    }\n",
       "\n",
       "    .dataframe thead th {\n",
       "        text-align: right;\n",
       "    }\n",
       "</style>\n",
       "<table border=\"1\" class=\"dataframe\">\n",
       "  <thead>\n",
       "    <tr style=\"text-align: right;\">\n",
       "      <th></th>\n",
       "      <th>fecha</th>\n",
       "      <th>meteo</th>\n",
       "      <th>tipo_accidente</th>\n",
       "      <th>lesividad</th>\n",
       "      <th>distrito</th>\n",
       "      <th>direccion</th>\n",
       "      <th>horario</th>\n",
       "      <th>dia</th>\n",
       "      <th>festividad</th>\n",
       "      <th>lon</th>\n",
       "      <th>lat</th>\n",
       "      <th>year</th>\n",
       "    </tr>\n",
       "  </thead>\n",
       "  <tbody>\n",
       "    <tr>\n",
       "      <th>0</th>\n",
       "      <td>2019-01-01 14:00:00</td>\n",
       "      <td>Despejado</td>\n",
       "      <td>Colision</td>\n",
       "      <td>Moderada</td>\n",
       "      <td>SALAMANCA</td>\n",
       "      <td>CALLE CASTELLO / CALLE DON RAMON DE LA CRUZ Ma...</td>\n",
       "      <td>Tarde</td>\n",
       "      <td>2019-01-01</td>\n",
       "      <td>Festivo</td>\n",
       "      <td>-3.681209</td>\n",
       "      <td>40.428990</td>\n",
       "      <td>2019</td>\n",
       "    </tr>\n",
       "    <tr>\n",
       "      <th>1</th>\n",
       "      <td>2019-01-02 21:00:00</td>\n",
       "      <td>Despejado</td>\n",
       "      <td>Colision</td>\n",
       "      <td>Grave</td>\n",
       "      <td>HORTALEZA</td>\n",
       "      <td>AVDA. GRAN VIA DE HORTALEZA / GTA. LUIS ROSALE...</td>\n",
       "      <td>Noche</td>\n",
       "      <td>2019-01-02</td>\n",
       "      <td>Laborable</td>\n",
       "      <td>-3.654527</td>\n",
       "      <td>40.466921</td>\n",
       "      <td>2019</td>\n",
       "    </tr>\n",
       "    <tr>\n",
       "      <th>2</th>\n",
       "      <td>2019-01-03 14:00:00</td>\n",
       "      <td>Despejado</td>\n",
       "      <td>Colision</td>\n",
       "      <td>Leve</td>\n",
       "      <td>VILLA DE VALLECAS</td>\n",
       "      <td>CALLE FELIPE ALVAREZ 10 Madrid</td>\n",
       "      <td>Tarde</td>\n",
       "      <td>2019-01-03</td>\n",
       "      <td>Laborable</td>\n",
       "      <td>-3.623423</td>\n",
       "      <td>40.381971</td>\n",
       "      <td>2019</td>\n",
       "    </tr>\n",
       "    <tr>\n",
       "      <th>3</th>\n",
       "      <td>2019-01-03 13:00:00</td>\n",
       "      <td>Despejado</td>\n",
       "      <td>Colision</td>\n",
       "      <td>Leve</td>\n",
       "      <td>VILLA DE VALLECAS</td>\n",
       "      <td>AVDA. SANTA EUGENIA / CALLE REAL DE ARGANDA Ma...</td>\n",
       "      <td>Tarde</td>\n",
       "      <td>2019-01-03</td>\n",
       "      <td>Laborable</td>\n",
       "      <td>-3.608276</td>\n",
       "      <td>40.377939</td>\n",
       "      <td>2019</td>\n",
       "    </tr>\n",
       "    <tr>\n",
       "      <th>4</th>\n",
       "      <td>2019-01-03 13:00:00</td>\n",
       "      <td>Despejado</td>\n",
       "      <td>Colision</td>\n",
       "      <td>Leve</td>\n",
       "      <td>VILLA DE VALLECAS</td>\n",
       "      <td>AVDA. SANTA EUGENIA / CALLE REAL DE ARGANDA Ma...</td>\n",
       "      <td>Tarde</td>\n",
       "      <td>2019-01-03</td>\n",
       "      <td>Laborable</td>\n",
       "      <td>-3.608276</td>\n",
       "      <td>40.377939</td>\n",
       "      <td>2019</td>\n",
       "    </tr>\n",
       "  </tbody>\n",
       "</table>\n",
       "</div>"
      ],
      "text/plain": [
       "                fecha      meteo tipo_accidente lesividad           distrito  \\\n",
       "0 2019-01-01 14:00:00  Despejado       Colision  Moderada          SALAMANCA   \n",
       "1 2019-01-02 21:00:00  Despejado       Colision     Grave          HORTALEZA   \n",
       "2 2019-01-03 14:00:00  Despejado       Colision      Leve  VILLA DE VALLECAS   \n",
       "3 2019-01-03 13:00:00  Despejado       Colision      Leve  VILLA DE VALLECAS   \n",
       "4 2019-01-03 13:00:00  Despejado       Colision      Leve  VILLA DE VALLECAS   \n",
       "\n",
       "                                           direccion horario        dia  \\\n",
       "0  CALLE CASTELLO / CALLE DON RAMON DE LA CRUZ Ma...   Tarde 2019-01-01   \n",
       "1  AVDA. GRAN VIA DE HORTALEZA / GTA. LUIS ROSALE...   Noche 2019-01-02   \n",
       "2                     CALLE FELIPE ALVAREZ 10 Madrid   Tarde 2019-01-03   \n",
       "3  AVDA. SANTA EUGENIA / CALLE REAL DE ARGANDA Ma...   Tarde 2019-01-03   \n",
       "4  AVDA. SANTA EUGENIA / CALLE REAL DE ARGANDA Ma...   Tarde 2019-01-03   \n",
       "\n",
       "  festividad       lon        lat  year  \n",
       "0    Festivo -3.681209  40.428990  2019  \n",
       "1  Laborable -3.654527  40.466921  2019  \n",
       "2  Laborable -3.623423  40.381971  2019  \n",
       "3  Laborable -3.608276  40.377939  2019  \n",
       "4  Laborable -3.608276  40.377939  2019  "
      ]
     },
     "execution_count": 14,
     "metadata": {},
     "output_type": "execute_result"
    }
   ],
   "source": [
    "bici.head()"
   ]
  },
  {
   "cell_type": "code",
   "execution_count": 20,
   "metadata": {},
   "outputs": [
    {
     "data": {
      "text/html": [
       "<div>\n",
       "<style scoped>\n",
       "    .dataframe tbody tr th:only-of-type {\n",
       "        vertical-align: middle;\n",
       "    }\n",
       "\n",
       "    .dataframe tbody tr th {\n",
       "        vertical-align: top;\n",
       "    }\n",
       "\n",
       "    .dataframe thead th {\n",
       "        text-align: right;\n",
       "    }\n",
       "</style>\n",
       "<table border=\"1\" class=\"dataframe\">\n",
       "  <thead>\n",
       "    <tr style=\"text-align: right;\">\n",
       "      <th></th>\n",
       "      <th>fecha</th>\n",
       "      <th>meteo</th>\n",
       "      <th>tipo_accidente</th>\n",
       "      <th>lesividad</th>\n",
       "      <th>distrito</th>\n",
       "      <th>direccion</th>\n",
       "      <th>horario</th>\n",
       "      <th>dia</th>\n",
       "      <th>festividad</th>\n",
       "      <th>lon</th>\n",
       "      <th>lat</th>\n",
       "      <th>year</th>\n",
       "    </tr>\n",
       "  </thead>\n",
       "  <tbody>\n",
       "    <tr>\n",
       "      <th>500</th>\n",
       "      <td>2019-07-30 21:00:00</td>\n",
       "      <td>Despejado</td>\n",
       "      <td>Colision</td>\n",
       "      <td>Leve</td>\n",
       "      <td>VILLA DE VALLECAS</td>\n",
       "      <td>AVDA. MEDITERRANEO / AUTOV. A-3 Madrid</td>\n",
       "      <td>Noche</td>\n",
       "      <td>2019-07-30</td>\n",
       "      <td>Laborable</td>\n",
       "      <td>NaN</td>\n",
       "      <td>NaN</td>\n",
       "      <td>2019</td>\n",
       "    </tr>\n",
       "    <tr>\n",
       "      <th>974</th>\n",
       "      <td>2018-05-06 09:00:00</td>\n",
       "      <td>Despejado</td>\n",
       "      <td>Caida</td>\n",
       "      <td>Grave</td>\n",
       "      <td>VILLA DE VALLECAS</td>\n",
       "      <td>AVENIDA DEL MAYORAZGO - CAMINO DE LA MAGDALENA...</td>\n",
       "      <td>Mañana</td>\n",
       "      <td>2018-05-06</td>\n",
       "      <td>Festivo</td>\n",
       "      <td>NaN</td>\n",
       "      <td>NaN</td>\n",
       "      <td>2018</td>\n",
       "    </tr>\n",
       "  </tbody>\n",
       "</table>\n",
       "</div>"
      ],
      "text/plain": [
       "                  fecha      meteo tipo_accidente lesividad  \\\n",
       "500 2019-07-30 21:00:00  Despejado       Colision      Leve   \n",
       "974 2018-05-06 09:00:00  Despejado          Caida     Grave   \n",
       "\n",
       "                           distrito  \\\n",
       "500               VILLA DE VALLECAS   \n",
       "974  VILLA DE VALLECAS                \n",
       "\n",
       "                                             direccion horario        dia  \\\n",
       "500             AVDA. MEDITERRANEO / AUTOV. A-3 Madrid   Noche 2019-07-30   \n",
       "974  AVENIDA DEL MAYORAZGO - CAMINO DE LA MAGDALENA...  Mañana 2018-05-06   \n",
       "\n",
       "    festividad  lon  lat  year  \n",
       "500  Laborable  NaN  NaN  2019  \n",
       "974    Festivo  NaN  NaN  2018  "
      ]
     },
     "execution_count": 20,
     "metadata": {},
     "output_type": "execute_result"
    }
   ],
   "source": [
    "bici[bici.lon.isna()]"
   ]
  },
  {
   "cell_type": "code",
   "execution_count": 22,
   "metadata": {},
   "outputs": [
    {
     "data": {
      "text/plain": [
       "(2235, 12)"
      ]
     },
     "execution_count": 22,
     "metadata": {},
     "output_type": "execute_result"
    }
   ],
   "source": [
    "bici.shape"
   ]
  },
  {
   "cell_type": "code",
   "execution_count": 24,
   "metadata": {},
   "outputs": [],
   "source": [
    "bici.dropna(inplace=True)"
   ]
  },
  {
   "cell_type": "code",
   "execution_count": 25,
   "metadata": {},
   "outputs": [
    {
     "data": {
      "text/plain": [
       "(2233, 12)"
      ]
     },
     "execution_count": 25,
     "metadata": {},
     "output_type": "execute_result"
    }
   ],
   "source": [
    "bici.shape"
   ]
  },
  {
   "cell_type": "code",
   "execution_count": null,
   "metadata": {},
   "outputs": [],
   "source": []
  },
  {
   "cell_type": "code",
   "execution_count": null,
   "metadata": {},
   "outputs": [],
   "source": []
  },
  {
   "cell_type": "code",
   "execution_count": null,
   "metadata": {},
   "outputs": [],
   "source": []
  },
  {
   "cell_type": "code",
   "execution_count": null,
   "metadata": {},
   "outputs": [],
   "source": []
  }
 ],
 "metadata": {
  "kernelspec": {
   "display_name": "Python 3",
   "language": "python",
   "name": "python3"
  },
  "language_info": {
   "codemirror_mode": {
    "name": "ipython",
    "version": 3
   },
   "file_extension": ".py",
   "mimetype": "text/x-python",
   "name": "python",
   "nbconvert_exporter": "python",
   "pygments_lexer": "ipython3",
   "version": "3.7.5"
  }
 },
 "nbformat": 4,
 "nbformat_minor": 2
}
