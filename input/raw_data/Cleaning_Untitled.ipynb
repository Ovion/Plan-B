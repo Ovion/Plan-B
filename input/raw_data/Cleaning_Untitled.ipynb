{
 "cells": [
  {
   "cell_type": "code",
   "execution_count": 1,
   "metadata": {},
   "outputs": [],
   "source": [
    "import pandas as pd\n",
    "import re"
   ]
  },
  {
   "cell_type": "code",
   "execution_count": 2,
   "metadata": {},
   "outputs": [],
   "source": [
    "lst_header = ['num_exp', 'dia', 'hora', 'calle', 'num', 'distrito', 'tipo_accidente', 'meteo', 'vehiculo', 'persona', 'edad', 'sexo', 'lesividad' ]\n",
    "bici = pd.read_csv('bicicletas/AccidentesBicicletas_2019.csv', encoding='latin_1',sep = ';', names=lst_header)"
   ]
  },
  {
   "cell_type": "code",
   "execution_count": 3,
   "metadata": {},
   "outputs": [
    {
     "data": {
      "text/html": [
       "<div>\n",
       "<style scoped>\n",
       "    .dataframe tbody tr th:only-of-type {\n",
       "        vertical-align: middle;\n",
       "    }\n",
       "\n",
       "    .dataframe tbody tr th {\n",
       "        vertical-align: top;\n",
       "    }\n",
       "\n",
       "    .dataframe thead th {\n",
       "        text-align: right;\n",
       "    }\n",
       "</style>\n",
       "<table border=\"1\" class=\"dataframe\">\n",
       "  <thead>\n",
       "    <tr style=\"text-align: right;\">\n",
       "      <th></th>\n",
       "      <th>num_exp</th>\n",
       "      <th>dia</th>\n",
       "      <th>hora</th>\n",
       "      <th>calle</th>\n",
       "      <th>num</th>\n",
       "      <th>distrito</th>\n",
       "      <th>tipo_accidente</th>\n",
       "      <th>meteo</th>\n",
       "      <th>vehiculo</th>\n",
       "      <th>persona</th>\n",
       "      <th>edad</th>\n",
       "      <th>sexo</th>\n",
       "      <th>lesividad</th>\n",
       "    </tr>\n",
       "  </thead>\n",
       "  <tbody>\n",
       "    <tr>\n",
       "      <th>0</th>\n",
       "      <td>Nº  EXPEDIENTE</td>\n",
       "      <td>FECHA</td>\n",
       "      <td>HORA</td>\n",
       "      <td>CALLE</td>\n",
       "      <td>NÚMERO</td>\n",
       "      <td>DISTRITO</td>\n",
       "      <td>TIPO ACCIDENTE</td>\n",
       "      <td>ESTADO METEREOLÓGICO</td>\n",
       "      <td>TIPO VEHÍCULO</td>\n",
       "      <td>TIPO PERSONA</td>\n",
       "      <td>RANGO DE EDAD</td>\n",
       "      <td>SEXO</td>\n",
       "      <td>LESIVIDAD*</td>\n",
       "    </tr>\n",
       "    <tr>\n",
       "      <th>1</th>\n",
       "      <td>2019S000659</td>\n",
       "      <td>01/01/2019</td>\n",
       "      <td>14:00</td>\n",
       "      <td>CALL. CASTELLO / CALL. DON RAMON DE LA CRUZ</td>\n",
       "      <td>-</td>\n",
       "      <td>SALAMANCA</td>\n",
       "      <td>Alcance</td>\n",
       "      <td>Despejado</td>\n",
       "      <td>Bicicleta</td>\n",
       "      <td>Conductor</td>\n",
       "      <td>DE 25 A 29 AÑOS</td>\n",
       "      <td>Hombre</td>\n",
       "      <td>01</td>\n",
       "    </tr>\n",
       "    <tr>\n",
       "      <th>2</th>\n",
       "      <td>2019S000036</td>\n",
       "      <td>02/01/2019</td>\n",
       "      <td>20:45</td>\n",
       "      <td>AVDA. GRAN VIA DE HORTALEZA / GTA. LUIS ROSALES</td>\n",
       "      <td>-</td>\n",
       "      <td>HORTALEZA</td>\n",
       "      <td>Colisión fronto-lateral</td>\n",
       "      <td>Despejado</td>\n",
       "      <td>Bicicleta</td>\n",
       "      <td>Conductor</td>\n",
       "      <td>DE 70 A 74 AÑOS</td>\n",
       "      <td>Hombre</td>\n",
       "      <td>03</td>\n",
       "    </tr>\n",
       "    <tr>\n",
       "      <th>3</th>\n",
       "      <td>2019S000133</td>\n",
       "      <td>03/01/2019</td>\n",
       "      <td>14:30</td>\n",
       "      <td>CALL. FELIPE ALVAREZ</td>\n",
       "      <td>10</td>\n",
       "      <td>VILLA DE VALLECAS</td>\n",
       "      <td>Alcance</td>\n",
       "      <td>Se desconoce</td>\n",
       "      <td>Bicicleta</td>\n",
       "      <td>Conductor</td>\n",
       "      <td>DE 15 A 17 AÑOS</td>\n",
       "      <td>Hombre</td>\n",
       "      <td>07</td>\n",
       "    </tr>\n",
       "    <tr>\n",
       "      <th>4</th>\n",
       "      <td>2019S000132</td>\n",
       "      <td>03/01/2019</td>\n",
       "      <td>12:45</td>\n",
       "      <td>AVDA. SANTA EUGENIA / CALL. REAL DE ARGANDA</td>\n",
       "      <td>-</td>\n",
       "      <td>VILLA DE VALLECAS</td>\n",
       "      <td>Alcance</td>\n",
       "      <td>Despejado</td>\n",
       "      <td>Bicicleta</td>\n",
       "      <td>Conductor</td>\n",
       "      <td>DE 18 A 20 AÑOS</td>\n",
       "      <td>Hombre</td>\n",
       "      <td>07</td>\n",
       "    </tr>\n",
       "  </tbody>\n",
       "</table>\n",
       "</div>"
      ],
      "text/plain": [
       "          num_exp         dia   hora  \\\n",
       "0  Nº  EXPEDIENTE       FECHA   HORA   \n",
       "1     2019S000659  01/01/2019  14:00   \n",
       "2     2019S000036  02/01/2019  20:45   \n",
       "3     2019S000133  03/01/2019  14:30   \n",
       "4     2019S000132  03/01/2019  12:45   \n",
       "\n",
       "                                             calle     num           distrito  \\\n",
       "0                                            CALLE  NÚMERO           DISTRITO   \n",
       "1      CALL. CASTELLO / CALL. DON RAMON DE LA CRUZ       -          SALAMANCA   \n",
       "2  AVDA. GRAN VIA DE HORTALEZA / GTA. LUIS ROSALES       -          HORTALEZA   \n",
       "3                             CALL. FELIPE ALVAREZ      10  VILLA DE VALLECAS   \n",
       "4      AVDA. SANTA EUGENIA / CALL. REAL DE ARGANDA       -  VILLA DE VALLECAS   \n",
       "\n",
       "            tipo_accidente                 meteo       vehiculo       persona  \\\n",
       "0           TIPO ACCIDENTE  ESTADO METEREOLÓGICO  TIPO VEHÍCULO  TIPO PERSONA   \n",
       "1                  Alcance             Despejado      Bicicleta     Conductor   \n",
       "2  Colisión fronto-lateral             Despejado      Bicicleta     Conductor   \n",
       "3                  Alcance          Se desconoce      Bicicleta     Conductor   \n",
       "4                  Alcance             Despejado      Bicicleta     Conductor   \n",
       "\n",
       "              edad    sexo   lesividad  \n",
       "0    RANGO DE EDAD    SEXO  LESIVIDAD*  \n",
       "1  DE 25 A 29 AÑOS  Hombre          01  \n",
       "2  DE 70 A 74 AÑOS  Hombre          03  \n",
       "3  DE 15 A 17 AÑOS  Hombre          07  \n",
       "4  DE 18 A 20 AÑOS  Hombre          07  "
      ]
     },
     "execution_count": 3,
     "metadata": {},
     "output_type": "execute_result"
    }
   ],
   "source": [
    "bici.head()"
   ]
  },
  {
   "cell_type": "code",
   "execution_count": 4,
   "metadata": {},
   "outputs": [
    {
     "data": {
      "text/plain": [
       "num_exp           object\n",
       "dia               object\n",
       "hora              object\n",
       "calle             object\n",
       "num               object\n",
       "distrito          object\n",
       "tipo_accidente    object\n",
       "meteo             object\n",
       "vehiculo          object\n",
       "persona           object\n",
       "edad              object\n",
       "sexo              object\n",
       "lesividad         object\n",
       "dtype: object"
      ]
     },
     "execution_count": 4,
     "metadata": {},
     "output_type": "execute_result"
    }
   ],
   "source": [
    "bici.dtypes"
   ]
  },
  {
   "cell_type": "code",
   "execution_count": 5,
   "metadata": {},
   "outputs": [],
   "source": [
    "bici.drop(0, inplace=True)\n",
    "bici.reset_index(drop=True, inplace=True)"
   ]
  },
  {
   "cell_type": "code",
   "execution_count": 6,
   "metadata": {},
   "outputs": [],
   "source": [
    "def create_date(df):\n",
    "    df['fecha'] = df.dia+' '+df.hora\n",
    "    bici['fecha'] = pd.to_datetime(df['fecha'], dayfirst=True)\n",
    "    df.drop(['dia', 'hora'], axis=1, inplace = True)\n",
    "    return df\n",
    "\n",
    "bici = create_date(bici)"
   ]
  },
  {
   "cell_type": "code",
   "execution_count": 7,
   "metadata": {},
   "outputs": [],
   "source": [
    "def create_dir(df):\n",
    "    df.num.apply(lambda x: x.strip())\n",
    "    df.loc[(df.num == '-'), 'num']=''\n",
    "    df['direccion'] = df.calle+' '+df.num\n",
    "    df.direccion.apply(lambda x: x.strip())\n",
    "    df.drop(['calle', 'num'], axis=1, inplace = True)\n",
    "    return df\n",
    "\n",
    "bici = create_dir(bici)"
   ]
  },
  {
   "cell_type": "code",
   "execution_count": 8,
   "metadata": {},
   "outputs": [
    {
     "data": {
      "text/html": [
       "<div>\n",
       "<style scoped>\n",
       "    .dataframe tbody tr th:only-of-type {\n",
       "        vertical-align: middle;\n",
       "    }\n",
       "\n",
       "    .dataframe tbody tr th {\n",
       "        vertical-align: top;\n",
       "    }\n",
       "\n",
       "    .dataframe thead th {\n",
       "        text-align: right;\n",
       "    }\n",
       "</style>\n",
       "<table border=\"1\" class=\"dataframe\">\n",
       "  <thead>\n",
       "    <tr style=\"text-align: right;\">\n",
       "      <th></th>\n",
       "      <th>num_exp</th>\n",
       "      <th>distrito</th>\n",
       "      <th>tipo_accidente</th>\n",
       "      <th>meteo</th>\n",
       "      <th>vehiculo</th>\n",
       "      <th>persona</th>\n",
       "      <th>edad</th>\n",
       "      <th>sexo</th>\n",
       "      <th>lesividad</th>\n",
       "      <th>fecha</th>\n",
       "      <th>direccion</th>\n",
       "    </tr>\n",
       "  </thead>\n",
       "  <tbody>\n",
       "    <tr>\n",
       "      <th>0</th>\n",
       "      <td>2019S000659</td>\n",
       "      <td>SALAMANCA</td>\n",
       "      <td>Alcance</td>\n",
       "      <td>Despejado</td>\n",
       "      <td>Bicicleta</td>\n",
       "      <td>Conductor</td>\n",
       "      <td>DE 25 A 29 AÑOS</td>\n",
       "      <td>Hombre</td>\n",
       "      <td>01</td>\n",
       "      <td>2019-01-01 14:00:00</td>\n",
       "      <td>CALL. CASTELLO / CALL. DON RAMON DE LA CRUZ</td>\n",
       "    </tr>\n",
       "    <tr>\n",
       "      <th>1</th>\n",
       "      <td>2019S000036</td>\n",
       "      <td>HORTALEZA</td>\n",
       "      <td>Colisión fronto-lateral</td>\n",
       "      <td>Despejado</td>\n",
       "      <td>Bicicleta</td>\n",
       "      <td>Conductor</td>\n",
       "      <td>DE 70 A 74 AÑOS</td>\n",
       "      <td>Hombre</td>\n",
       "      <td>03</td>\n",
       "      <td>2019-01-02 20:45:00</td>\n",
       "      <td>AVDA. GRAN VIA DE HORTALEZA / GTA. LUIS ROSALES</td>\n",
       "    </tr>\n",
       "    <tr>\n",
       "      <th>2</th>\n",
       "      <td>2019S000133</td>\n",
       "      <td>VILLA DE VALLECAS</td>\n",
       "      <td>Alcance</td>\n",
       "      <td>Se desconoce</td>\n",
       "      <td>Bicicleta</td>\n",
       "      <td>Conductor</td>\n",
       "      <td>DE 15 A 17 AÑOS</td>\n",
       "      <td>Hombre</td>\n",
       "      <td>07</td>\n",
       "      <td>2019-01-03 14:30:00</td>\n",
       "      <td>CALL. FELIPE ALVAREZ 10</td>\n",
       "    </tr>\n",
       "    <tr>\n",
       "      <th>3</th>\n",
       "      <td>2019S000132</td>\n",
       "      <td>VILLA DE VALLECAS</td>\n",
       "      <td>Alcance</td>\n",
       "      <td>Despejado</td>\n",
       "      <td>Bicicleta</td>\n",
       "      <td>Conductor</td>\n",
       "      <td>DE 18 A 20 AÑOS</td>\n",
       "      <td>Hombre</td>\n",
       "      <td>07</td>\n",
       "      <td>2019-01-03 12:45:00</td>\n",
       "      <td>AVDA. SANTA EUGENIA / CALL. REAL DE ARGANDA</td>\n",
       "    </tr>\n",
       "    <tr>\n",
       "      <th>4</th>\n",
       "      <td>2019S000132</td>\n",
       "      <td>VILLA DE VALLECAS</td>\n",
       "      <td>Alcance</td>\n",
       "      <td>Despejado</td>\n",
       "      <td>Bicicleta</td>\n",
       "      <td>Conductor</td>\n",
       "      <td>DE 21 A 24 AÑOS</td>\n",
       "      <td>Hombre</td>\n",
       "      <td>14</td>\n",
       "      <td>2019-01-03 12:45:00</td>\n",
       "      <td>AVDA. SANTA EUGENIA / CALL. REAL DE ARGANDA</td>\n",
       "    </tr>\n",
       "  </tbody>\n",
       "</table>\n",
       "</div>"
      ],
      "text/plain": [
       "       num_exp           distrito           tipo_accidente         meteo  \\\n",
       "0  2019S000659          SALAMANCA                  Alcance     Despejado   \n",
       "1  2019S000036          HORTALEZA  Colisión fronto-lateral     Despejado   \n",
       "2  2019S000133  VILLA DE VALLECAS                  Alcance  Se desconoce   \n",
       "3  2019S000132  VILLA DE VALLECAS                  Alcance     Despejado   \n",
       "4  2019S000132  VILLA DE VALLECAS                  Alcance     Despejado   \n",
       "\n",
       "    vehiculo    persona             edad    sexo lesividad  \\\n",
       "0  Bicicleta  Conductor  DE 25 A 29 AÑOS  Hombre        01   \n",
       "1  Bicicleta  Conductor  DE 70 A 74 AÑOS  Hombre        03   \n",
       "2  Bicicleta  Conductor  DE 15 A 17 AÑOS  Hombre        07   \n",
       "3  Bicicleta  Conductor  DE 18 A 20 AÑOS  Hombre        07   \n",
       "4  Bicicleta  Conductor  DE 21 A 24 AÑOS  Hombre        14   \n",
       "\n",
       "                fecha                                         direccion  \n",
       "0 2019-01-01 14:00:00      CALL. CASTELLO / CALL. DON RAMON DE LA CRUZ   \n",
       "1 2019-01-02 20:45:00  AVDA. GRAN VIA DE HORTALEZA / GTA. LUIS ROSALES   \n",
       "2 2019-01-03 14:30:00                           CALL. FELIPE ALVAREZ 10  \n",
       "3 2019-01-03 12:45:00      AVDA. SANTA EUGENIA / CALL. REAL DE ARGANDA   \n",
       "4 2019-01-03 12:45:00      AVDA. SANTA EUGENIA / CALL. REAL DE ARGANDA   "
      ]
     },
     "execution_count": 8,
     "metadata": {},
     "output_type": "execute_result"
    }
   ],
   "source": [
    "bici.head()"
   ]
  },
  {
   "cell_type": "code",
   "execution_count": 9,
   "metadata": {},
   "outputs": [
    {
     "data": {
      "text/plain": [
       "0"
      ]
     },
     "execution_count": 9,
     "metadata": {},
     "output_type": "execute_result"
    }
   ],
   "source": [
    "bici.tipo_accidente.isna().sum()"
   ]
  },
  {
   "cell_type": "code",
   "execution_count": 10,
   "metadata": {},
   "outputs": [],
   "source": [
    "def change_accident(values):\n",
    "    dict_accidente = {\n",
    "        r'Caída':'Caida',\n",
    "        r'Colisión':'Colision',\n",
    "        r'Alcance':'Colision',\n",
    "        r'Atropello':'Imprudencia',\n",
    "        r'Choque':'Imprudencia'}\n",
    "    for k, v in dict_accidente.items():\n",
    "        if re.match(k, values):\n",
    "            return v\n",
    "    return 'Otro'\n",
    "\n",
    "bici.tipo_accidente = bici.tipo_accidente.apply(lambda x: change_accident(x))"
   ]
  },
  {
   "cell_type": "code",
   "execution_count": 11,
   "metadata": {},
   "outputs": [
    {
     "data": {
      "text/plain": [
       "Colision       388\n",
       "Caida          230\n",
       "Imprudencia    141\n",
       "Otro            20\n",
       "Name: tipo_accidente, dtype: int64"
      ]
     },
     "execution_count": 11,
     "metadata": {},
     "output_type": "execute_result"
    }
   ],
   "source": [
    "bici.tipo_accidente.value_counts()"
   ]
  },
  {
   "cell_type": "code",
   "execution_count": 12,
   "metadata": {},
   "outputs": [
    {
     "ename": "KeyError",
     "evalue": "'nan'",
     "output_type": "error",
     "traceback": [
      "\u001b[0;31m---------------------------------------------------------------------------\u001b[0m",
      "\u001b[0;31mKeyError\u001b[0m                                  Traceback (most recent call last)",
      "\u001b[0;32m<ipython-input-12-95f82525fbfd>\u001b[0m in \u001b[0;36m<module>\u001b[0;34m\u001b[0m\n\u001b[1;32m      7\u001b[0m     \u001b[0;32mreturn\u001b[0m \u001b[0mdict_injury\u001b[0m\u001b[0;34m[\u001b[0m\u001b[0mvalues\u001b[0m\u001b[0;34m]\u001b[0m\u001b[0;34m\u001b[0m\u001b[0;34m\u001b[0m\u001b[0m\n\u001b[1;32m      8\u001b[0m \u001b[0;34m\u001b[0m\u001b[0m\n\u001b[0;32m----> 9\u001b[0;31m \u001b[0mbici\u001b[0m\u001b[0;34m.\u001b[0m\u001b[0mlesividad\u001b[0m \u001b[0;34m=\u001b[0m \u001b[0mbici\u001b[0m\u001b[0;34m.\u001b[0m\u001b[0mlesividad\u001b[0m\u001b[0;34m.\u001b[0m\u001b[0mapply\u001b[0m\u001b[0;34m(\u001b[0m\u001b[0;32mlambda\u001b[0m \u001b[0mx\u001b[0m\u001b[0;34m:\u001b[0m \u001b[0mchange_injury\u001b[0m\u001b[0;34m(\u001b[0m\u001b[0mstr\u001b[0m\u001b[0;34m(\u001b[0m\u001b[0mx\u001b[0m\u001b[0;34m)\u001b[0m\u001b[0;34m)\u001b[0m\u001b[0;34m)\u001b[0m\u001b[0;34m\u001b[0m\u001b[0;34m\u001b[0m\u001b[0m\n\u001b[0m",
      "\u001b[0;32m~/.local/lib/python3.7/site-packages/pandas/core/series.py\u001b[0m in \u001b[0;36mapply\u001b[0;34m(self, func, convert_dtype, args, **kwds)\u001b[0m\n\u001b[1;32m   4043\u001b[0m             \u001b[0;32melse\u001b[0m\u001b[0;34m:\u001b[0m\u001b[0;34m\u001b[0m\u001b[0;34m\u001b[0m\u001b[0m\n\u001b[1;32m   4044\u001b[0m                 \u001b[0mvalues\u001b[0m \u001b[0;34m=\u001b[0m \u001b[0mself\u001b[0m\u001b[0;34m.\u001b[0m\u001b[0mastype\u001b[0m\u001b[0;34m(\u001b[0m\u001b[0mobject\u001b[0m\u001b[0;34m)\u001b[0m\u001b[0;34m.\u001b[0m\u001b[0mvalues\u001b[0m\u001b[0;34m\u001b[0m\u001b[0;34m\u001b[0m\u001b[0m\n\u001b[0;32m-> 4045\u001b[0;31m                 \u001b[0mmapped\u001b[0m \u001b[0;34m=\u001b[0m \u001b[0mlib\u001b[0m\u001b[0;34m.\u001b[0m\u001b[0mmap_infer\u001b[0m\u001b[0;34m(\u001b[0m\u001b[0mvalues\u001b[0m\u001b[0;34m,\u001b[0m \u001b[0mf\u001b[0m\u001b[0;34m,\u001b[0m \u001b[0mconvert\u001b[0m\u001b[0;34m=\u001b[0m\u001b[0mconvert_dtype\u001b[0m\u001b[0;34m)\u001b[0m\u001b[0;34m\u001b[0m\u001b[0;34m\u001b[0m\u001b[0m\n\u001b[0m\u001b[1;32m   4046\u001b[0m \u001b[0;34m\u001b[0m\u001b[0m\n\u001b[1;32m   4047\u001b[0m         \u001b[0;32mif\u001b[0m \u001b[0mlen\u001b[0m\u001b[0;34m(\u001b[0m\u001b[0mmapped\u001b[0m\u001b[0;34m)\u001b[0m \u001b[0;32mand\u001b[0m \u001b[0misinstance\u001b[0m\u001b[0;34m(\u001b[0m\u001b[0mmapped\u001b[0m\u001b[0;34m[\u001b[0m\u001b[0;36m0\u001b[0m\u001b[0;34m]\u001b[0m\u001b[0;34m,\u001b[0m \u001b[0mSeries\u001b[0m\u001b[0;34m)\u001b[0m\u001b[0;34m:\u001b[0m\u001b[0;34m\u001b[0m\u001b[0;34m\u001b[0m\u001b[0m\n",
      "\u001b[0;32mpandas/_libs/lib.pyx\u001b[0m in \u001b[0;36mpandas._libs.lib.map_infer\u001b[0;34m()\u001b[0m\n",
      "\u001b[0;32m<ipython-input-12-95f82525fbfd>\u001b[0m in \u001b[0;36m<lambda>\u001b[0;34m(x)\u001b[0m\n\u001b[1;32m      7\u001b[0m     \u001b[0;32mreturn\u001b[0m \u001b[0mdict_injury\u001b[0m\u001b[0;34m[\u001b[0m\u001b[0mvalues\u001b[0m\u001b[0;34m]\u001b[0m\u001b[0;34m\u001b[0m\u001b[0;34m\u001b[0m\u001b[0m\n\u001b[1;32m      8\u001b[0m \u001b[0;34m\u001b[0m\u001b[0m\n\u001b[0;32m----> 9\u001b[0;31m \u001b[0mbici\u001b[0m\u001b[0;34m.\u001b[0m\u001b[0mlesividad\u001b[0m \u001b[0;34m=\u001b[0m \u001b[0mbici\u001b[0m\u001b[0;34m.\u001b[0m\u001b[0mlesividad\u001b[0m\u001b[0;34m.\u001b[0m\u001b[0mapply\u001b[0m\u001b[0;34m(\u001b[0m\u001b[0;32mlambda\u001b[0m \u001b[0mx\u001b[0m\u001b[0;34m:\u001b[0m \u001b[0mchange_injury\u001b[0m\u001b[0;34m(\u001b[0m\u001b[0mstr\u001b[0m\u001b[0;34m(\u001b[0m\u001b[0mx\u001b[0m\u001b[0;34m)\u001b[0m\u001b[0;34m)\u001b[0m\u001b[0;34m)\u001b[0m\u001b[0;34m\u001b[0m\u001b[0;34m\u001b[0m\u001b[0m\n\u001b[0m",
      "\u001b[0;32m<ipython-input-12-95f82525fbfd>\u001b[0m in \u001b[0;36mchange_injury\u001b[0;34m(values)\u001b[0m\n\u001b[1;32m      5\u001b[0m         \u001b[0;34m'04'\u001b[0m\u001b[0;34m:\u001b[0m\u001b[0;34m'Fallecido'\u001b[0m\u001b[0;34m,\u001b[0m\u001b[0;34m\u001b[0m\u001b[0;34m\u001b[0m\u001b[0m\n\u001b[1;32m      6\u001b[0m         '05':'Leve','06':'Leve','07':'Leve','14':'Leve'}\n\u001b[0;32m----> 7\u001b[0;31m     \u001b[0;32mreturn\u001b[0m \u001b[0mdict_injury\u001b[0m\u001b[0;34m[\u001b[0m\u001b[0mvalues\u001b[0m\u001b[0;34m]\u001b[0m\u001b[0;34m\u001b[0m\u001b[0;34m\u001b[0m\u001b[0m\n\u001b[0m\u001b[1;32m      8\u001b[0m \u001b[0;34m\u001b[0m\u001b[0m\n\u001b[1;32m      9\u001b[0m \u001b[0mbici\u001b[0m\u001b[0;34m.\u001b[0m\u001b[0mlesividad\u001b[0m \u001b[0;34m=\u001b[0m \u001b[0mbici\u001b[0m\u001b[0;34m.\u001b[0m\u001b[0mlesividad\u001b[0m\u001b[0;34m.\u001b[0m\u001b[0mapply\u001b[0m\u001b[0;34m(\u001b[0m\u001b[0;32mlambda\u001b[0m \u001b[0mx\u001b[0m\u001b[0;34m:\u001b[0m \u001b[0mchange_injury\u001b[0m\u001b[0;34m(\u001b[0m\u001b[0mstr\u001b[0m\u001b[0;34m(\u001b[0m\u001b[0mx\u001b[0m\u001b[0;34m)\u001b[0m\u001b[0;34m)\u001b[0m\u001b[0;34m)\u001b[0m\u001b[0;34m\u001b[0m\u001b[0;34m\u001b[0m\u001b[0m\n",
      "\u001b[0;31mKeyError\u001b[0m: 'nan'"
     ]
    }
   ],
   "source": [
    "def change_injury(values):\n",
    "    dict_injury = {\n",
    "        '01':'Moderada','02':'Moderada',\n",
    "        '03':'Grave',\n",
    "        '04':'Fallecido',\n",
    "        '05':'Leve','06':'Leve','07':'Leve','14':'Leve'}\n",
    "    return dict_injury[values]\n",
    "\n",
    "bici.lesividad = bici.lesividad.apply(lambda x: change_injury(str(x)))    "
   ]
  },
  {
   "cell_type": "code",
   "execution_count": 18,
   "metadata": {},
   "outputs": [
    {
     "data": {
      "text/html": [
       "<div>\n",
       "<style scoped>\n",
       "    .dataframe tbody tr th:only-of-type {\n",
       "        vertical-align: middle;\n",
       "    }\n",
       "\n",
       "    .dataframe tbody tr th {\n",
       "        vertical-align: top;\n",
       "    }\n",
       "\n",
       "    .dataframe thead th {\n",
       "        text-align: right;\n",
       "    }\n",
       "</style>\n",
       "<table border=\"1\" class=\"dataframe\">\n",
       "  <thead>\n",
       "    <tr style=\"text-align: right;\">\n",
       "      <th></th>\n",
       "      <th>num_exp</th>\n",
       "      <th>distrito</th>\n",
       "      <th>tipo_accidente</th>\n",
       "      <th>meteo</th>\n",
       "      <th>vehiculo</th>\n",
       "      <th>persona</th>\n",
       "      <th>edad</th>\n",
       "      <th>sexo</th>\n",
       "      <th>lesividad</th>\n",
       "      <th>fecha</th>\n",
       "      <th>direccion</th>\n",
       "    </tr>\n",
       "  </thead>\n",
       "  <tbody>\n",
       "    <tr>\n",
       "      <th>0</th>\n",
       "      <td>2019S000659</td>\n",
       "      <td>SALAMANCA</td>\n",
       "      <td>Colision</td>\n",
       "      <td>Despejado</td>\n",
       "      <td>Bicicleta</td>\n",
       "      <td>Conductor</td>\n",
       "      <td>DE 25 A 29 AÑOS</td>\n",
       "      <td>Hombre</td>\n",
       "      <td>None</td>\n",
       "      <td>2019-01-01 14:00:00</td>\n",
       "      <td>CALL. CASTELLO / CALL. DON RAMON DE LA CRUZ</td>\n",
       "    </tr>\n",
       "    <tr>\n",
       "      <th>1</th>\n",
       "      <td>2019S000036</td>\n",
       "      <td>HORTALEZA</td>\n",
       "      <td>Colision</td>\n",
       "      <td>Despejado</td>\n",
       "      <td>Bicicleta</td>\n",
       "      <td>Conductor</td>\n",
       "      <td>DE 70 A 74 AÑOS</td>\n",
       "      <td>Hombre</td>\n",
       "      <td>None</td>\n",
       "      <td>2019-01-02 20:45:00</td>\n",
       "      <td>AVDA. GRAN VIA DE HORTALEZA / GTA. LUIS ROSALES</td>\n",
       "    </tr>\n",
       "    <tr>\n",
       "      <th>2</th>\n",
       "      <td>2019S000133</td>\n",
       "      <td>VILLA DE VALLECAS</td>\n",
       "      <td>Colision</td>\n",
       "      <td>Se desconoce</td>\n",
       "      <td>Bicicleta</td>\n",
       "      <td>Conductor</td>\n",
       "      <td>DE 15 A 17 AÑOS</td>\n",
       "      <td>Hombre</td>\n",
       "      <td>None</td>\n",
       "      <td>2019-01-03 14:30:00</td>\n",
       "      <td>CALL. FELIPE ALVAREZ 10</td>\n",
       "    </tr>\n",
       "    <tr>\n",
       "      <th>3</th>\n",
       "      <td>2019S000132</td>\n",
       "      <td>VILLA DE VALLECAS</td>\n",
       "      <td>Colision</td>\n",
       "      <td>Despejado</td>\n",
       "      <td>Bicicleta</td>\n",
       "      <td>Conductor</td>\n",
       "      <td>DE 18 A 20 AÑOS</td>\n",
       "      <td>Hombre</td>\n",
       "      <td>None</td>\n",
       "      <td>2019-01-03 12:45:00</td>\n",
       "      <td>AVDA. SANTA EUGENIA / CALL. REAL DE ARGANDA</td>\n",
       "    </tr>\n",
       "    <tr>\n",
       "      <th>4</th>\n",
       "      <td>2019S000132</td>\n",
       "      <td>VILLA DE VALLECAS</td>\n",
       "      <td>Colision</td>\n",
       "      <td>Despejado</td>\n",
       "      <td>Bicicleta</td>\n",
       "      <td>Conductor</td>\n",
       "      <td>DE 21 A 24 AÑOS</td>\n",
       "      <td>Hombre</td>\n",
       "      <td>None</td>\n",
       "      <td>2019-01-03 12:45:00</td>\n",
       "      <td>AVDA. SANTA EUGENIA / CALL. REAL DE ARGANDA</td>\n",
       "    </tr>\n",
       "  </tbody>\n",
       "</table>\n",
       "</div>"
      ],
      "text/plain": [
       "       num_exp           distrito tipo_accidente         meteo   vehiculo  \\\n",
       "0  2019S000659          SALAMANCA       Colision     Despejado  Bicicleta   \n",
       "1  2019S000036          HORTALEZA       Colision     Despejado  Bicicleta   \n",
       "2  2019S000133  VILLA DE VALLECAS       Colision  Se desconoce  Bicicleta   \n",
       "3  2019S000132  VILLA DE VALLECAS       Colision     Despejado  Bicicleta   \n",
       "4  2019S000132  VILLA DE VALLECAS       Colision     Despejado  Bicicleta   \n",
       "\n",
       "     persona             edad    sexo lesividad               fecha  \\\n",
       "0  Conductor  DE 25 A 29 AÑOS  Hombre      None 2019-01-01 14:00:00   \n",
       "1  Conductor  DE 70 A 74 AÑOS  Hombre      None 2019-01-02 20:45:00   \n",
       "2  Conductor  DE 15 A 17 AÑOS  Hombre      None 2019-01-03 14:30:00   \n",
       "3  Conductor  DE 18 A 20 AÑOS  Hombre      None 2019-01-03 12:45:00   \n",
       "4  Conductor  DE 21 A 24 AÑOS  Hombre      None 2019-01-03 12:45:00   \n",
       "\n",
       "                                          direccion  \n",
       "0      CALL. CASTELLO / CALL. DON RAMON DE LA CRUZ   \n",
       "1  AVDA. GRAN VIA DE HORTALEZA / GTA. LUIS ROSALES   \n",
       "2                           CALL. FELIPE ALVAREZ 10  \n",
       "3      AVDA. SANTA EUGENIA / CALL. REAL DE ARGANDA   \n",
       "4      AVDA. SANTA EUGENIA / CALL. REAL DE ARGANDA   "
      ]
     },
     "execution_count": 18,
     "metadata": {},
     "output_type": "execute_result"
    }
   ],
   "source": [
    "bici.head()"
   ]
  },
  {
   "cell_type": "code",
   "execution_count": 14,
   "metadata": {},
   "outputs": [
    {
     "data": {
      "text/plain": [
       "Series([], Name: lesividad, dtype: int64)"
      ]
     },
     "execution_count": 14,
     "metadata": {},
     "output_type": "execute_result"
    }
   ],
   "source": [
    "bici[bici.tipo_accidente == 'Otro'].lesividad.value_counts()"
   ]
  },
  {
   "cell_type": "code",
   "execution_count": null,
   "metadata": {},
   "outputs": [],
   "source": []
  },
  {
   "cell_type": "code",
   "execution_count": 22,
   "metadata": {},
   "outputs": [
    {
     "data": {
      "text/plain": [
       "Alcance                         20\n",
       "Colisión fronto-lateral         18\n",
       "Colisión lateral                12\n",
       "Caída                           11\n",
       "Atropello a persona              9\n",
       "Colisión frontal                 3\n",
       "Choque contra obstáculo fijo     3\n",
       "Otro                             3\n",
       "Colisión múltiple                1\n",
       "Name: tipo_accidente, dtype: int64"
      ]
     },
     "execution_count": 22,
     "metadata": {},
     "output_type": "execute_result"
    }
   ],
   "source": [
    "bici[bici.lesividad.isna()].tipo_accidente.value_counts()"
   ]
  },
  {
   "cell_type": "code",
   "execution_count": null,
   "metadata": {},
   "outputs": [],
   "source": []
  },
  {
   "cell_type": "code",
   "execution_count": 11,
   "metadata": {},
   "outputs": [
    {
     "data": {
      "text/plain": [
       "Conductor    707\n",
       "Peatón        68\n",
       "Pasajero       4\n",
       "Name: persona, dtype: int64"
      ]
     },
     "execution_count": 11,
     "metadata": {},
     "output_type": "execute_result"
    }
   ],
   "source": [
    "bici.persona.value_counts()"
   ]
  },
  {
   "cell_type": "code",
   "execution_count": 12,
   "metadata": {},
   "outputs": [
    {
     "data": {
      "text/plain": [
       "Hombre    574\n",
       "Mujer     192\n",
       "Name: sexo, dtype: int64"
      ]
     },
     "execution_count": 12,
     "metadata": {},
     "output_type": "execute_result"
    }
   ],
   "source": [
    "bici.sexo.value_counts()"
   ]
  },
  {
   "cell_type": "code",
   "execution_count": null,
   "metadata": {},
   "outputs": [],
   "source": [
    "bici.drop(['sexo', 'vehiculo'], axis=1, inplace = True)"
   ]
  },
  {
   "cell_type": "code",
   "execution_count": null,
   "metadata": {},
   "outputs": [],
   "source": []
  },
  {
   "cell_type": "code",
   "execution_count": null,
   "metadata": {},
   "outputs": [],
   "source": []
  },
  {
   "cell_type": "code",
   "execution_count": null,
   "metadata": {},
   "outputs": [],
   "source": [
    "# encoding='cp850'\n",
    "# encoding='cp1250'\n",
    "\n",
    "# **\n",
    "# encoding='latin_1'\n",
    "# encoding='iso8859_15'"
   ]
  },
  {
   "cell_type": "code",
   "execution_count": null,
   "metadata": {},
   "outputs": [],
   "source": []
  },
  {
   "cell_type": "code",
   "execution_count": null,
   "metadata": {},
   "outputs": [],
   "source": []
  },
  {
   "cell_type": "code",
   "execution_count": null,
   "metadata": {},
   "outputs": [],
   "source": []
  }
 ],
 "metadata": {
  "kernelspec": {
   "display_name": "Python 3",
   "language": "python",
   "name": "python3"
  },
  "language_info": {
   "codemirror_mode": {
    "name": "ipython",
    "version": 3
   },
   "file_extension": ".py",
   "mimetype": "text/x-python",
   "name": "python",
   "nbconvert_exporter": "python",
   "pygments_lexer": "ipython3",
   "version": "3.7.5"
  }
 },
 "nbformat": 4,
 "nbformat_minor": 2
}
