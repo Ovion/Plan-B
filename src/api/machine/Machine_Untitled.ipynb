{
 "cells": [
  {
   "cell_type": "code",
   "execution_count": 1,
   "metadata": {},
   "outputs": [],
   "source": [
    "import pandas as pd\n",
    "import pickle\n",
    "\n",
    "from sklearn.model_selection import train_test_split\n",
    "from sklearn.metrics import mean_squared_error\n",
    "\n",
    "from sklearn.ensemble import RandomForestClassifier\n",
    "from sklearn.neighbors import KNeighborsClassifier"
   ]
  },
  {
   "cell_type": "code",
   "execution_count": 2,
   "metadata": {},
   "outputs": [],
   "source": [
    "data = pd.read_csv('../../input/clean_data/bici_clean.csv')"
   ]
  },
  {
   "cell_type": "code",
   "execution_count": 3,
   "metadata": {},
   "outputs": [],
   "source": [
    "data.drop(['fecha', 'dia', 'year', 'tipo_accidente', 'distrito', 'direccion'],axis=1, inplace = True)"
   ]
  },
  {
   "cell_type": "code",
   "execution_count": 4,
   "metadata": {},
   "outputs": [],
   "source": [
    "def num_horario(value):\n",
    "    dict_hora = {\n",
    "        'Mañana':1,\n",
    "        'Tarde':2,\n",
    "        'Noche':3\n",
    "    }\n",
    "    return dict_hora[value]\n",
    "\n",
    "def num_fest(value):\n",
    "    dict_fest = {\n",
    "        'Laborable':1,\n",
    "        'Vispera':2,\n",
    "        'Festivo':3\n",
    "    }\n",
    "    return dict_fest[value]"
   ]
  },
  {
   "cell_type": "code",
   "execution_count": 5,
   "metadata": {},
   "outputs": [],
   "source": [
    "data.horario = data.horario.apply(lambda x: num_horario(x))\n",
    "data.festividad = data.festividad.apply(lambda x: num_fest(x))\n",
    "data = pd.get_dummies(data, columns=['meteo'], prefix_sep='',prefix='')"
   ]
  },
  {
   "cell_type": "code",
   "execution_count": 6,
   "metadata": {},
   "outputs": [
    {
     "data": {
      "text/html": [
       "<div>\n",
       "<style scoped>\n",
       "    .dataframe tbody tr th:only-of-type {\n",
       "        vertical-align: middle;\n",
       "    }\n",
       "\n",
       "    .dataframe tbody tr th {\n",
       "        vertical-align: top;\n",
       "    }\n",
       "\n",
       "    .dataframe thead th {\n",
       "        text-align: right;\n",
       "    }\n",
       "</style>\n",
       "<table border=\"1\" class=\"dataframe\">\n",
       "  <thead>\n",
       "    <tr style=\"text-align: right;\">\n",
       "      <th></th>\n",
       "      <th>horario</th>\n",
       "      <th>festividad</th>\n",
       "      <th>lesividad</th>\n",
       "      <th>lon</th>\n",
       "      <th>lat</th>\n",
       "      <th>Despejado</th>\n",
       "      <th>Lluvia</th>\n",
       "      <th>Niebla</th>\n",
       "    </tr>\n",
       "  </thead>\n",
       "  <tbody>\n",
       "    <tr>\n",
       "      <th>0</th>\n",
       "      <td>2</td>\n",
       "      <td>3</td>\n",
       "      <td>Moderada</td>\n",
       "      <td>-3.681209</td>\n",
       "      <td>40.428990</td>\n",
       "      <td>1</td>\n",
       "      <td>0</td>\n",
       "      <td>0</td>\n",
       "    </tr>\n",
       "    <tr>\n",
       "      <th>1</th>\n",
       "      <td>3</td>\n",
       "      <td>1</td>\n",
       "      <td>Grave</td>\n",
       "      <td>-3.654527</td>\n",
       "      <td>40.466921</td>\n",
       "      <td>1</td>\n",
       "      <td>0</td>\n",
       "      <td>0</td>\n",
       "    </tr>\n",
       "    <tr>\n",
       "      <th>2</th>\n",
       "      <td>2</td>\n",
       "      <td>1</td>\n",
       "      <td>Leve</td>\n",
       "      <td>-3.623423</td>\n",
       "      <td>40.381971</td>\n",
       "      <td>1</td>\n",
       "      <td>0</td>\n",
       "      <td>0</td>\n",
       "    </tr>\n",
       "    <tr>\n",
       "      <th>3</th>\n",
       "      <td>2</td>\n",
       "      <td>1</td>\n",
       "      <td>Leve</td>\n",
       "      <td>-3.608276</td>\n",
       "      <td>40.377939</td>\n",
       "      <td>1</td>\n",
       "      <td>0</td>\n",
       "      <td>0</td>\n",
       "    </tr>\n",
       "    <tr>\n",
       "      <th>4</th>\n",
       "      <td>2</td>\n",
       "      <td>1</td>\n",
       "      <td>Leve</td>\n",
       "      <td>-3.608276</td>\n",
       "      <td>40.377939</td>\n",
       "      <td>1</td>\n",
       "      <td>0</td>\n",
       "      <td>0</td>\n",
       "    </tr>\n",
       "  </tbody>\n",
       "</table>\n",
       "</div>"
      ],
      "text/plain": [
       "   horario  festividad lesividad       lon        lat  Despejado  Lluvia  \\\n",
       "0        2           3  Moderada -3.681209  40.428990          1       0   \n",
       "1        3           1     Grave -3.654527  40.466921          1       0   \n",
       "2        2           1      Leve -3.623423  40.381971          1       0   \n",
       "3        2           1      Leve -3.608276  40.377939          1       0   \n",
       "4        2           1      Leve -3.608276  40.377939          1       0   \n",
       "\n",
       "   Niebla  \n",
       "0       0  \n",
       "1       0  \n",
       "2       0  \n",
       "3       0  \n",
       "4       0  "
      ]
     },
     "execution_count": 6,
     "metadata": {},
     "output_type": "execute_result"
    }
   ],
   "source": [
    "data.head()"
   ]
  },
  {
   "cell_type": "code",
   "execution_count": null,
   "metadata": {},
   "outputs": [],
   "source": []
  },
  {
   "cell_type": "code",
   "execution_count": 7,
   "metadata": {},
   "outputs": [],
   "source": [
    "X = data.drop(['lesividad'], axis=1)\n",
    "y = data.lesividad\n",
    "X_train, X_test, y_train, y_test = train_test_split(X, y, test_size=0.2)"
   ]
  },
  {
   "cell_type": "code",
   "execution_count": 8,
   "metadata": {},
   "outputs": [
    {
     "data": {
      "text/html": [
       "<div>\n",
       "<style scoped>\n",
       "    .dataframe tbody tr th:only-of-type {\n",
       "        vertical-align: middle;\n",
       "    }\n",
       "\n",
       "    .dataframe tbody tr th {\n",
       "        vertical-align: top;\n",
       "    }\n",
       "\n",
       "    .dataframe thead th {\n",
       "        text-align: right;\n",
       "    }\n",
       "</style>\n",
       "<table border=\"1\" class=\"dataframe\">\n",
       "  <thead>\n",
       "    <tr style=\"text-align: right;\">\n",
       "      <th></th>\n",
       "      <th>horario</th>\n",
       "      <th>festividad</th>\n",
       "      <th>lon</th>\n",
       "      <th>lat</th>\n",
       "      <th>Despejado</th>\n",
       "      <th>Lluvia</th>\n",
       "      <th>Niebla</th>\n",
       "    </tr>\n",
       "  </thead>\n",
       "  <tbody>\n",
       "    <tr>\n",
       "      <th>0</th>\n",
       "      <td>2</td>\n",
       "      <td>3</td>\n",
       "      <td>-3.681209</td>\n",
       "      <td>40.428990</td>\n",
       "      <td>1</td>\n",
       "      <td>0</td>\n",
       "      <td>0</td>\n",
       "    </tr>\n",
       "    <tr>\n",
       "      <th>1</th>\n",
       "      <td>3</td>\n",
       "      <td>1</td>\n",
       "      <td>-3.654527</td>\n",
       "      <td>40.466921</td>\n",
       "      <td>1</td>\n",
       "      <td>0</td>\n",
       "      <td>0</td>\n",
       "    </tr>\n",
       "    <tr>\n",
       "      <th>2</th>\n",
       "      <td>2</td>\n",
       "      <td>1</td>\n",
       "      <td>-3.623423</td>\n",
       "      <td>40.381971</td>\n",
       "      <td>1</td>\n",
       "      <td>0</td>\n",
       "      <td>0</td>\n",
       "    </tr>\n",
       "    <tr>\n",
       "      <th>3</th>\n",
       "      <td>2</td>\n",
       "      <td>1</td>\n",
       "      <td>-3.608276</td>\n",
       "      <td>40.377939</td>\n",
       "      <td>1</td>\n",
       "      <td>0</td>\n",
       "      <td>0</td>\n",
       "    </tr>\n",
       "    <tr>\n",
       "      <th>4</th>\n",
       "      <td>2</td>\n",
       "      <td>1</td>\n",
       "      <td>-3.608276</td>\n",
       "      <td>40.377939</td>\n",
       "      <td>1</td>\n",
       "      <td>0</td>\n",
       "      <td>0</td>\n",
       "    </tr>\n",
       "  </tbody>\n",
       "</table>\n",
       "</div>"
      ],
      "text/plain": [
       "   horario  festividad       lon        lat  Despejado  Lluvia  Niebla\n",
       "0        2           3 -3.681209  40.428990          1       0       0\n",
       "1        3           1 -3.654527  40.466921          1       0       0\n",
       "2        2           1 -3.623423  40.381971          1       0       0\n",
       "3        2           1 -3.608276  40.377939          1       0       0\n",
       "4        2           1 -3.608276  40.377939          1       0       0"
      ]
     },
     "execution_count": 8,
     "metadata": {},
     "output_type": "execute_result"
    }
   ],
   "source": [
    "X.head()"
   ]
  },
  {
   "cell_type": "code",
   "execution_count": 17,
   "metadata": {},
   "outputs": [],
   "source": [
    "rfc = RandomForestClassifier(n_estimators=1000, n_jobs=-1)\n",
    "rfc.fit(X_train, y_train)\n",
    "y_pred = rfc.predict(X_test)\n",
    "\n",
    "params = rfc.get_params\n",
    "\n",
    "dpre=pd.DataFrame({\n",
    "    'pred':y_pred,\n",
    "    'GT':y_test})\n",
    "\n",
    "acierto = round((dpre[dpre.pred == dpre.GT].shape[0]/len(dpre.pred))*100,2)\n",
    "\n",
    "with open('../../output/pred/records.txt', \"a+\") as file:\n",
    "    file.write(\n",
    "        f'''Model: RFC\\t Acierto: {acierto}%\\t Params: {params} \\n\\n'''\n",
    "    )"
   ]
  },
  {
   "cell_type": "code",
   "execution_count": 8,
   "metadata": {},
   "outputs": [],
   "source": [
    "knc = KNeighborsClassifier(n_jobs=-1)\n",
    "knc.fit(X_train, y_train)\n",
    "y_pred = knc.predict(X_test)\n",
    "\n",
    "params = knc.get_params\n",
    "\n",
    "dpre=pd.DataFrame({\n",
    "    'pred':y_pred,\n",
    "    'GT':y_test})\n",
    "\n",
    "acierto = round((dpre[dpre.pred == dpre.GT].shape[0]/len(dpre.pred))*100,2)\n",
    "\n",
    "with open('../../output/pred/records.txt', \"a+\") as file:\n",
    "    file.write(\n",
    "        f'''Model: KNC\\t Acierto: {acierto}%\\t Params: {params} \\n\\n'''\n",
    "    )"
   ]
  },
  {
   "cell_type": "code",
   "execution_count": null,
   "metadata": {},
   "outputs": [],
   "source": []
  },
  {
   "cell_type": "code",
   "execution_count": 9,
   "metadata": {},
   "outputs": [
    {
     "name": "stderr",
     "output_type": "stream",
     "text": [
      "/usr/local/lib/python3.7/dist-packages/sklearn/externals/joblib/__init__.py:15: FutureWarning: sklearn.externals.joblib is deprecated in 0.21 and will be removed in 0.23. Please import this functionality directly from joblib, which can be installed with: pip install joblib. If this warning is raised when loading pickled models, you may need to re-serialize those models with scikit-learn 0.21+.\n",
      "  warnings.warn(msg, category=FutureWarning)\n"
     ]
    },
    {
     "data": {
      "text/plain": [
       "['modelknc.pkl']"
      ]
     },
     "execution_count": 9,
     "metadata": {},
     "output_type": "execute_result"
    }
   ],
   "source": [
    "from sklearn.externals import joblib \n",
    "  \n",
    "# Save the model as a pickle in a file \n",
    "joblib.dump(knc, 'modelknc.pkl') \n",
    "  \n",
    "# Load the model from the file \n",
    "# knn_from_joblib = joblib.load('filename.pkl')  \n",
    "  \n",
    "# # Use the loaded model to make predictions \n",
    "# knn_from_joblib.predict(X_test) "
   ]
  },
  {
   "cell_type": "code",
   "execution_count": 10,
   "metadata": {},
   "outputs": [],
   "source": [
    "saved_model = pickle.dumps(knc) "
   ]
  },
  {
   "cell_type": "code",
   "execution_count": null,
   "metadata": {},
   "outputs": [],
   "source": []
  },
  {
   "cell_type": "code",
   "execution_count": null,
   "metadata": {},
   "outputs": [],
   "source": []
  }
 ],
 "metadata": {
  "kernelspec": {
   "display_name": "Python 3",
   "language": "python",
   "name": "python3"
  },
  "language_info": {
   "codemirror_mode": {
    "name": "ipython",
    "version": 3
   },
   "file_extension": ".py",
   "mimetype": "text/x-python",
   "name": "python",
   "nbconvert_exporter": "python",
   "pygments_lexer": "ipython3",
   "version": "3.7.5"
  }
 },
 "nbformat": 4,
 "nbformat_minor": 2
}
