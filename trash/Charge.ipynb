{
 "cells": [
  {
   "cell_type": "code",
   "execution_count": 1,
   "metadata": {},
   "outputs": [],
   "source": [
    "import requests\n",
    "import pandas as pd\n",
    "from IPython.display import clear_output"
   ]
  },
  {
   "cell_type": "code",
   "execution_count": 2,
   "metadata": {},
   "outputs": [],
   "source": [
    "bicis = pd.read_csv('../../input/clean_data/bici_clean.csv')"
   ]
  },
  {
   "cell_type": "code",
   "execution_count": 3,
   "metadata": {},
   "outputs": [
    {
     "data": {
      "text/plain": [
       "fecha              object\n",
       "dia                object\n",
       "year                int64\n",
       "horario            object\n",
       "festividad         object\n",
       "tipo_accidente     object\n",
       "lesividad          object\n",
       "meteo              object\n",
       "distrito           object\n",
       "direccion          object\n",
       "lon               float64\n",
       "lat               float64\n",
       "dtype: object"
      ]
     },
     "execution_count": 3,
     "metadata": {},
     "output_type": "execute_result"
    }
   ],
   "source": [
    "bicis.dtypes"
   ]
  },
  {
   "cell_type": "code",
   "execution_count": 4,
   "metadata": {},
   "outputs": [
    {
     "data": {
      "text/plain": [
       "(2195, 12)"
      ]
     },
     "execution_count": 4,
     "metadata": {},
     "output_type": "execute_result"
    }
   ],
   "source": [
    "bicis.shape"
   ]
  },
  {
   "cell_type": "code",
   "execution_count": 5,
   "metadata": {},
   "outputs": [
    {
     "data": {
      "text/html": [
       "<div>\n",
       "<style scoped>\n",
       "    .dataframe tbody tr th:only-of-type {\n",
       "        vertical-align: middle;\n",
       "    }\n",
       "\n",
       "    .dataframe tbody tr th {\n",
       "        vertical-align: top;\n",
       "    }\n",
       "\n",
       "    .dataframe thead th {\n",
       "        text-align: right;\n",
       "    }\n",
       "</style>\n",
       "<table border=\"1\" class=\"dataframe\">\n",
       "  <thead>\n",
       "    <tr style=\"text-align: right;\">\n",
       "      <th></th>\n",
       "      <th>fecha</th>\n",
       "      <th>dia</th>\n",
       "      <th>year</th>\n",
       "      <th>horario</th>\n",
       "      <th>festividad</th>\n",
       "      <th>tipo_accidente</th>\n",
       "      <th>lesividad</th>\n",
       "      <th>meteo</th>\n",
       "      <th>distrito</th>\n",
       "      <th>direccion</th>\n",
       "      <th>lon</th>\n",
       "      <th>lat</th>\n",
       "    </tr>\n",
       "  </thead>\n",
       "  <tbody>\n",
       "    <tr>\n",
       "      <th>0</th>\n",
       "      <td>2019-01-01 14:00:00</td>\n",
       "      <td>2019-01-01 00:00:00</td>\n",
       "      <td>2019</td>\n",
       "      <td>Tarde</td>\n",
       "      <td>Festivo</td>\n",
       "      <td>Colision</td>\n",
       "      <td>Moderada</td>\n",
       "      <td>Despejado</td>\n",
       "      <td>SALAMANCA</td>\n",
       "      <td>CALLE CASTELLO / CALLE DON RAMON DE LA CRUZ Ma...</td>\n",
       "      <td>-3.681209</td>\n",
       "      <td>40.428990</td>\n",
       "    </tr>\n",
       "    <tr>\n",
       "      <th>1</th>\n",
       "      <td>2019-01-02 21:00:00</td>\n",
       "      <td>2019-01-02 00:00:00</td>\n",
       "      <td>2019</td>\n",
       "      <td>Noche</td>\n",
       "      <td>Laborable</td>\n",
       "      <td>Colision</td>\n",
       "      <td>Grave</td>\n",
       "      <td>Despejado</td>\n",
       "      <td>HORTALEZA</td>\n",
       "      <td>AVDA. GRAN VIA DE HORTALEZA / GTA. LUIS ROSALE...</td>\n",
       "      <td>-3.654527</td>\n",
       "      <td>40.466921</td>\n",
       "    </tr>\n",
       "    <tr>\n",
       "      <th>2</th>\n",
       "      <td>2019-01-03 14:00:00</td>\n",
       "      <td>2019-01-03 00:00:00</td>\n",
       "      <td>2019</td>\n",
       "      <td>Tarde</td>\n",
       "      <td>Laborable</td>\n",
       "      <td>Colision</td>\n",
       "      <td>Leve</td>\n",
       "      <td>Despejado</td>\n",
       "      <td>VILLA DE VALLECAS</td>\n",
       "      <td>CALLE FELIPE ALVAREZ 10 Madrid</td>\n",
       "      <td>-3.623423</td>\n",
       "      <td>40.381971</td>\n",
       "    </tr>\n",
       "    <tr>\n",
       "      <th>3</th>\n",
       "      <td>2019-01-03 13:00:00</td>\n",
       "      <td>2019-01-03 00:00:00</td>\n",
       "      <td>2019</td>\n",
       "      <td>Tarde</td>\n",
       "      <td>Laborable</td>\n",
       "      <td>Colision</td>\n",
       "      <td>Leve</td>\n",
       "      <td>Despejado</td>\n",
       "      <td>VILLA DE VALLECAS</td>\n",
       "      <td>AVDA. SANTA EUGENIA / CALLE REAL DE ARGANDA Ma...</td>\n",
       "      <td>-3.608276</td>\n",
       "      <td>40.377939</td>\n",
       "    </tr>\n",
       "    <tr>\n",
       "      <th>4</th>\n",
       "      <td>2019-01-03 13:00:00</td>\n",
       "      <td>2019-01-03 00:00:00</td>\n",
       "      <td>2019</td>\n",
       "      <td>Tarde</td>\n",
       "      <td>Laborable</td>\n",
       "      <td>Colision</td>\n",
       "      <td>Leve</td>\n",
       "      <td>Despejado</td>\n",
       "      <td>VILLA DE VALLECAS</td>\n",
       "      <td>AVDA. SANTA EUGENIA / CALLE REAL DE ARGANDA Ma...</td>\n",
       "      <td>-3.608276</td>\n",
       "      <td>40.377939</td>\n",
       "    </tr>\n",
       "  </tbody>\n",
       "</table>\n",
       "</div>"
      ],
      "text/plain": [
       "                 fecha                  dia  year horario festividad  \\\n",
       "0  2019-01-01 14:00:00  2019-01-01 00:00:00  2019   Tarde    Festivo   \n",
       "1  2019-01-02 21:00:00  2019-01-02 00:00:00  2019   Noche  Laborable   \n",
       "2  2019-01-03 14:00:00  2019-01-03 00:00:00  2019   Tarde  Laborable   \n",
       "3  2019-01-03 13:00:00  2019-01-03 00:00:00  2019   Tarde  Laborable   \n",
       "4  2019-01-03 13:00:00  2019-01-03 00:00:00  2019   Tarde  Laborable   \n",
       "\n",
       "  tipo_accidente lesividad      meteo           distrito  \\\n",
       "0       Colision  Moderada  Despejado          SALAMANCA   \n",
       "1       Colision     Grave  Despejado          HORTALEZA   \n",
       "2       Colision      Leve  Despejado  VILLA DE VALLECAS   \n",
       "3       Colision      Leve  Despejado  VILLA DE VALLECAS   \n",
       "4       Colision      Leve  Despejado  VILLA DE VALLECAS   \n",
       "\n",
       "                                           direccion       lon        lat  \n",
       "0  CALLE CASTELLO / CALLE DON RAMON DE LA CRUZ Ma... -3.681209  40.428990  \n",
       "1  AVDA. GRAN VIA DE HORTALEZA / GTA. LUIS ROSALE... -3.654527  40.466921  \n",
       "2                     CALLE FELIPE ALVAREZ 10 Madrid -3.623423  40.381971  \n",
       "3  AVDA. SANTA EUGENIA / CALLE REAL DE ARGANDA Ma... -3.608276  40.377939  \n",
       "4  AVDA. SANTA EUGENIA / CALLE REAL DE ARGANDA Ma... -3.608276  40.377939  "
      ]
     },
     "execution_count": 5,
     "metadata": {},
     "output_type": "execute_result"
    }
   ],
   "source": [
    "bicis.head()"
   ]
  },
  {
   "cell_type": "code",
   "execution_count": null,
   "metadata": {},
   "outputs": [],
   "source": []
  },
  {
   "cell_type": "code",
   "execution_count": null,
   "metadata": {},
   "outputs": [],
   "source": []
  },
  {
   "cell_type": "code",
   "execution_count": null,
   "metadata": {},
   "outputs": [],
   "source": []
  },
  {
   "cell_type": "code",
   "execution_count": null,
   "metadata": {},
   "outputs": [],
   "source": []
  },
  {
   "cell_type": "code",
   "execution_count": 6,
   "metadata": {},
   "outputs": [],
   "source": [
    "url = 'http://localhost:5000/create'\n",
    "for indx, row in bicis.iterrows():\n",
    "    clear_output()\n",
    "    params = {\n",
    "        'fecha':row['fecha'],\n",
    "        'year':row['year'],\n",
    "        'horario':row['horario'],\n",
    "        'festividad':row['festividad'],\n",
    "        'tipo_accidente':row['tipo_accidente'],\n",
    "        'lesividad':row['lesividad'],\n",
    "        'meteo':row['meteo'],\n",
    "        'distrito':row['distrito'],\n",
    "        'direccion':row['direccion'],\n",
    "        'lon':row['lon'],\n",
    "        'lat':row['lat']\n",
    "    }\n",
    "    requests.post(url, data=params).text"
   ]
  },
  {
   "cell_type": "code",
   "execution_count": null,
   "metadata": {},
   "outputs": [],
   "source": [
    "        'localizacion':{\n",
    "            'type':'Point',\n",
    "            'coordinates': [row['lon'], row['lat']]"
   ]
  },
  {
   "cell_type": "code",
   "execution_count": 7,
   "metadata": {},
   "outputs": [
    {
     "data": {
      "text/html": [
       "<div>\n",
       "<style scoped>\n",
       "    .dataframe tbody tr th:only-of-type {\n",
       "        vertical-align: middle;\n",
       "    }\n",
       "\n",
       "    .dataframe tbody tr th {\n",
       "        vertical-align: top;\n",
       "    }\n",
       "\n",
       "    .dataframe thead th {\n",
       "        text-align: right;\n",
       "    }\n",
       "</style>\n",
       "<table border=\"1\" class=\"dataframe\">\n",
       "  <thead>\n",
       "    <tr style=\"text-align: right;\">\n",
       "      <th></th>\n",
       "      <th>fecha</th>\n",
       "      <th>dia</th>\n",
       "      <th>year</th>\n",
       "      <th>horario</th>\n",
       "      <th>festividad</th>\n",
       "      <th>tipo_accidente</th>\n",
       "      <th>lesividad</th>\n",
       "      <th>meteo</th>\n",
       "      <th>distrito</th>\n",
       "      <th>direccion</th>\n",
       "      <th>lon</th>\n",
       "      <th>lat</th>\n",
       "    </tr>\n",
       "  </thead>\n",
       "  <tbody>\n",
       "    <tr>\n",
       "      <th>0</th>\n",
       "      <td>2019-01-01 14:00:00</td>\n",
       "      <td>2019-01-01 00:00:00</td>\n",
       "      <td>2019</td>\n",
       "      <td>Tarde</td>\n",
       "      <td>Festivo</td>\n",
       "      <td>Colision</td>\n",
       "      <td>Moderada</td>\n",
       "      <td>Despejado</td>\n",
       "      <td>SALAMANCA</td>\n",
       "      <td>CALLE CASTELLO / CALLE DON RAMON DE LA CRUZ Ma...</td>\n",
       "      <td>-3.681209</td>\n",
       "      <td>40.428990</td>\n",
       "    </tr>\n",
       "    <tr>\n",
       "      <th>1</th>\n",
       "      <td>2019-01-02 21:00:00</td>\n",
       "      <td>2019-01-02 00:00:00</td>\n",
       "      <td>2019</td>\n",
       "      <td>Noche</td>\n",
       "      <td>Laborable</td>\n",
       "      <td>Colision</td>\n",
       "      <td>Grave</td>\n",
       "      <td>Despejado</td>\n",
       "      <td>HORTALEZA</td>\n",
       "      <td>AVDA. GRAN VIA DE HORTALEZA / GTA. LUIS ROSALE...</td>\n",
       "      <td>-3.654527</td>\n",
       "      <td>40.466921</td>\n",
       "    </tr>\n",
       "    <tr>\n",
       "      <th>2</th>\n",
       "      <td>2019-01-03 14:00:00</td>\n",
       "      <td>2019-01-03 00:00:00</td>\n",
       "      <td>2019</td>\n",
       "      <td>Tarde</td>\n",
       "      <td>Laborable</td>\n",
       "      <td>Colision</td>\n",
       "      <td>Leve</td>\n",
       "      <td>Despejado</td>\n",
       "      <td>VILLA DE VALLECAS</td>\n",
       "      <td>CALLE FELIPE ALVAREZ 10 Madrid</td>\n",
       "      <td>-3.623423</td>\n",
       "      <td>40.381971</td>\n",
       "    </tr>\n",
       "    <tr>\n",
       "      <th>3</th>\n",
       "      <td>2019-01-03 13:00:00</td>\n",
       "      <td>2019-01-03 00:00:00</td>\n",
       "      <td>2019</td>\n",
       "      <td>Tarde</td>\n",
       "      <td>Laborable</td>\n",
       "      <td>Colision</td>\n",
       "      <td>Leve</td>\n",
       "      <td>Despejado</td>\n",
       "      <td>VILLA DE VALLECAS</td>\n",
       "      <td>AVDA. SANTA EUGENIA / CALLE REAL DE ARGANDA Ma...</td>\n",
       "      <td>-3.608276</td>\n",
       "      <td>40.377939</td>\n",
       "    </tr>\n",
       "    <tr>\n",
       "      <th>4</th>\n",
       "      <td>2019-01-03 13:00:00</td>\n",
       "      <td>2019-01-03 00:00:00</td>\n",
       "      <td>2019</td>\n",
       "      <td>Tarde</td>\n",
       "      <td>Laborable</td>\n",
       "      <td>Colision</td>\n",
       "      <td>Leve</td>\n",
       "      <td>Despejado</td>\n",
       "      <td>VILLA DE VALLECAS</td>\n",
       "      <td>AVDA. SANTA EUGENIA / CALLE REAL DE ARGANDA Ma...</td>\n",
       "      <td>-3.608276</td>\n",
       "      <td>40.377939</td>\n",
       "    </tr>\n",
       "  </tbody>\n",
       "</table>\n",
       "</div>"
      ],
      "text/plain": [
       "                 fecha                  dia  year horario festividad  \\\n",
       "0  2019-01-01 14:00:00  2019-01-01 00:00:00  2019   Tarde    Festivo   \n",
       "1  2019-01-02 21:00:00  2019-01-02 00:00:00  2019   Noche  Laborable   \n",
       "2  2019-01-03 14:00:00  2019-01-03 00:00:00  2019   Tarde  Laborable   \n",
       "3  2019-01-03 13:00:00  2019-01-03 00:00:00  2019   Tarde  Laborable   \n",
       "4  2019-01-03 13:00:00  2019-01-03 00:00:00  2019   Tarde  Laborable   \n",
       "\n",
       "  tipo_accidente lesividad      meteo           distrito  \\\n",
       "0       Colision  Moderada  Despejado          SALAMANCA   \n",
       "1       Colision     Grave  Despejado          HORTALEZA   \n",
       "2       Colision      Leve  Despejado  VILLA DE VALLECAS   \n",
       "3       Colision      Leve  Despejado  VILLA DE VALLECAS   \n",
       "4       Colision      Leve  Despejado  VILLA DE VALLECAS   \n",
       "\n",
       "                                           direccion       lon        lat  \n",
       "0  CALLE CASTELLO / CALLE DON RAMON DE LA CRUZ Ma... -3.681209  40.428990  \n",
       "1  AVDA. GRAN VIA DE HORTALEZA / GTA. LUIS ROSALE... -3.654527  40.466921  \n",
       "2                     CALLE FELIPE ALVAREZ 10 Madrid -3.623423  40.381971  \n",
       "3  AVDA. SANTA EUGENIA / CALLE REAL DE ARGANDA Ma... -3.608276  40.377939  \n",
       "4  AVDA. SANTA EUGENIA / CALLE REAL DE ARGANDA Ma... -3.608276  40.377939  "
      ]
     },
     "execution_count": 7,
     "metadata": {},
     "output_type": "execute_result"
    }
   ],
   "source": [
    "bicis.head()"
   ]
  },
  {
   "cell_type": "code",
   "execution_count": 6,
   "metadata": {},
   "outputs": [
    {
     "data": {
      "text/plain": [
       "(2230, 12)"
      ]
     },
     "execution_count": 6,
     "metadata": {},
     "output_type": "execute_result"
    }
   ],
   "source": [
    "bicis.shape"
   ]
  },
  {
   "cell_type": "code",
   "execution_count": null,
   "metadata": {},
   "outputs": [],
   "source": []
  },
  {
   "cell_type": "code",
   "execution_count": null,
   "metadata": {},
   "outputs": [],
   "source": []
  },
  {
   "cell_type": "code",
   "execution_count": null,
   "metadata": {},
   "outputs": [],
   "source": []
  },
  {
   "cell_type": "code",
   "execution_count": null,
   "metadata": {},
   "outputs": [],
   "source": []
  },
  {
   "cell_type": "code",
   "execution_count": null,
   "metadata": {},
   "outputs": [],
   "source": []
  },
  {
   "cell_type": "code",
   "execution_count": null,
   "metadata": {},
   "outputs": [],
   "source": []
  }
 ],
 "metadata": {
  "kernelspec": {
   "display_name": "Python 3",
   "language": "python",
   "name": "python3"
  },
  "language_info": {
   "codemirror_mode": {
    "name": "ipython",
    "version": 3
   },
   "file_extension": ".py",
   "mimetype": "text/x-python",
   "name": "python",
   "nbconvert_exporter": "python",
   "pygments_lexer": "ipython3",
   "version": "3.7.5"
  }
 },
 "nbformat": 4,
 "nbformat_minor": 2
}
