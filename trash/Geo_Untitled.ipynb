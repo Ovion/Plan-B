{
 "cells": [
  {
   "cell_type": "code",
   "execution_count": 1,
   "metadata": {},
   "outputs": [],
   "source": [
    "import pandas as pd\n",
    "import re"
   ]
  },
  {
   "cell_type": "code",
   "execution_count": 2,
   "metadata": {},
   "outputs": [],
   "source": [
    "bici_19 = pd.read_csv('AB_19.csv')\n",
    "bici_18 = pd.read_csv('AB_18.csv')\n",
    "bici_17 = pd.read_csv('AB_17.csv')"
   ]
  },
  {
   "cell_type": "code",
   "execution_count": 3,
   "metadata": {},
   "outputs": [],
   "source": [
    "bici = pd.concat([bici_19, bici_18, bici_17], ignore_index = True)"
   ]
  },
  {
   "cell_type": "code",
   "execution_count": 4,
   "metadata": {},
   "outputs": [
    {
     "data": {
      "text/html": [
       "<div>\n",
       "<style scoped>\n",
       "    .dataframe tbody tr th:only-of-type {\n",
       "        vertical-align: middle;\n",
       "    }\n",
       "\n",
       "    .dataframe tbody tr th {\n",
       "        vertical-align: top;\n",
       "    }\n",
       "\n",
       "    .dataframe thead th {\n",
       "        text-align: right;\n",
       "    }\n",
       "</style>\n",
       "<table border=\"1\" class=\"dataframe\">\n",
       "  <thead>\n",
       "    <tr style=\"text-align: right;\">\n",
       "      <th></th>\n",
       "      <th>fecha</th>\n",
       "      <th>meteo</th>\n",
       "      <th>tipo_accidente</th>\n",
       "      <th>lesividad</th>\n",
       "      <th>distrito</th>\n",
       "      <th>direccion</th>\n",
       "    </tr>\n",
       "  </thead>\n",
       "  <tbody>\n",
       "    <tr>\n",
       "      <th>0</th>\n",
       "      <td>2019-01-01 14:00:00</td>\n",
       "      <td>Despejado</td>\n",
       "      <td>Colision</td>\n",
       "      <td>Moderada</td>\n",
       "      <td>SALAMANCA</td>\n",
       "      <td>CALL. CASTELLO / CALL. DON RAMON DE LA CRUZ</td>\n",
       "    </tr>\n",
       "    <tr>\n",
       "      <th>1</th>\n",
       "      <td>2019-01-02 21:00:00</td>\n",
       "      <td>Despejado</td>\n",
       "      <td>Colision</td>\n",
       "      <td>Grave</td>\n",
       "      <td>HORTALEZA</td>\n",
       "      <td>AVDA. GRAN VIA DE HORTALEZA / GTA. LUIS ROSALES</td>\n",
       "    </tr>\n",
       "    <tr>\n",
       "      <th>2</th>\n",
       "      <td>2019-01-03 14:00:00</td>\n",
       "      <td>Despejado</td>\n",
       "      <td>Colision</td>\n",
       "      <td>Leve</td>\n",
       "      <td>VILLA DE VALLECAS</td>\n",
       "      <td>CALL. FELIPE ALVAREZ 10</td>\n",
       "    </tr>\n",
       "    <tr>\n",
       "      <th>3</th>\n",
       "      <td>2019-01-03 13:00:00</td>\n",
       "      <td>Despejado</td>\n",
       "      <td>Colision</td>\n",
       "      <td>Leve</td>\n",
       "      <td>VILLA DE VALLECAS</td>\n",
       "      <td>AVDA. SANTA EUGENIA / CALL. REAL DE ARGANDA</td>\n",
       "    </tr>\n",
       "    <tr>\n",
       "      <th>4</th>\n",
       "      <td>2019-01-03 13:00:00</td>\n",
       "      <td>Despejado</td>\n",
       "      <td>Colision</td>\n",
       "      <td>Leve</td>\n",
       "      <td>VILLA DE VALLECAS</td>\n",
       "      <td>AVDA. SANTA EUGENIA / CALL. REAL DE ARGANDA</td>\n",
       "    </tr>\n",
       "  </tbody>\n",
       "</table>\n",
       "</div>"
      ],
      "text/plain": [
       "                 fecha      meteo tipo_accidente lesividad           distrito  \\\n",
       "0  2019-01-01 14:00:00  Despejado       Colision  Moderada          SALAMANCA   \n",
       "1  2019-01-02 21:00:00  Despejado       Colision     Grave          HORTALEZA   \n",
       "2  2019-01-03 14:00:00  Despejado       Colision      Leve  VILLA DE VALLECAS   \n",
       "3  2019-01-03 13:00:00  Despejado       Colision      Leve  VILLA DE VALLECAS   \n",
       "4  2019-01-03 13:00:00  Despejado       Colision      Leve  VILLA DE VALLECAS   \n",
       "\n",
       "                                         direccion  \n",
       "0      CALL. CASTELLO / CALL. DON RAMON DE LA CRUZ  \n",
       "1  AVDA. GRAN VIA DE HORTALEZA / GTA. LUIS ROSALES  \n",
       "2                          CALL. FELIPE ALVAREZ 10  \n",
       "3      AVDA. SANTA EUGENIA / CALL. REAL DE ARGANDA  \n",
       "4      AVDA. SANTA EUGENIA / CALL. REAL DE ARGANDA  "
      ]
     },
     "execution_count": 4,
     "metadata": {},
     "output_type": "execute_result"
    }
   ],
   "source": [
    "bici.head()"
   ]
  },
  {
   "cell_type": "code",
   "execution_count": 5,
   "metadata": {},
   "outputs": [],
   "source": [
    "def horario(df):\n",
    "    df['fecha'] = pd.to_datetime(df['fecha'], yearfirst=True)\n",
    "    df['hora'] = df.fecha.dt.hour\n",
    "    df['horario'] = df.hora.apply(lambda x: 'Mañana' if (x>=6 and x<=12) else ('Tarde' if (x>12 and x<=20) else 'Noche'))\n",
    "    df.drop(['hora'], axis = 1, inplace = True)\n",
    "    df['dia'] = df.fecha.dt.date\n",
    "    df.dia = pd.to_datetime(df.dia, yearfirst=True)\n",
    "    return df\n"
   ]
  },
  {
   "cell_type": "code",
   "execution_count": 6,
   "metadata": {},
   "outputs": [],
   "source": [
    "bici = horario(bici)"
   ]
  },
  {
   "cell_type": "code",
   "execution_count": 7,
   "metadata": {},
   "outputs": [
    {
     "data": {
      "text/html": [
       "<div>\n",
       "<style scoped>\n",
       "    .dataframe tbody tr th:only-of-type {\n",
       "        vertical-align: middle;\n",
       "    }\n",
       "\n",
       "    .dataframe tbody tr th {\n",
       "        vertical-align: top;\n",
       "    }\n",
       "\n",
       "    .dataframe thead th {\n",
       "        text-align: right;\n",
       "    }\n",
       "</style>\n",
       "<table border=\"1\" class=\"dataframe\">\n",
       "  <thead>\n",
       "    <tr style=\"text-align: right;\">\n",
       "      <th></th>\n",
       "      <th>fecha</th>\n",
       "      <th>meteo</th>\n",
       "      <th>tipo_accidente</th>\n",
       "      <th>lesividad</th>\n",
       "      <th>distrito</th>\n",
       "      <th>direccion</th>\n",
       "      <th>horario</th>\n",
       "      <th>dia</th>\n",
       "    </tr>\n",
       "  </thead>\n",
       "  <tbody>\n",
       "    <tr>\n",
       "      <th>0</th>\n",
       "      <td>2019-01-01 14:00:00</td>\n",
       "      <td>Despejado</td>\n",
       "      <td>Colision</td>\n",
       "      <td>Moderada</td>\n",
       "      <td>SALAMANCA</td>\n",
       "      <td>CALL. CASTELLO / CALL. DON RAMON DE LA CRUZ</td>\n",
       "      <td>Tarde</td>\n",
       "      <td>2019-01-01</td>\n",
       "    </tr>\n",
       "    <tr>\n",
       "      <th>1</th>\n",
       "      <td>2019-01-02 21:00:00</td>\n",
       "      <td>Despejado</td>\n",
       "      <td>Colision</td>\n",
       "      <td>Grave</td>\n",
       "      <td>HORTALEZA</td>\n",
       "      <td>AVDA. GRAN VIA DE HORTALEZA / GTA. LUIS ROSALES</td>\n",
       "      <td>Noche</td>\n",
       "      <td>2019-01-02</td>\n",
       "    </tr>\n",
       "    <tr>\n",
       "      <th>2</th>\n",
       "      <td>2019-01-03 14:00:00</td>\n",
       "      <td>Despejado</td>\n",
       "      <td>Colision</td>\n",
       "      <td>Leve</td>\n",
       "      <td>VILLA DE VALLECAS</td>\n",
       "      <td>CALL. FELIPE ALVAREZ 10</td>\n",
       "      <td>Tarde</td>\n",
       "      <td>2019-01-03</td>\n",
       "    </tr>\n",
       "    <tr>\n",
       "      <th>3</th>\n",
       "      <td>2019-01-03 13:00:00</td>\n",
       "      <td>Despejado</td>\n",
       "      <td>Colision</td>\n",
       "      <td>Leve</td>\n",
       "      <td>VILLA DE VALLECAS</td>\n",
       "      <td>AVDA. SANTA EUGENIA / CALL. REAL DE ARGANDA</td>\n",
       "      <td>Tarde</td>\n",
       "      <td>2019-01-03</td>\n",
       "    </tr>\n",
       "    <tr>\n",
       "      <th>4</th>\n",
       "      <td>2019-01-03 13:00:00</td>\n",
       "      <td>Despejado</td>\n",
       "      <td>Colision</td>\n",
       "      <td>Leve</td>\n",
       "      <td>VILLA DE VALLECAS</td>\n",
       "      <td>AVDA. SANTA EUGENIA / CALL. REAL DE ARGANDA</td>\n",
       "      <td>Tarde</td>\n",
       "      <td>2019-01-03</td>\n",
       "    </tr>\n",
       "  </tbody>\n",
       "</table>\n",
       "</div>"
      ],
      "text/plain": [
       "                fecha      meteo tipo_accidente lesividad           distrito  \\\n",
       "0 2019-01-01 14:00:00  Despejado       Colision  Moderada          SALAMANCA   \n",
       "1 2019-01-02 21:00:00  Despejado       Colision     Grave          HORTALEZA   \n",
       "2 2019-01-03 14:00:00  Despejado       Colision      Leve  VILLA DE VALLECAS   \n",
       "3 2019-01-03 13:00:00  Despejado       Colision      Leve  VILLA DE VALLECAS   \n",
       "4 2019-01-03 13:00:00  Despejado       Colision      Leve  VILLA DE VALLECAS   \n",
       "\n",
       "                                         direccion horario        dia  \n",
       "0      CALL. CASTELLO / CALL. DON RAMON DE LA CRUZ   Tarde 2019-01-01  \n",
       "1  AVDA. GRAN VIA DE HORTALEZA / GTA. LUIS ROSALES   Noche 2019-01-02  \n",
       "2                          CALL. FELIPE ALVAREZ 10   Tarde 2019-01-03  \n",
       "3      AVDA. SANTA EUGENIA / CALL. REAL DE ARGANDA   Tarde 2019-01-03  \n",
       "4      AVDA. SANTA EUGENIA / CALL. REAL DE ARGANDA   Tarde 2019-01-03  "
      ]
     },
     "execution_count": 7,
     "metadata": {},
     "output_type": "execute_result"
    }
   ],
   "source": [
    "bici.head()"
   ]
  },
  {
   "cell_type": "code",
   "execution_count": 8,
   "metadata": {},
   "outputs": [
    {
     "data": {
      "text/plain": [
       "(2235, 8)"
      ]
     },
     "execution_count": 8,
     "metadata": {},
     "output_type": "execute_result"
    }
   ],
   "source": [
    "bici.shape"
   ]
  },
  {
   "cell_type": "code",
   "execution_count": 9,
   "metadata": {},
   "outputs": [
    {
     "data": {
      "text/plain": [
       "fecha             datetime64[ns]\n",
       "meteo                     object\n",
       "tipo_accidente            object\n",
       "lesividad                 object\n",
       "distrito                  object\n",
       "direccion                 object\n",
       "horario                   object\n",
       "dia               datetime64[ns]\n",
       "dtype: object"
      ]
     },
     "execution_count": 9,
     "metadata": {},
     "output_type": "execute_result"
    }
   ],
   "source": [
    "bici.dtypes"
   ]
  },
  {
   "cell_type": "code",
   "execution_count": null,
   "metadata": {},
   "outputs": [],
   "source": []
  },
  {
   "cell_type": "code",
   "execution_count": 10,
   "metadata": {},
   "outputs": [],
   "source": [
    "cal = pd.read_csv ('../raw_data/bicicletas/calendario.csv', encoding='latin_1',sep = ';')"
   ]
  },
  {
   "cell_type": "code",
   "execution_count": 11,
   "metadata": {},
   "outputs": [],
   "source": [
    "cal.drop(['Dia_semana', 'Tipo de Festivo', 'Festividad'], axis = 1, inplace = True)"
   ]
  },
  {
   "cell_type": "code",
   "execution_count": 12,
   "metadata": {},
   "outputs": [],
   "source": [
    "cal.Dia = pd.to_datetime(cal['Dia'], dayfirst=True)"
   ]
  },
  {
   "cell_type": "code",
   "execution_count": 13,
   "metadata": {},
   "outputs": [],
   "source": [
    "cal.rename(columns={'Dia':'dia', 'laborable / festivo / domingo festivo':'festividad'}, inplace=True)"
   ]
  },
  {
   "cell_type": "code",
   "execution_count": 14,
   "metadata": {},
   "outputs": [],
   "source": [
    "cal.festividad = cal.festividad.apply(lambda x: 'Festivo' if (x=='domingo' or x=='festivo') else 'Laborable')"
   ]
  },
  {
   "cell_type": "code",
   "execution_count": 15,
   "metadata": {},
   "outputs": [
    {
     "data": {
      "text/plain": [
       "dia           datetime64[ns]\n",
       "festividad            object\n",
       "dtype: object"
      ]
     },
     "execution_count": 15,
     "metadata": {},
     "output_type": "execute_result"
    }
   ],
   "source": [
    "cal.dtypes"
   ]
  },
  {
   "cell_type": "code",
   "execution_count": 16,
   "metadata": {},
   "outputs": [
    {
     "data": {
      "text/html": [
       "<div>\n",
       "<style scoped>\n",
       "    .dataframe tbody tr th:only-of-type {\n",
       "        vertical-align: middle;\n",
       "    }\n",
       "\n",
       "    .dataframe tbody tr th {\n",
       "        vertical-align: top;\n",
       "    }\n",
       "\n",
       "    .dataframe thead th {\n",
       "        text-align: right;\n",
       "    }\n",
       "</style>\n",
       "<table border=\"1\" class=\"dataframe\">\n",
       "  <thead>\n",
       "    <tr style=\"text-align: right;\">\n",
       "      <th></th>\n",
       "      <th>dia</th>\n",
       "      <th>festividad</th>\n",
       "    </tr>\n",
       "  </thead>\n",
       "  <tbody>\n",
       "    <tr>\n",
       "      <th>0</th>\n",
       "      <td>2013-01-01</td>\n",
       "      <td>Festivo</td>\n",
       "    </tr>\n",
       "    <tr>\n",
       "      <th>1</th>\n",
       "      <td>2013-01-02</td>\n",
       "      <td>Laborable</td>\n",
       "    </tr>\n",
       "    <tr>\n",
       "      <th>2</th>\n",
       "      <td>2013-01-03</td>\n",
       "      <td>Laborable</td>\n",
       "    </tr>\n",
       "    <tr>\n",
       "      <th>3</th>\n",
       "      <td>2013-01-04</td>\n",
       "      <td>Laborable</td>\n",
       "    </tr>\n",
       "    <tr>\n",
       "      <th>4</th>\n",
       "      <td>2013-01-05</td>\n",
       "      <td>Laborable</td>\n",
       "    </tr>\n",
       "  </tbody>\n",
       "</table>\n",
       "</div>"
      ],
      "text/plain": [
       "         dia festividad\n",
       "0 2013-01-01    Festivo\n",
       "1 2013-01-02  Laborable\n",
       "2 2013-01-03  Laborable\n",
       "3 2013-01-04  Laborable\n",
       "4 2013-01-05  Laborable"
      ]
     },
     "execution_count": 16,
     "metadata": {},
     "output_type": "execute_result"
    }
   ],
   "source": [
    "cal.head()"
   ]
  },
  {
   "cell_type": "code",
   "execution_count": 17,
   "metadata": {},
   "outputs": [],
   "source": [
    "bici = bici.merge(cal, how='left', on='dia')"
   ]
  },
  {
   "cell_type": "code",
   "execution_count": 18,
   "metadata": {},
   "outputs": [
    {
     "data": {
      "text/html": [
       "<div>\n",
       "<style scoped>\n",
       "    .dataframe tbody tr th:only-of-type {\n",
       "        vertical-align: middle;\n",
       "    }\n",
       "\n",
       "    .dataframe tbody tr th {\n",
       "        vertical-align: top;\n",
       "    }\n",
       "\n",
       "    .dataframe thead th {\n",
       "        text-align: right;\n",
       "    }\n",
       "</style>\n",
       "<table border=\"1\" class=\"dataframe\">\n",
       "  <thead>\n",
       "    <tr style=\"text-align: right;\">\n",
       "      <th></th>\n",
       "      <th>fecha</th>\n",
       "      <th>meteo</th>\n",
       "      <th>tipo_accidente</th>\n",
       "      <th>lesividad</th>\n",
       "      <th>distrito</th>\n",
       "      <th>direccion</th>\n",
       "      <th>horario</th>\n",
       "      <th>dia</th>\n",
       "      <th>festividad</th>\n",
       "    </tr>\n",
       "  </thead>\n",
       "  <tbody>\n",
       "    <tr>\n",
       "      <th>0</th>\n",
       "      <td>2019-01-01 14:00:00</td>\n",
       "      <td>Despejado</td>\n",
       "      <td>Colision</td>\n",
       "      <td>Moderada</td>\n",
       "      <td>SALAMANCA</td>\n",
       "      <td>CALL. CASTELLO / CALL. DON RAMON DE LA CRUZ</td>\n",
       "      <td>Tarde</td>\n",
       "      <td>2019-01-01</td>\n",
       "      <td>Festivo</td>\n",
       "    </tr>\n",
       "    <tr>\n",
       "      <th>1</th>\n",
       "      <td>2019-01-02 21:00:00</td>\n",
       "      <td>Despejado</td>\n",
       "      <td>Colision</td>\n",
       "      <td>Grave</td>\n",
       "      <td>HORTALEZA</td>\n",
       "      <td>AVDA. GRAN VIA DE HORTALEZA / GTA. LUIS ROSALES</td>\n",
       "      <td>Noche</td>\n",
       "      <td>2019-01-02</td>\n",
       "      <td>Laborable</td>\n",
       "    </tr>\n",
       "    <tr>\n",
       "      <th>2</th>\n",
       "      <td>2019-01-03 14:00:00</td>\n",
       "      <td>Despejado</td>\n",
       "      <td>Colision</td>\n",
       "      <td>Leve</td>\n",
       "      <td>VILLA DE VALLECAS</td>\n",
       "      <td>CALL. FELIPE ALVAREZ 10</td>\n",
       "      <td>Tarde</td>\n",
       "      <td>2019-01-03</td>\n",
       "      <td>Laborable</td>\n",
       "    </tr>\n",
       "    <tr>\n",
       "      <th>3</th>\n",
       "      <td>2019-01-03 13:00:00</td>\n",
       "      <td>Despejado</td>\n",
       "      <td>Colision</td>\n",
       "      <td>Leve</td>\n",
       "      <td>VILLA DE VALLECAS</td>\n",
       "      <td>AVDA. SANTA EUGENIA / CALL. REAL DE ARGANDA</td>\n",
       "      <td>Tarde</td>\n",
       "      <td>2019-01-03</td>\n",
       "      <td>Laborable</td>\n",
       "    </tr>\n",
       "    <tr>\n",
       "      <th>4</th>\n",
       "      <td>2019-01-03 13:00:00</td>\n",
       "      <td>Despejado</td>\n",
       "      <td>Colision</td>\n",
       "      <td>Leve</td>\n",
       "      <td>VILLA DE VALLECAS</td>\n",
       "      <td>AVDA. SANTA EUGENIA / CALL. REAL DE ARGANDA</td>\n",
       "      <td>Tarde</td>\n",
       "      <td>2019-01-03</td>\n",
       "      <td>Laborable</td>\n",
       "    </tr>\n",
       "  </tbody>\n",
       "</table>\n",
       "</div>"
      ],
      "text/plain": [
       "                fecha      meteo tipo_accidente lesividad           distrito  \\\n",
       "0 2019-01-01 14:00:00  Despejado       Colision  Moderada          SALAMANCA   \n",
       "1 2019-01-02 21:00:00  Despejado       Colision     Grave          HORTALEZA   \n",
       "2 2019-01-03 14:00:00  Despejado       Colision      Leve  VILLA DE VALLECAS   \n",
       "3 2019-01-03 13:00:00  Despejado       Colision      Leve  VILLA DE VALLECAS   \n",
       "4 2019-01-03 13:00:00  Despejado       Colision      Leve  VILLA DE VALLECAS   \n",
       "\n",
       "                                         direccion horario        dia  \\\n",
       "0      CALL. CASTELLO / CALL. DON RAMON DE LA CRUZ   Tarde 2019-01-01   \n",
       "1  AVDA. GRAN VIA DE HORTALEZA / GTA. LUIS ROSALES   Noche 2019-01-02   \n",
       "2                          CALL. FELIPE ALVAREZ 10   Tarde 2019-01-03   \n",
       "3      AVDA. SANTA EUGENIA / CALL. REAL DE ARGANDA   Tarde 2019-01-03   \n",
       "4      AVDA. SANTA EUGENIA / CALL. REAL DE ARGANDA   Tarde 2019-01-03   \n",
       "\n",
       "  festividad  \n",
       "0    Festivo  \n",
       "1  Laborable  \n",
       "2  Laborable  \n",
       "3  Laborable  \n",
       "4  Laborable  "
      ]
     },
     "execution_count": 18,
     "metadata": {},
     "output_type": "execute_result"
    }
   ],
   "source": [
    "bici.head()"
   ]
  },
  {
   "cell_type": "code",
   "execution_count": 19,
   "metadata": {},
   "outputs": [],
   "source": [
    "bici.direccion = bici.direccion.apply(lambda x: re.sub(r'CALL.', 'CALLE', x))"
   ]
  },
  {
   "cell_type": "code",
   "execution_count": 20,
   "metadata": {},
   "outputs": [],
   "source": [
    "bici.direccion = bici.direccion + ' Madrid'"
   ]
  },
  {
   "cell_type": "code",
   "execution_count": 21,
   "metadata": {},
   "outputs": [],
   "source": [
    "bici['lon']=''\n",
    "bici['lat']=''"
   ]
  },
  {
   "cell_type": "code",
   "execution_count": null,
   "metadata": {},
   "outputs": [],
   "source": []
  },
  {
   "cell_type": "code",
   "execution_count": null,
   "metadata": {},
   "outputs": [],
   "source": []
  },
  {
   "cell_type": "code",
   "execution_count": 22,
   "metadata": {},
   "outputs": [],
   "source": [
    "from googlemaps import Client as GoogleMaps\n",
    "from dotenv import load_dotenv\n",
    "import os"
   ]
  },
  {
   "cell_type": "code",
   "execution_count": 23,
   "metadata": {},
   "outputs": [],
   "source": [
    "load_dotenv()\n",
    "G_KEY = os.getenv(\"KEY_GOOGLE\")"
   ]
  },
  {
   "cell_type": "code",
   "execution_count": 24,
   "metadata": {},
   "outputs": [],
   "source": [
    "gmaps=GoogleMaps(G_KEY)"
   ]
  },
  {
   "cell_type": "code",
   "execution_count": 25,
   "metadata": {},
   "outputs": [],
   "source": [
    "addresses = bici[0:3]"
   ]
  },
  {
   "cell_type": "code",
   "execution_count": 26,
   "metadata": {},
   "outputs": [
    {
     "data": {
      "text/html": [
       "<div>\n",
       "<style scoped>\n",
       "    .dataframe tbody tr th:only-of-type {\n",
       "        vertical-align: middle;\n",
       "    }\n",
       "\n",
       "    .dataframe tbody tr th {\n",
       "        vertical-align: top;\n",
       "    }\n",
       "\n",
       "    .dataframe thead th {\n",
       "        text-align: right;\n",
       "    }\n",
       "</style>\n",
       "<table border=\"1\" class=\"dataframe\">\n",
       "  <thead>\n",
       "    <tr style=\"text-align: right;\">\n",
       "      <th></th>\n",
       "      <th>fecha</th>\n",
       "      <th>meteo</th>\n",
       "      <th>tipo_accidente</th>\n",
       "      <th>lesividad</th>\n",
       "      <th>distrito</th>\n",
       "      <th>direccion</th>\n",
       "      <th>horario</th>\n",
       "      <th>dia</th>\n",
       "      <th>festividad</th>\n",
       "      <th>lon</th>\n",
       "      <th>lat</th>\n",
       "    </tr>\n",
       "  </thead>\n",
       "  <tbody>\n",
       "    <tr>\n",
       "      <th>0</th>\n",
       "      <td>2019-01-01 14:00:00</td>\n",
       "      <td>Despejado</td>\n",
       "      <td>Colision</td>\n",
       "      <td>Moderada</td>\n",
       "      <td>SALAMANCA</td>\n",
       "      <td>CALLE CASTELLO / CALLE DON RAMON DE LA CRUZ Ma...</td>\n",
       "      <td>Tarde</td>\n",
       "      <td>2019-01-01</td>\n",
       "      <td>Festivo</td>\n",
       "      <td></td>\n",
       "      <td></td>\n",
       "    </tr>\n",
       "    <tr>\n",
       "      <th>1</th>\n",
       "      <td>2019-01-02 21:00:00</td>\n",
       "      <td>Despejado</td>\n",
       "      <td>Colision</td>\n",
       "      <td>Grave</td>\n",
       "      <td>HORTALEZA</td>\n",
       "      <td>AVDA. GRAN VIA DE HORTALEZA / GTA. LUIS ROSALE...</td>\n",
       "      <td>Noche</td>\n",
       "      <td>2019-01-02</td>\n",
       "      <td>Laborable</td>\n",
       "      <td></td>\n",
       "      <td></td>\n",
       "    </tr>\n",
       "    <tr>\n",
       "      <th>2</th>\n",
       "      <td>2019-01-03 14:00:00</td>\n",
       "      <td>Despejado</td>\n",
       "      <td>Colision</td>\n",
       "      <td>Leve</td>\n",
       "      <td>VILLA DE VALLECAS</td>\n",
       "      <td>CALLE FELIPE ALVAREZ 10 Madrid</td>\n",
       "      <td>Tarde</td>\n",
       "      <td>2019-01-03</td>\n",
       "      <td>Laborable</td>\n",
       "      <td></td>\n",
       "      <td></td>\n",
       "    </tr>\n",
       "  </tbody>\n",
       "</table>\n",
       "</div>"
      ],
      "text/plain": [
       "                fecha      meteo tipo_accidente lesividad           distrito  \\\n",
       "0 2019-01-01 14:00:00  Despejado       Colision  Moderada          SALAMANCA   \n",
       "1 2019-01-02 21:00:00  Despejado       Colision     Grave          HORTALEZA   \n",
       "2 2019-01-03 14:00:00  Despejado       Colision      Leve  VILLA DE VALLECAS   \n",
       "\n",
       "                                           direccion horario        dia  \\\n",
       "0  CALLE CASTELLO / CALLE DON RAMON DE LA CRUZ Ma...   Tarde 2019-01-01   \n",
       "1  AVDA. GRAN VIA DE HORTALEZA / GTA. LUIS ROSALE...   Noche 2019-01-02   \n",
       "2                     CALLE FELIPE ALVAREZ 10 Madrid   Tarde 2019-01-03   \n",
       "\n",
       "  festividad lon lat  \n",
       "0    Festivo          \n",
       "1  Laborable          \n",
       "2  Laborable          "
      ]
     },
     "execution_count": 26,
     "metadata": {},
     "output_type": "execute_result"
    }
   ],
   "source": [
    "addresses"
   ]
  },
  {
   "cell_type": "code",
   "execution_count": 33,
   "metadata": {},
   "outputs": [
    {
     "data": {
      "text/plain": [
       "'AVDA. GRAN VIA DE HORTALEZA / GTA. LUIS ROSALES Madrid'"
      ]
     },
     "execution_count": 33,
     "metadata": {},
     "output_type": "execute_result"
    }
   ],
   "source": [
    "addresses.iat[i,addresses.columns.get_loc('direccion')]"
   ]
  },
  {
   "cell_type": "code",
   "execution_count": null,
   "metadata": {},
   "outputs": [],
   "source": []
  },
  {
   "cell_type": "code",
   "execution_count": 28,
   "metadata": {},
   "outputs": [
    {
     "name": "stderr",
     "output_type": "stream",
     "text": [
      "/home/ovi/.local/lib/python3.7/site-packages/ipykernel_launcher.py:3: SettingWithCopyWarning: \n",
      "A value is trying to be set on a copy of a slice from a DataFrame\n",
      "\n",
      "See the caveats in the documentation: http://pandas.pydata.org/pandas-docs/stable/user_guide/indexing.html#returning-a-view-versus-a-copy\n",
      "  This is separate from the ipykernel package so we can avoid doing imports until\n",
      "/home/ovi/.local/lib/python3.7/site-packages/ipykernel_launcher.py:4: SettingWithCopyWarning: \n",
      "A value is trying to be set on a copy of a slice from a DataFrame\n",
      "\n",
      "See the caveats in the documentation: http://pandas.pydata.org/pandas-docs/stable/user_guide/indexing.html#returning-a-view-versus-a-copy\n",
      "  after removing the cwd from sys.path.\n"
     ]
    }
   ],
   "source": [
    "# for x in range(len(addresses)):\n",
    "#     geocode_result = gmaps.geocode(addresses['direccion'][x])\n",
    "#     addresses['lat'][x] = geocode_result[0]['geometry']['location'] ['lat']\n",
    "#     addresses['lon'][x] = geocode_result[0]['geometry']['location']['lng']"
   ]
  },
  {
   "cell_type": "code",
   "execution_count": 25,
   "metadata": {},
   "outputs": [],
   "source": [
    "wasd = bici[0:2]"
   ]
  },
  {
   "cell_type": "code",
   "execution_count": 26,
   "metadata": {},
   "outputs": [
    {
     "data": {
      "text/html": [
       "<div>\n",
       "<style scoped>\n",
       "    .dataframe tbody tr th:only-of-type {\n",
       "        vertical-align: middle;\n",
       "    }\n",
       "\n",
       "    .dataframe tbody tr th {\n",
       "        vertical-align: top;\n",
       "    }\n",
       "\n",
       "    .dataframe thead th {\n",
       "        text-align: right;\n",
       "    }\n",
       "</style>\n",
       "<table border=\"1\" class=\"dataframe\">\n",
       "  <thead>\n",
       "    <tr style=\"text-align: right;\">\n",
       "      <th></th>\n",
       "      <th>fecha</th>\n",
       "      <th>meteo</th>\n",
       "      <th>tipo_accidente</th>\n",
       "      <th>lesividad</th>\n",
       "      <th>distrito</th>\n",
       "      <th>direccion</th>\n",
       "      <th>horario</th>\n",
       "      <th>dia</th>\n",
       "      <th>festividad</th>\n",
       "      <th>lon</th>\n",
       "      <th>lat</th>\n",
       "    </tr>\n",
       "  </thead>\n",
       "  <tbody>\n",
       "    <tr>\n",
       "      <th>0</th>\n",
       "      <td>2019-01-01 14:00:00</td>\n",
       "      <td>Despejado</td>\n",
       "      <td>Colision</td>\n",
       "      <td>Moderada</td>\n",
       "      <td>SALAMANCA</td>\n",
       "      <td>CALLE CASTELLO / CALLE DON RAMON DE LA CRUZ Ma...</td>\n",
       "      <td>Tarde</td>\n",
       "      <td>2019-01-01</td>\n",
       "      <td>Festivo</td>\n",
       "      <td></td>\n",
       "      <td></td>\n",
       "    </tr>\n",
       "    <tr>\n",
       "      <th>1</th>\n",
       "      <td>2019-01-02 21:00:00</td>\n",
       "      <td>Despejado</td>\n",
       "      <td>Colision</td>\n",
       "      <td>Grave</td>\n",
       "      <td>HORTALEZA</td>\n",
       "      <td>AVDA. GRAN VIA DE HORTALEZA / GTA. LUIS ROSALE...</td>\n",
       "      <td>Noche</td>\n",
       "      <td>2019-01-02</td>\n",
       "      <td>Laborable</td>\n",
       "      <td></td>\n",
       "      <td></td>\n",
       "    </tr>\n",
       "  </tbody>\n",
       "</table>\n",
       "</div>"
      ],
      "text/plain": [
       "                fecha      meteo tipo_accidente lesividad   distrito  \\\n",
       "0 2019-01-01 14:00:00  Despejado       Colision  Moderada  SALAMANCA   \n",
       "1 2019-01-02 21:00:00  Despejado       Colision     Grave  HORTALEZA   \n",
       "\n",
       "                                           direccion horario        dia  \\\n",
       "0  CALLE CASTELLO / CALLE DON RAMON DE LA CRUZ Ma...   Tarde 2019-01-01   \n",
       "1  AVDA. GRAN VIA DE HORTALEZA / GTA. LUIS ROSALE...   Noche 2019-01-02   \n",
       "\n",
       "  festividad lon lat  \n",
       "0    Festivo          \n",
       "1  Laborable          "
      ]
     },
     "execution_count": 26,
     "metadata": {},
     "output_type": "execute_result"
    }
   ],
   "source": [
    "wasd"
   ]
  },
  {
   "cell_type": "code",
   "execution_count": null,
   "metadata": {},
   "outputs": [],
   "source": []
  },
  {
   "cell_type": "code",
   "execution_count": 27,
   "metadata": {},
   "outputs": [],
   "source": [
    "for i in range(len(wasd)):\n",
    "    geocode_result = gmaps.geocode(wasd.iat[i, wasd.columns.get_loc('direccion')])\n",
    "    try:\n",
    "        lat = geocode_result[0][\"geometry\"][\"location\"][\"lat\"]\n",
    "        lon = geocode_result[0][\"geometry\"][\"location\"][\"lng\"]\n",
    "        wasd.iat[i, wasd.columns.get_loc('lat')] = lat\n",
    "        wasd.iat[i, wasd.columns.get_loc('lon')] = lon\n",
    "    except:\n",
    "        lat = None\n",
    "        lon = None"
   ]
  },
  {
   "cell_type": "code",
   "execution_count": 28,
   "metadata": {},
   "outputs": [
    {
     "data": {
      "text/html": [
       "<div>\n",
       "<style scoped>\n",
       "    .dataframe tbody tr th:only-of-type {\n",
       "        vertical-align: middle;\n",
       "    }\n",
       "\n",
       "    .dataframe tbody tr th {\n",
       "        vertical-align: top;\n",
       "    }\n",
       "\n",
       "    .dataframe thead th {\n",
       "        text-align: right;\n",
       "    }\n",
       "</style>\n",
       "<table border=\"1\" class=\"dataframe\">\n",
       "  <thead>\n",
       "    <tr style=\"text-align: right;\">\n",
       "      <th></th>\n",
       "      <th>fecha</th>\n",
       "      <th>meteo</th>\n",
       "      <th>tipo_accidente</th>\n",
       "      <th>lesividad</th>\n",
       "      <th>distrito</th>\n",
       "      <th>direccion</th>\n",
       "      <th>horario</th>\n",
       "      <th>dia</th>\n",
       "      <th>festividad</th>\n",
       "      <th>lon</th>\n",
       "      <th>lat</th>\n",
       "    </tr>\n",
       "  </thead>\n",
       "  <tbody>\n",
       "    <tr>\n",
       "      <th>0</th>\n",
       "      <td>2019-01-01 14:00:00</td>\n",
       "      <td>Despejado</td>\n",
       "      <td>Colision</td>\n",
       "      <td>Moderada</td>\n",
       "      <td>SALAMANCA</td>\n",
       "      <td>CALLE CASTELLO / CALLE DON RAMON DE LA CRUZ Ma...</td>\n",
       "      <td>Tarde</td>\n",
       "      <td>2019-01-01</td>\n",
       "      <td>Festivo</td>\n",
       "      <td>-3.68121</td>\n",
       "      <td>40.429</td>\n",
       "    </tr>\n",
       "    <tr>\n",
       "      <th>1</th>\n",
       "      <td>2019-01-02 21:00:00</td>\n",
       "      <td>Despejado</td>\n",
       "      <td>Colision</td>\n",
       "      <td>Grave</td>\n",
       "      <td>HORTALEZA</td>\n",
       "      <td>AVDA. GRAN VIA DE HORTALEZA / GTA. LUIS ROSALE...</td>\n",
       "      <td>Noche</td>\n",
       "      <td>2019-01-02</td>\n",
       "      <td>Laborable</td>\n",
       "      <td>-3.65453</td>\n",
       "      <td>40.4669</td>\n",
       "    </tr>\n",
       "  </tbody>\n",
       "</table>\n",
       "</div>"
      ],
      "text/plain": [
       "                fecha      meteo tipo_accidente lesividad   distrito  \\\n",
       "0 2019-01-01 14:00:00  Despejado       Colision  Moderada  SALAMANCA   \n",
       "1 2019-01-02 21:00:00  Despejado       Colision     Grave  HORTALEZA   \n",
       "\n",
       "                                           direccion horario        dia  \\\n",
       "0  CALLE CASTELLO / CALLE DON RAMON DE LA CRUZ Ma...   Tarde 2019-01-01   \n",
       "1  AVDA. GRAN VIA DE HORTALEZA / GTA. LUIS ROSALE...   Noche 2019-01-02   \n",
       "\n",
       "  festividad      lon      lat  \n",
       "0    Festivo -3.68121   40.429  \n",
       "1  Laborable -3.65453  40.4669  "
      ]
     },
     "execution_count": 28,
     "metadata": {},
     "output_type": "execute_result"
    }
   ],
   "source": [
    "wasd "
   ]
  },
  {
   "cell_type": "code",
   "execution_count": null,
   "metadata": {},
   "outputs": [],
   "source": []
  },
  {
   "cell_type": "code",
   "execution_count": 24,
   "metadata": {},
   "outputs": [
    {
     "data": {
      "text/html": [
       "<div>\n",
       "<style scoped>\n",
       "    .dataframe tbody tr th:only-of-type {\n",
       "        vertical-align: middle;\n",
       "    }\n",
       "\n",
       "    .dataframe tbody tr th {\n",
       "        vertical-align: top;\n",
       "    }\n",
       "\n",
       "    .dataframe thead th {\n",
       "        text-align: right;\n",
       "    }\n",
       "</style>\n",
       "<table border=\"1\" class=\"dataframe\">\n",
       "  <thead>\n",
       "    <tr style=\"text-align: right;\">\n",
       "      <th></th>\n",
       "      <th>fecha</th>\n",
       "      <th>meteo</th>\n",
       "      <th>tipo_accidente</th>\n",
       "      <th>lesividad</th>\n",
       "      <th>distrito</th>\n",
       "      <th>direccion</th>\n",
       "      <th>horario</th>\n",
       "      <th>dia</th>\n",
       "      <th>festividad</th>\n",
       "      <th>lon</th>\n",
       "      <th>lat</th>\n",
       "    </tr>\n",
       "  </thead>\n",
       "  <tbody>\n",
       "    <tr>\n",
       "      <th>0</th>\n",
       "      <td>2019-01-01 14:00:00</td>\n",
       "      <td>Despejado</td>\n",
       "      <td>Colision</td>\n",
       "      <td>Moderada</td>\n",
       "      <td>SALAMANCA</td>\n",
       "      <td>CALLE CASTELLO / CALLE DON RAMON DE LA CRUZ Ma...</td>\n",
       "      <td>Tarde</td>\n",
       "      <td>2019-01-01</td>\n",
       "      <td>Festivo</td>\n",
       "      <td></td>\n",
       "      <td></td>\n",
       "    </tr>\n",
       "    <tr>\n",
       "      <th>1</th>\n",
       "      <td>2019-01-02 21:00:00</td>\n",
       "      <td>Despejado</td>\n",
       "      <td>Colision</td>\n",
       "      <td>Grave</td>\n",
       "      <td>HORTALEZA</td>\n",
       "      <td>AVDA. GRAN VIA DE HORTALEZA / GTA. LUIS ROSALE...</td>\n",
       "      <td>Noche</td>\n",
       "      <td>2019-01-02</td>\n",
       "      <td>Laborable</td>\n",
       "      <td></td>\n",
       "      <td></td>\n",
       "    </tr>\n",
       "    <tr>\n",
       "      <th>2</th>\n",
       "      <td>2019-01-03 14:00:00</td>\n",
       "      <td>Despejado</td>\n",
       "      <td>Colision</td>\n",
       "      <td>Leve</td>\n",
       "      <td>VILLA DE VALLECAS</td>\n",
       "      <td>CALLE FELIPE ALVAREZ 10 Madrid</td>\n",
       "      <td>Tarde</td>\n",
       "      <td>2019-01-03</td>\n",
       "      <td>Laborable</td>\n",
       "      <td></td>\n",
       "      <td></td>\n",
       "    </tr>\n",
       "    <tr>\n",
       "      <th>3</th>\n",
       "      <td>2019-01-03 13:00:00</td>\n",
       "      <td>Despejado</td>\n",
       "      <td>Colision</td>\n",
       "      <td>Leve</td>\n",
       "      <td>VILLA DE VALLECAS</td>\n",
       "      <td>AVDA. SANTA EUGENIA / CALLE REAL DE ARGANDA Ma...</td>\n",
       "      <td>Tarde</td>\n",
       "      <td>2019-01-03</td>\n",
       "      <td>Laborable</td>\n",
       "      <td></td>\n",
       "      <td></td>\n",
       "    </tr>\n",
       "    <tr>\n",
       "      <th>4</th>\n",
       "      <td>2019-01-03 13:00:00</td>\n",
       "      <td>Despejado</td>\n",
       "      <td>Colision</td>\n",
       "      <td>Leve</td>\n",
       "      <td>VILLA DE VALLECAS</td>\n",
       "      <td>AVDA. SANTA EUGENIA / CALLE REAL DE ARGANDA Ma...</td>\n",
       "      <td>Tarde</td>\n",
       "      <td>2019-01-03</td>\n",
       "      <td>Laborable</td>\n",
       "      <td></td>\n",
       "      <td></td>\n",
       "    </tr>\n",
       "  </tbody>\n",
       "</table>\n",
       "</div>"
      ],
      "text/plain": [
       "                fecha      meteo tipo_accidente lesividad           distrito  \\\n",
       "0 2019-01-01 14:00:00  Despejado       Colision  Moderada          SALAMANCA   \n",
       "1 2019-01-02 21:00:00  Despejado       Colision     Grave          HORTALEZA   \n",
       "2 2019-01-03 14:00:00  Despejado       Colision      Leve  VILLA DE VALLECAS   \n",
       "3 2019-01-03 13:00:00  Despejado       Colision      Leve  VILLA DE VALLECAS   \n",
       "4 2019-01-03 13:00:00  Despejado       Colision      Leve  VILLA DE VALLECAS   \n",
       "\n",
       "                                           direccion horario        dia  \\\n",
       "0  CALLE CASTELLO / CALLE DON RAMON DE LA CRUZ Ma...   Tarde 2019-01-01   \n",
       "1  AVDA. GRAN VIA DE HORTALEZA / GTA. LUIS ROSALE...   Noche 2019-01-02   \n",
       "2                     CALLE FELIPE ALVAREZ 10 Madrid   Tarde 2019-01-03   \n",
       "3  AVDA. SANTA EUGENIA / CALLE REAL DE ARGANDA Ma...   Tarde 2019-01-03   \n",
       "4  AVDA. SANTA EUGENIA / CALLE REAL DE ARGANDA Ma...   Tarde 2019-01-03   \n",
       "\n",
       "  festividad lon lat  \n",
       "0    Festivo          \n",
       "1  Laborable          \n",
       "2  Laborable          \n",
       "3  Laborable          \n",
       "4  Laborable          "
      ]
     },
     "execution_count": 24,
     "metadata": {},
     "output_type": "execute_result"
    }
   ],
   "source": [
    "bici.head()"
   ]
  },
  {
   "cell_type": "code",
   "execution_count": null,
   "metadata": {},
   "outputs": [],
   "source": []
  },
  {
   "cell_type": "code",
   "execution_count": null,
   "metadata": {},
   "outputs": [],
   "source": []
  },
  {
   "cell_type": "code",
   "execution_count": null,
   "metadata": {},
   "outputs": [],
   "source": []
  },
  {
   "cell_type": "code",
   "execution_count": null,
   "metadata": {},
   "outputs": [],
   "source": []
  },
  {
   "cell_type": "code",
   "execution_count": null,
   "metadata": {},
   "outputs": [],
   "source": []
  },
  {
   "cell_type": "code",
   "execution_count": null,
   "metadata": {},
   "outputs": [],
   "source": []
  },
  {
   "cell_type": "code",
   "execution_count": null,
   "metadata": {},
   "outputs": [],
   "source": []
  },
  {
   "cell_type": "code",
   "execution_count": null,
   "metadata": {},
   "outputs": [],
   "source": []
  },
  {
   "cell_type": "code",
   "execution_count": null,
   "metadata": {},
   "outputs": [],
   "source": []
  },
  {
   "cell_type": "code",
   "execution_count": 15,
   "metadata": {},
   "outputs": [],
   "source": [
    "test = pd.DataFrame({\n",
    "    'Day': [1,2,3,4,5,6,7,8,9],\n",
    "    'Fest': ['A','B','B','B','A','A','A','B','A']\n",
    "})"
   ]
  },
  {
   "cell_type": "code",
   "execution_count": 16,
   "metadata": {},
   "outputs": [
    {
     "name": "stderr",
     "output_type": "stream",
     "text": [
      "/home/ovi/.local/lib/python3.7/site-packages/ipykernel_launcher.py:3: SettingWithCopyWarning: \n",
      "A value is trying to be set on a copy of a slice from a DataFrame\n",
      "\n",
      "See the caveats in the documentation: http://pandas.pydata.org/pandas-docs/stable/user_guide/indexing.html#returning-a-view-versus-a-copy\n",
      "  This is separate from the ipykernel package so we can avoid doing imports until\n"
     ]
    }
   ],
   "source": [
    "\n",
    "for i in range (1, test.shape[0]):\n",
    "    if test.Fest[i]=='B' and test.Fest[i+1]=='A':\n",
    "        test['NEW'][i]='C'\n",
    "    else:\n",
    "        test['NEW']=test.Fest\n",
    "        "
   ]
  },
  {
   "cell_type": "code",
   "execution_count": 17,
   "metadata": {},
   "outputs": [
    {
     "data": {
      "text/html": [
       "<div>\n",
       "<style scoped>\n",
       "    .dataframe tbody tr th:only-of-type {\n",
       "        vertical-align: middle;\n",
       "    }\n",
       "\n",
       "    .dataframe tbody tr th {\n",
       "        vertical-align: top;\n",
       "    }\n",
       "\n",
       "    .dataframe thead th {\n",
       "        text-align: right;\n",
       "    }\n",
       "</style>\n",
       "<table border=\"1\" class=\"dataframe\">\n",
       "  <thead>\n",
       "    <tr style=\"text-align: right;\">\n",
       "      <th></th>\n",
       "      <th>Day</th>\n",
       "      <th>Fest</th>\n",
       "      <th>NEW</th>\n",
       "    </tr>\n",
       "  </thead>\n",
       "  <tbody>\n",
       "    <tr>\n",
       "      <th>0</th>\n",
       "      <td>1</td>\n",
       "      <td>A</td>\n",
       "      <td>A</td>\n",
       "    </tr>\n",
       "    <tr>\n",
       "      <th>1</th>\n",
       "      <td>2</td>\n",
       "      <td>B</td>\n",
       "      <td>B</td>\n",
       "    </tr>\n",
       "    <tr>\n",
       "      <th>2</th>\n",
       "      <td>3</td>\n",
       "      <td>B</td>\n",
       "      <td>B</td>\n",
       "    </tr>\n",
       "    <tr>\n",
       "      <th>3</th>\n",
       "      <td>4</td>\n",
       "      <td>B</td>\n",
       "      <td>B</td>\n",
       "    </tr>\n",
       "    <tr>\n",
       "      <th>4</th>\n",
       "      <td>5</td>\n",
       "      <td>A</td>\n",
       "      <td>A</td>\n",
       "    </tr>\n",
       "    <tr>\n",
       "      <th>5</th>\n",
       "      <td>6</td>\n",
       "      <td>A</td>\n",
       "      <td>A</td>\n",
       "    </tr>\n",
       "    <tr>\n",
       "      <th>6</th>\n",
       "      <td>7</td>\n",
       "      <td>A</td>\n",
       "      <td>A</td>\n",
       "    </tr>\n",
       "    <tr>\n",
       "      <th>7</th>\n",
       "      <td>8</td>\n",
       "      <td>B</td>\n",
       "      <td>B</td>\n",
       "    </tr>\n",
       "    <tr>\n",
       "      <th>8</th>\n",
       "      <td>9</td>\n",
       "      <td>A</td>\n",
       "      <td>A</td>\n",
       "    </tr>\n",
       "  </tbody>\n",
       "</table>\n",
       "</div>"
      ],
      "text/plain": [
       "   Day Fest NEW\n",
       "0    1    A   A\n",
       "1    2    B   B\n",
       "2    3    B   B\n",
       "3    4    B   B\n",
       "4    5    A   A\n",
       "5    6    A   A\n",
       "6    7    A   A\n",
       "7    8    B   B\n",
       "8    9    A   A"
      ]
     },
     "execution_count": 17,
     "metadata": {},
     "output_type": "execute_result"
    }
   ],
   "source": [
    "test"
   ]
  },
  {
   "cell_type": "code",
   "execution_count": null,
   "metadata": {},
   "outputs": [],
   "source": []
  },
  {
   "cell_type": "code",
   "execution_count": null,
   "metadata": {},
   "outputs": [],
   "source": []
  }
 ],
 "metadata": {
  "kernelspec": {
   "display_name": "Python 3",
   "language": "python",
   "name": "python3"
  },
  "language_info": {
   "codemirror_mode": {
    "name": "ipython",
    "version": 3
   },
   "file_extension": ".py",
   "mimetype": "text/x-python",
   "name": "python",
   "nbconvert_exporter": "python",
   "pygments_lexer": "ipython3",
   "version": "3.7.5"
  }
 },
 "nbformat": 4,
 "nbformat_minor": 2
}
