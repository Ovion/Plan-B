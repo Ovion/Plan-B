{
 "cells": [
  {
   "cell_type": "code",
   "execution_count": 1,
   "metadata": {},
   "outputs": [],
   "source": [
    "import pandas as pd\n",
    "from pymongo import MongoClient\n",
    "import pymongo\n",
    "import numpy as np"
   ]
  },
  {
   "cell_type": "code",
   "execution_count": 2,
   "metadata": {},
   "outputs": [],
   "source": [
    "class ConectColl:\n",
    "    def __init__(self):\n",
    "        self.client = MongoClient()\n",
    "        self.db = self.client['Bycicle_Accidents']\n",
    "        self.acc = self.db['Historical']\n",
    "        self.test = self.db['Test']\n",
    "\n",
    "coll = ConectColl()\n",
    "bici = pd.read_csv(\"../input/clean_data/bici_clean.csv\")"
   ]
  },
  {
   "cell_type": "code",
   "execution_count": 2,
   "metadata": {},
   "outputs": [],
   "source": [
    "bici = pd.read_csv(\"../input/clean_data/bici_clean.csv\")"
   ]
  },
  {
   "cell_type": "code",
   "execution_count": 3,
   "metadata": {},
   "outputs": [
    {
     "data": {
      "text/html": [
       "<div>\n",
       "<style scoped>\n",
       "    .dataframe tbody tr th:only-of-type {\n",
       "        vertical-align: middle;\n",
       "    }\n",
       "\n",
       "    .dataframe tbody tr th {\n",
       "        vertical-align: top;\n",
       "    }\n",
       "\n",
       "    .dataframe thead th {\n",
       "        text-align: right;\n",
       "    }\n",
       "</style>\n",
       "<table border=\"1\" class=\"dataframe\">\n",
       "  <thead>\n",
       "    <tr style=\"text-align: right;\">\n",
       "      <th></th>\n",
       "      <th>fecha</th>\n",
       "      <th>dia</th>\n",
       "      <th>year</th>\n",
       "      <th>horario</th>\n",
       "      <th>festividad</th>\n",
       "      <th>tipo_accidente</th>\n",
       "      <th>lesividad</th>\n",
       "      <th>meteo</th>\n",
       "      <th>distrito</th>\n",
       "      <th>direccion</th>\n",
       "      <th>lon</th>\n",
       "      <th>lat</th>\n",
       "    </tr>\n",
       "  </thead>\n",
       "  <tbody>\n",
       "    <tr>\n",
       "      <th>0</th>\n",
       "      <td>2019-01-01 14:00:00</td>\n",
       "      <td>2019-01-01 00:00:00</td>\n",
       "      <td>2019</td>\n",
       "      <td>Tarde</td>\n",
       "      <td>Festivo</td>\n",
       "      <td>Colision</td>\n",
       "      <td>Moderada</td>\n",
       "      <td>Despejado</td>\n",
       "      <td>SALAMANCA</td>\n",
       "      <td>CALLE CASTELLO / CALLE DON RAMON DE LA CRUZ Ma...</td>\n",
       "      <td>-3.681209</td>\n",
       "      <td>40.428990</td>\n",
       "    </tr>\n",
       "    <tr>\n",
       "      <th>1</th>\n",
       "      <td>2019-01-02 21:00:00</td>\n",
       "      <td>2019-01-02 00:00:00</td>\n",
       "      <td>2019</td>\n",
       "      <td>Noche</td>\n",
       "      <td>Laborable</td>\n",
       "      <td>Colision</td>\n",
       "      <td>Grave</td>\n",
       "      <td>Despejado</td>\n",
       "      <td>HORTALEZA</td>\n",
       "      <td>AVDA. GRAN VIA DE HORTALEZA / GTA. LUIS ROSALE...</td>\n",
       "      <td>-3.654527</td>\n",
       "      <td>40.466921</td>\n",
       "    </tr>\n",
       "    <tr>\n",
       "      <th>2</th>\n",
       "      <td>2019-01-03 14:00:00</td>\n",
       "      <td>2019-01-03 00:00:00</td>\n",
       "      <td>2019</td>\n",
       "      <td>Tarde</td>\n",
       "      <td>Laborable</td>\n",
       "      <td>Colision</td>\n",
       "      <td>Leve</td>\n",
       "      <td>Despejado</td>\n",
       "      <td>VILLA DE VALLECAS</td>\n",
       "      <td>CALLE FELIPE ALVAREZ 10 Madrid</td>\n",
       "      <td>-3.623423</td>\n",
       "      <td>40.381971</td>\n",
       "    </tr>\n",
       "    <tr>\n",
       "      <th>3</th>\n",
       "      <td>2019-01-03 13:00:00</td>\n",
       "      <td>2019-01-03 00:00:00</td>\n",
       "      <td>2019</td>\n",
       "      <td>Tarde</td>\n",
       "      <td>Laborable</td>\n",
       "      <td>Colision</td>\n",
       "      <td>Leve</td>\n",
       "      <td>Despejado</td>\n",
       "      <td>VILLA DE VALLECAS</td>\n",
       "      <td>AVDA. SANTA EUGENIA / CALLE REAL DE ARGANDA Ma...</td>\n",
       "      <td>-3.608276</td>\n",
       "      <td>40.377939</td>\n",
       "    </tr>\n",
       "    <tr>\n",
       "      <th>4</th>\n",
       "      <td>2019-01-03 13:00:00</td>\n",
       "      <td>2019-01-03 00:00:00</td>\n",
       "      <td>2019</td>\n",
       "      <td>Tarde</td>\n",
       "      <td>Laborable</td>\n",
       "      <td>Colision</td>\n",
       "      <td>Leve</td>\n",
       "      <td>Despejado</td>\n",
       "      <td>VILLA DE VALLECAS</td>\n",
       "      <td>AVDA. SANTA EUGENIA / CALLE REAL DE ARGANDA Ma...</td>\n",
       "      <td>-3.608276</td>\n",
       "      <td>40.377939</td>\n",
       "    </tr>\n",
       "  </tbody>\n",
       "</table>\n",
       "</div>"
      ],
      "text/plain": [
       "                 fecha                  dia  year horario festividad  \\\n",
       "0  2019-01-01 14:00:00  2019-01-01 00:00:00  2019   Tarde    Festivo   \n",
       "1  2019-01-02 21:00:00  2019-01-02 00:00:00  2019   Noche  Laborable   \n",
       "2  2019-01-03 14:00:00  2019-01-03 00:00:00  2019   Tarde  Laborable   \n",
       "3  2019-01-03 13:00:00  2019-01-03 00:00:00  2019   Tarde  Laborable   \n",
       "4  2019-01-03 13:00:00  2019-01-03 00:00:00  2019   Tarde  Laborable   \n",
       "\n",
       "  tipo_accidente lesividad      meteo           distrito  \\\n",
       "0       Colision  Moderada  Despejado          SALAMANCA   \n",
       "1       Colision     Grave  Despejado          HORTALEZA   \n",
       "2       Colision      Leve  Despejado  VILLA DE VALLECAS   \n",
       "3       Colision      Leve  Despejado  VILLA DE VALLECAS   \n",
       "4       Colision      Leve  Despejado  VILLA DE VALLECAS   \n",
       "\n",
       "                                           direccion       lon        lat  \n",
       "0  CALLE CASTELLO / CALLE DON RAMON DE LA CRUZ Ma... -3.681209  40.428990  \n",
       "1  AVDA. GRAN VIA DE HORTALEZA / GTA. LUIS ROSALE... -3.654527  40.466921  \n",
       "2                     CALLE FELIPE ALVAREZ 10 Madrid -3.623423  40.381971  \n",
       "3  AVDA. SANTA EUGENIA / CALLE REAL DE ARGANDA Ma... -3.608276  40.377939  \n",
       "4  AVDA. SANTA EUGENIA / CALLE REAL DE ARGANDA Ma... -3.608276  40.377939  "
      ]
     },
     "execution_count": 3,
     "metadata": {},
     "output_type": "execute_result"
    }
   ],
   "source": [
    "bici.head()"
   ]
  },
  {
   "cell_type": "code",
   "execution_count": 4,
   "metadata": {},
   "outputs": [
    {
     "data": {
      "text/plain": [
       "1759"
      ]
     },
     "execution_count": 4,
     "metadata": {},
     "output_type": "execute_result"
    }
   ],
   "source": [
    "len(bici.loc[bici.lesividad=='Leve'])"
   ]
  },
  {
   "cell_type": "code",
   "execution_count": 5,
   "metadata": {},
   "outputs": [
    {
     "data": {
      "text/plain": [
       "(2198, 12)"
      ]
     },
     "execution_count": 5,
     "metadata": {},
     "output_type": "execute_result"
    }
   ],
   "source": [
    "bici.shape"
   ]
  },
  {
   "cell_type": "code",
   "execution_count": 9,
   "metadata": {},
   "outputs": [
    {
     "name": "stdout",
     "output_type": "stream",
     "text": [
      "números en la combinación Tarde Festivo Despejado:75\n",
      "\tModerada:21\n",
      "\tGrave:12\n",
      "\tLeve:42\n",
      "\tFallecido:0\n",
      "\n",
      "números en la combinación Tarde Festivo Lluvia:10\n",
      "\tModerada:1\n",
      "\tGrave:0\n",
      "\tLeve:9\n",
      "\tFallecido:0\n",
      "\n",
      "números en la combinación Tarde Laborable Despejado:511\n",
      "\tModerada:114\n",
      "\tGrave:34\n",
      "\tLeve:362\n",
      "\tFallecido:1\n",
      "\n",
      "números en la combinación Tarde Laborable Lluvia:54\n",
      "\tModerada:7\n",
      "\tGrave:2\n",
      "\tLeve:45\n",
      "\tFallecido:0\n",
      "\n",
      "números en la combinación Tarde Vispera Despejado:92\n",
      "\tModerada:19\n",
      "\tGrave:14\n",
      "\tLeve:59\n",
      "\tFallecido:0\n",
      "\n",
      "números en la combinación Tarde Vispera Lluvia:8\n",
      "\tModerada:1\n",
      "\tGrave:1\n",
      "\tLeve:6\n",
      "\tFallecido:0\n",
      "\n",
      "números en la combinación Noche Festivo Despejado:52\n",
      "\tModerada:8\n",
      "\tGrave:2\n",
      "\tLeve:42\n",
      "\tFallecido:0\n",
      "\n",
      "números en la combinación Noche Festivo Lluvia:4\n",
      "\tModerada:0\n",
      "\tGrave:1\n",
      "\tLeve:3\n",
      "\tFallecido:0\n",
      "\n",
      "números en la combinación Noche Laborable Despejado:159\n",
      "\tModerada:44\n",
      "\tGrave:17\n",
      "\tLeve:98\n",
      "\tFallecido:0\n",
      "\n",
      "números en la combinación Noche Laborable Lluvia:18\n",
      "\tModerada:1\n",
      "\tGrave:1\n",
      "\tLeve:16\n",
      "\tFallecido:0\n",
      "\n",
      "números en la combinación Noche Vispera Despejado:40\n",
      "\tModerada:10\n",
      "\tGrave:4\n",
      "\tLeve:26\n",
      "\tFallecido:0\n",
      "\n",
      "números en la combinación Noche Vispera Lluvia:7\n",
      "\tModerada:3\n",
      "\tGrave:1\n",
      "\tLeve:3\n",
      "\tFallecido:0\n",
      "\n",
      "números en la combinación Mañana Festivo Despejado:38\n",
      "\tModerada:7\n",
      "\tGrave:11\n",
      "\tLeve:20\n",
      "\tFallecido:0\n",
      "\n",
      "números en la combinación Mañana Festivo Lluvia:5\n",
      "\tModerada:0\n",
      "\tGrave:1\n",
      "\tLeve:4\n",
      "\tFallecido:0\n",
      "\n",
      "números en la combinación Mañana Laborable Despejado:185\n",
      "\tModerada:49\n",
      "\tGrave:27\n",
      "\tLeve:109\n",
      "\tFallecido:0\n",
      "\n",
      "números en la combinación Mañana Laborable Lluvia:27\n",
      "\tModerada:1\n",
      "\tGrave:4\n",
      "\tLeve:22\n",
      "\tFallecido:0\n",
      "\n",
      "números en la combinación Mañana Vispera Despejado:35\n",
      "\tModerada:14\n",
      "\tGrave:6\n",
      "\tLeve:15\n",
      "\tFallecido:0\n",
      "\n",
      "números en la combinación Mañana Vispera Lluvia:12\n",
      "\tModerada:0\n",
      "\tGrave:0\n",
      "\tLeve:12\n",
      "\tFallecido:0\n",
      "\n"
     ]
    }
   ],
   "source": [
    "lst_h = list(bici.horario.unique())\n",
    "lst_f = list(bici.festividad.unique())\n",
    "lst_m = list(bici.meteo.unique())\n",
    "lst_l = list(bici.lesividad.unique())\n",
    "\n",
    "for h in lst_h:\n",
    "    for f in lst_f:\n",
    "        for m in lst_m:\n",
    "            longitud = len(bici.loc[(bici.horario==h)&(bici.festividad==f)&(bici.meteo==m)])\n",
    "            print(f'números en la combinación {h} {f} {m}:{longitud}')\n",
    "            for l in lst_l:\n",
    "                longitud = len(bici.loc[(bici.horario==h)&(bici.festividad==f)&(bici.meteo==m)&(bici.lesividad==l)])\n",
    "                print(f'\\t{l}:{longitud}')\n",
    "            print('')"
   ]
  },
  {
   "cell_type": "code",
   "execution_count": 5,
   "metadata": {},
   "outputs": [],
   "source": [
    "num_lon = 1/93.75*0.5\n",
    "num_lat = 1/125*0.5\n",
    "\n",
    "bici['num_acc']=100\n",
    "\n",
    "for i, r in bici.loc[(bici.lesividad=='Leve')&(bici.meteo!='Lluvia')].iterrows():\n",
    "    accs = len(bici.loc[\n",
    "        (bici.horario==r['horario'])&(bici.festividad==r['festividad'])&(bici.meteo==r['meteo'])&\n",
    "        (bici.lon>=(r['lon']-num_lon))&(bici.lon<=(r['lon']+num_lon))&\n",
    "        (bici.lat>=(r['lat']-num_lat))&(bici.lat<=(r['lat']+num_lat))])\n",
    "    bici.loc[i,'num_acc']=accs"
   ]
  },
  {
   "cell_type": "code",
   "execution_count": 6,
   "metadata": {},
   "outputs": [],
   "source": [
    "bici['mark']= int()\n",
    "bici.loc[(bici.lesividad=='Leve')&(bici.festividad=='Laborable')&(bici.meteo=='Despejado')&(bici.num_acc<=5), 'mark']=1"
   ]
  },
  {
   "cell_type": "code",
   "execution_count": 7,
   "metadata": {},
   "outputs": [
    {
     "data": {
      "text/plain": [
       "0    1627\n",
       "1     571\n",
       "Name: mark, dtype: int64"
      ]
     },
     "execution_count": 7,
     "metadata": {},
     "output_type": "execute_result"
    }
   ],
   "source": [
    "bici.mark.value_counts()"
   ]
  },
  {
   "cell_type": "code",
   "execution_count": 10,
   "metadata": {},
   "outputs": [],
   "source": [
    "bici = bici.loc[bici.num_acc>2]\n",
    "bici = bici.loc[bici.mark==0]\n",
    "bici.drop(['num_acc', 'mark'], axis=1, inplace = True)"
   ]
  },
  {
   "cell_type": "code",
   "execution_count": 12,
   "metadata": {},
   "outputs": [],
   "source": []
  },
  {
   "cell_type": "code",
   "execution_count": 33,
   "metadata": {},
   "outputs": [
    {
     "data": {
      "text/plain": [
       "(1515, 14)"
      ]
     },
     "execution_count": 33,
     "metadata": {},
     "output_type": "execute_result"
    }
   ],
   "source": [
    "bici.shape"
   ]
  },
  {
   "cell_type": "code",
   "execution_count": 3,
   "metadata": {},
   "outputs": [],
   "source": [
    "# bici_test = bici.loc[(bici.horario=='Tarde')&(bici.festividad=='Laborable')&(bici.meteo=='Lluvia')]"
   ]
  },
  {
   "cell_type": "code",
   "execution_count": 4,
   "metadata": {},
   "outputs": [],
   "source": [
    "# bici_test.head()"
   ]
  },
  {
   "cell_type": "code",
   "execution_count": 5,
   "metadata": {},
   "outputs": [],
   "source": [
    "# min_lat=int((bici_test.lat.min()-0.01)*400)\n",
    "# max_lat=int((bici_test.lat.max()+0.01)*400)\n",
    "\n",
    "# min_lon=int((bici_test.lon.min()-0.01)*300)\n",
    "# max_lon=int((bici_test.lon.max()+0.01)*300)\n"
   ]
  },
  {
   "cell_type": "code",
   "execution_count": 6,
   "metadata": {},
   "outputs": [],
   "source": [
    "# no_damage = pd.DataFrame(columns=['horario','festividad','lesividad','meteo','lon', 'lat'])\n",
    "\n",
    "# for lat in range(min_lat, max_lat):\n",
    "#     for lon in range (min_lon, max_lon):\n",
    "#         no_damage = no_damage.append({\n",
    "#             'horario':'Tarde',\n",
    "#             'festividad':'Laborable',\n",
    "#             'lesividad':'No',\n",
    "#             'meteo':'Lluvia',\n",
    "#             'lon':lon/300,\n",
    "#             'lat':lat/400,\n",
    "#         }, ignore_index=True)\n",
    "\n"
   ]
  },
  {
   "cell_type": "code",
   "execution_count": 13,
   "metadata": {},
   "outputs": [
    {
     "data": {
      "text/html": [
       "<div>\n",
       "<style scoped>\n",
       "    .dataframe tbody tr th:only-of-type {\n",
       "        vertical-align: middle;\n",
       "    }\n",
       "\n",
       "    .dataframe tbody tr th {\n",
       "        vertical-align: top;\n",
       "    }\n",
       "\n",
       "    .dataframe thead th {\n",
       "        text-align: right;\n",
       "    }\n",
       "</style>\n",
       "<table border=\"1\" class=\"dataframe\">\n",
       "  <thead>\n",
       "    <tr style=\"text-align: right;\">\n",
       "      <th></th>\n",
       "      <th>fecha</th>\n",
       "      <th>dia</th>\n",
       "      <th>year</th>\n",
       "      <th>horario</th>\n",
       "      <th>festividad</th>\n",
       "      <th>tipo_accidente</th>\n",
       "      <th>lesividad</th>\n",
       "      <th>meteo</th>\n",
       "      <th>distrito</th>\n",
       "      <th>direccion</th>\n",
       "      <th>lon</th>\n",
       "      <th>lat</th>\n",
       "    </tr>\n",
       "  </thead>\n",
       "  <tbody>\n",
       "  </tbody>\n",
       "</table>\n",
       "</div>"
      ],
      "text/plain": [
       "Empty DataFrame\n",
       "Columns: [fecha, dia, year, horario, festividad, tipo_accidente, lesividad, meteo, distrito, direccion, lon, lat]\n",
       "Index: []"
      ]
     },
     "execution_count": 13,
     "metadata": {},
     "output_type": "execute_result"
    }
   ],
   "source": [
    "bici.loc[(bici.horario=='Mañana')&(bici.festividad=='Vispera')&(bici.meteo=='Lluvia')]"
   ]
  },
  {
   "cell_type": "code",
   "execution_count": 12,
   "metadata": {},
   "outputs": [
    {
     "name": "stdout",
     "output_type": "stream",
     "text": [
      "Tarde\n",
      "Festivo\n",
      "Despejado\n",
      "40.36453909999999\n",
      "Lluvia\n",
      "40.4609216\n",
      "Laborable\n",
      "Despejado\n",
      "40.34008970000001\n",
      "Lluvia\n",
      "40.3652321\n",
      "Vispera\n",
      "Despejado\n",
      "40.34585999999999\n",
      "Lluvia\n",
      "40.4162424\n",
      "Noche\n",
      "Festivo\n",
      "Despejado\n",
      "40.38782\n",
      "Lluvia\n",
      "40.4094574\n",
      "Laborable\n",
      "Despejado\n",
      "40.36318170000001\n",
      "Lluvia\n",
      "40.3896342\n",
      "Vispera\n",
      "Despejado\n",
      "40.3627995\n",
      "Lluvia\n",
      "40.3434084\n",
      "Mañana\n",
      "Festivo\n",
      "Despejado\n",
      "40.35628270000001\n",
      "Lluvia\n",
      "40.38812\n",
      "Laborable\n",
      "Despejado\n",
      "40.33439370000001\n",
      "Lluvia\n",
      "40.382571\n",
      "Vispera\n",
      "Despejado\n",
      "40.36734000000001\n",
      "Lluvia\n",
      "nan\n"
     ]
    },
    {
     "ename": "ValueError",
     "evalue": "cannot convert float NaN to integer",
     "output_type": "error",
     "traceback": [
      "\u001b[0;31m---------------------------------------------------------------------------\u001b[0m",
      "\u001b[0;31mValueError\u001b[0m                                Traceback (most recent call last)",
      "\u001b[0;32m<ipython-input-12-0177a9bd68ef>\u001b[0m in \u001b[0;36m<module>\u001b[0;34m\u001b[0m\n\u001b[1;32m     13\u001b[0m             \u001b[0mbici_test\u001b[0m \u001b[0;34m=\u001b[0m \u001b[0mbici\u001b[0m\u001b[0;34m.\u001b[0m\u001b[0mloc\u001b[0m\u001b[0;34m[\u001b[0m\u001b[0;34m(\u001b[0m\u001b[0mbici\u001b[0m\u001b[0;34m.\u001b[0m\u001b[0mhorario\u001b[0m\u001b[0;34m==\u001b[0m\u001b[0mh\u001b[0m\u001b[0;34m)\u001b[0m\u001b[0;34m&\u001b[0m\u001b[0;34m(\u001b[0m\u001b[0mbici\u001b[0m\u001b[0;34m.\u001b[0m\u001b[0mfestividad\u001b[0m\u001b[0;34m==\u001b[0m\u001b[0mf\u001b[0m\u001b[0;34m)\u001b[0m\u001b[0;34m&\u001b[0m\u001b[0;34m(\u001b[0m\u001b[0mbici\u001b[0m\u001b[0;34m.\u001b[0m\u001b[0mmeteo\u001b[0m\u001b[0;34m==\u001b[0m\u001b[0mm\u001b[0m\u001b[0;34m)\u001b[0m\u001b[0;34m]\u001b[0m\u001b[0;34m\u001b[0m\u001b[0;34m\u001b[0m\u001b[0m\n\u001b[1;32m     14\u001b[0m             \u001b[0mprint\u001b[0m\u001b[0;34m(\u001b[0m\u001b[0mbici_test\u001b[0m\u001b[0;34m.\u001b[0m\u001b[0mlat\u001b[0m\u001b[0;34m.\u001b[0m\u001b[0mmin\u001b[0m\u001b[0;34m(\u001b[0m\u001b[0;34m)\u001b[0m\u001b[0;34m)\u001b[0m\u001b[0;34m\u001b[0m\u001b[0;34m\u001b[0m\u001b[0m\n\u001b[0;32m---> 15\u001b[0;31m             \u001b[0mmin_lat\u001b[0m\u001b[0;34m=\u001b[0m\u001b[0mint\u001b[0m\u001b[0;34m(\u001b[0m\u001b[0;34m(\u001b[0m\u001b[0mbici_test\u001b[0m\u001b[0;34m.\u001b[0m\u001b[0mlat\u001b[0m\u001b[0;34m.\u001b[0m\u001b[0mmin\u001b[0m\u001b[0;34m(\u001b[0m\u001b[0;34m)\u001b[0m\u001b[0;34m-\u001b[0m\u001b[0;36m0.0002\u001b[0m\u001b[0;34m)\u001b[0m\u001b[0;34m*\u001b[0m\u001b[0;36m125\u001b[0m\u001b[0;34m)\u001b[0m\u001b[0;34m\u001b[0m\u001b[0;34m\u001b[0m\u001b[0m\n\u001b[0m\u001b[1;32m     16\u001b[0m             \u001b[0mmax_lat\u001b[0m\u001b[0;34m=\u001b[0m\u001b[0mint\u001b[0m\u001b[0;34m(\u001b[0m\u001b[0;34m(\u001b[0m\u001b[0mbici_test\u001b[0m\u001b[0;34m.\u001b[0m\u001b[0mlat\u001b[0m\u001b[0;34m.\u001b[0m\u001b[0mmax\u001b[0m\u001b[0;34m(\u001b[0m\u001b[0;34m)\u001b[0m\u001b[0;34m+\u001b[0m\u001b[0;36m0.0002\u001b[0m\u001b[0;34m)\u001b[0m\u001b[0;34m*\u001b[0m\u001b[0;36m125\u001b[0m\u001b[0;34m)\u001b[0m\u001b[0;34m\u001b[0m\u001b[0;34m\u001b[0m\u001b[0m\n\u001b[1;32m     17\u001b[0m \u001b[0;34m\u001b[0m\u001b[0m\n",
      "\u001b[0;31mValueError\u001b[0m: cannot convert float NaN to integer"
     ]
    }
   ],
   "source": [
    "lst_h = list(bici.horario.unique())\n",
    "lst_f = list(bici.festividad.unique())\n",
    "lst_m = list(bici.meteo.unique())\n",
    "\n",
    "no_damage = pd.DataFrame(columns=['horario','festividad','lesividad','meteo','lon', 'lat'])\n",
    "\n",
    "for h in lst_h:\n",
    "    print(h)\n",
    "    for f in lst_f:\n",
    "        print(f)\n",
    "        for m in lst_m:\n",
    "            print(m)\n",
    "            bici_test = bici.loc[(bici.horario==h)&(bici.festividad==f)&(bici.meteo==m)]\n",
    "            print(bici_test.lat.min())\n",
    "            min_lat=int((bici_test.lat.min()-0.0002)*125)\n",
    "            max_lat=int((bici_test.lat.max()+0.0002)*125)\n",
    "\n",
    "            min_lon=int((bici_test.lon.min()-0.00015)*93.75)\n",
    "            max_lon=int((bici_test.lon.max()+0.00015)*93.75)\n",
    "            \n",
    "            for lat in range(min_lat, max_lat):\n",
    "                for lon in range (min_lon, max_lon):\n",
    "                    no_damage = no_damage.append({\n",
    "                        'horario':h,\n",
    "                        'festividad':f,\n",
    "                        'lesividad':'No',\n",
    "                        'meteo':m,\n",
    "                        'lon':lon/93.75,\n",
    "                        'lat':lat/125,\n",
    "                    }, ignore_index=True)"
   ]
  },
  {
   "cell_type": "code",
   "execution_count": 26,
   "metadata": {},
   "outputs": [
    {
     "data": {
      "text/plain": [
       "(2403, 6)"
      ]
     },
     "execution_count": 26,
     "metadata": {},
     "output_type": "execute_result"
    }
   ],
   "source": [
    "no_damage.shape"
   ]
  },
  {
   "cell_type": "code",
   "execution_count": 13,
   "metadata": {},
   "outputs": [
    {
     "data": {
      "text/plain": [
       "(3812, 6)"
      ]
     },
     "execution_count": 13,
     "metadata": {},
     "output_type": "execute_result"
    }
   ],
   "source": [
    "no_damage.shape"
   ]
  },
  {
   "cell_type": "code",
   "execution_count": 10,
   "metadata": {},
   "outputs": [
    {
     "data": {
      "text/html": [
       "<div>\n",
       "<style scoped>\n",
       "    .dataframe tbody tr th:only-of-type {\n",
       "        vertical-align: middle;\n",
       "    }\n",
       "\n",
       "    .dataframe tbody tr th {\n",
       "        vertical-align: top;\n",
       "    }\n",
       "\n",
       "    .dataframe thead th {\n",
       "        text-align: right;\n",
       "    }\n",
       "</style>\n",
       "<table border=\"1\" class=\"dataframe\">\n",
       "  <thead>\n",
       "    <tr style=\"text-align: right;\">\n",
       "      <th></th>\n",
       "      <th>fecha</th>\n",
       "      <th>dia</th>\n",
       "      <th>year</th>\n",
       "      <th>horario</th>\n",
       "      <th>festividad</th>\n",
       "      <th>tipo_accidente</th>\n",
       "      <th>lesividad</th>\n",
       "      <th>meteo</th>\n",
       "      <th>distrito</th>\n",
       "      <th>direccion</th>\n",
       "      <th>lon</th>\n",
       "      <th>lat</th>\n",
       "    </tr>\n",
       "  </thead>\n",
       "  <tbody>\n",
       "    <tr>\n",
       "      <th>0</th>\n",
       "      <td>2019-01-01 14:00:00</td>\n",
       "      <td>2019-01-01 00:00:00</td>\n",
       "      <td>2019</td>\n",
       "      <td>Tarde</td>\n",
       "      <td>Festivo</td>\n",
       "      <td>Colision</td>\n",
       "      <td>Moderada</td>\n",
       "      <td>Despejado</td>\n",
       "      <td>SALAMANCA</td>\n",
       "      <td>CALLE CASTELLO / CALLE DON RAMON DE LA CRUZ Ma...</td>\n",
       "      <td>-3.681209</td>\n",
       "      <td>40.428990</td>\n",
       "    </tr>\n",
       "    <tr>\n",
       "      <th>1</th>\n",
       "      <td>2019-01-02 21:00:00</td>\n",
       "      <td>2019-01-02 00:00:00</td>\n",
       "      <td>2019</td>\n",
       "      <td>Noche</td>\n",
       "      <td>Laborable</td>\n",
       "      <td>Colision</td>\n",
       "      <td>Grave</td>\n",
       "      <td>Despejado</td>\n",
       "      <td>HORTALEZA</td>\n",
       "      <td>AVDA. GRAN VIA DE HORTALEZA / GTA. LUIS ROSALE...</td>\n",
       "      <td>-3.654527</td>\n",
       "      <td>40.466921</td>\n",
       "    </tr>\n",
       "    <tr>\n",
       "      <th>2</th>\n",
       "      <td>2019-01-03 14:00:00</td>\n",
       "      <td>2019-01-03 00:00:00</td>\n",
       "      <td>2019</td>\n",
       "      <td>Tarde</td>\n",
       "      <td>Laborable</td>\n",
       "      <td>Colision</td>\n",
       "      <td>Leve</td>\n",
       "      <td>Despejado</td>\n",
       "      <td>VILLA DE VALLECAS</td>\n",
       "      <td>CALLE FELIPE ALVAREZ 10 Madrid</td>\n",
       "      <td>-3.623423</td>\n",
       "      <td>40.381971</td>\n",
       "    </tr>\n",
       "    <tr>\n",
       "      <th>3</th>\n",
       "      <td>2019-01-03 13:00:00</td>\n",
       "      <td>2019-01-03 00:00:00</td>\n",
       "      <td>2019</td>\n",
       "      <td>Tarde</td>\n",
       "      <td>Laborable</td>\n",
       "      <td>Colision</td>\n",
       "      <td>Leve</td>\n",
       "      <td>Despejado</td>\n",
       "      <td>VILLA DE VALLECAS</td>\n",
       "      <td>AVDA. SANTA EUGENIA / CALLE REAL DE ARGANDA Ma...</td>\n",
       "      <td>-3.608276</td>\n",
       "      <td>40.377939</td>\n",
       "    </tr>\n",
       "    <tr>\n",
       "      <th>4</th>\n",
       "      <td>2019-01-03 13:00:00</td>\n",
       "      <td>2019-01-03 00:00:00</td>\n",
       "      <td>2019</td>\n",
       "      <td>Tarde</td>\n",
       "      <td>Laborable</td>\n",
       "      <td>Colision</td>\n",
       "      <td>Leve</td>\n",
       "      <td>Despejado</td>\n",
       "      <td>VILLA DE VALLECAS</td>\n",
       "      <td>AVDA. SANTA EUGENIA / CALLE REAL DE ARGANDA Ma...</td>\n",
       "      <td>-3.608276</td>\n",
       "      <td>40.377939</td>\n",
       "    </tr>\n",
       "  </tbody>\n",
       "</table>\n",
       "</div>"
      ],
      "text/plain": [
       "                 fecha                  dia  year horario festividad  \\\n",
       "0  2019-01-01 14:00:00  2019-01-01 00:00:00  2019   Tarde    Festivo   \n",
       "1  2019-01-02 21:00:00  2019-01-02 00:00:00  2019   Noche  Laborable   \n",
       "2  2019-01-03 14:00:00  2019-01-03 00:00:00  2019   Tarde  Laborable   \n",
       "3  2019-01-03 13:00:00  2019-01-03 00:00:00  2019   Tarde  Laborable   \n",
       "4  2019-01-03 13:00:00  2019-01-03 00:00:00  2019   Tarde  Laborable   \n",
       "\n",
       "  tipo_accidente lesividad      meteo           distrito  \\\n",
       "0       Colision  Moderada  Despejado          SALAMANCA   \n",
       "1       Colision     Grave  Despejado          HORTALEZA   \n",
       "2       Colision      Leve  Despejado  VILLA DE VALLECAS   \n",
       "3       Colision      Leve  Despejado  VILLA DE VALLECAS   \n",
       "4       Colision      Leve  Despejado  VILLA DE VALLECAS   \n",
       "\n",
       "                                           direccion       lon        lat  \n",
       "0  CALLE CASTELLO / CALLE DON RAMON DE LA CRUZ Ma... -3.681209  40.428990  \n",
       "1  AVDA. GRAN VIA DE HORTALEZA / GTA. LUIS ROSALE... -3.654527  40.466921  \n",
       "2                     CALLE FELIPE ALVAREZ 10 Madrid -3.623423  40.381971  \n",
       "3  AVDA. SANTA EUGENIA / CALLE REAL DE ARGANDA Ma... -3.608276  40.377939  \n",
       "4  AVDA. SANTA EUGENIA / CALLE REAL DE ARGANDA Ma... -3.608276  40.377939  "
      ]
     },
     "execution_count": 10,
     "metadata": {},
     "output_type": "execute_result"
    }
   ],
   "source": [
    "bici.head()"
   ]
  },
  {
   "cell_type": "code",
   "execution_count": 16,
   "metadata": {},
   "outputs": [],
   "source": [
    "num_lon = 1/93.75*3/4\n",
    "num_lat = 1/125*3/4\n",
    "\n",
    "no_damage['num_acc']=int()\n",
    "\n",
    "for i, r in no_damage.iterrows():\n",
    "    accs = len(bici.loc[\n",
    "        (bici.horario==r['horario'])&(bici.festividad==r['festividad'])&(bici.meteo==r['meteo'])&\n",
    "        (bici.lon>=(r['lon']-num_lon))&(bici.lon<=(r['lon']+num_lon))&\n",
    "        (bici.lat>=(r['lat']-num_lat))&(bici.lat<=(r['lat']+num_lat))])\n",
    "    no_damage.loc[i,'num_acc']=accs\n",
    "    "
   ]
  },
  {
   "cell_type": "code",
   "execution_count": 18,
   "metadata": {},
   "outputs": [
    {
     "data": {
      "text/plain": [
       "0    2399\n",
       "1     645\n",
       "2     284\n",
       "3     159\n",
       "4      85\n",
       "Name: num_acc, dtype: int64"
      ]
     },
     "execution_count": 18,
     "metadata": {},
     "output_type": "execute_result"
    }
   ],
   "source": [
    "no_damage.num_acc.value_counts().head()\n",
    "#7125/93.75 *3/4"
   ]
  },
  {
   "cell_type": "code",
   "execution_count": 15,
   "metadata": {},
   "outputs": [
    {
     "data": {
      "text/plain": [
       "0    1923\n",
       "1     690\n",
       "2     426\n",
       "3     185\n",
       "4     132\n",
       "Name: num_acc, dtype: int64"
      ]
     },
     "execution_count": 15,
     "metadata": {},
     "output_type": "execute_result"
    }
   ],
   "source": [
    "no_damage.num_acc.value_counts().head()\n",
    "#125/93.75"
   ]
  },
  {
   "cell_type": "code",
   "execution_count": 11,
   "metadata": {},
   "outputs": [
    {
     "data": {
      "text/plain": [
       "0    3172\n",
       "1    1016\n",
       "2     477\n",
       "3     228\n",
       "4     142\n",
       "Name: num_acc, dtype: int64"
      ]
     },
     "execution_count": 11,
     "metadata": {},
     "output_type": "execute_result"
    }
   ],
   "source": [
    "no_damage.num_acc.value_counts().head()\n",
    "#150/112.5"
   ]
  },
  {
   "cell_type": "code",
   "execution_count": 22,
   "metadata": {},
   "outputs": [],
   "source": [
    "no_damage = no_damage.loc[no_damage.num_acc==0]"
   ]
  },
  {
   "cell_type": "code",
   "execution_count": 23,
   "metadata": {},
   "outputs": [
    {
     "data": {
      "text/plain": [
       "(2399, 7)"
      ]
     },
     "execution_count": 23,
     "metadata": {},
     "output_type": "execute_result"
    }
   ],
   "source": [
    "no_damage.shape"
   ]
  },
  {
   "cell_type": "code",
   "execution_count": null,
   "metadata": {},
   "outputs": [],
   "source": []
  },
  {
   "cell_type": "code",
   "execution_count": null,
   "metadata": {},
   "outputs": [],
   "source": []
  },
  {
   "cell_type": "code",
   "execution_count": 8,
   "metadata": {},
   "outputs": [],
   "source": [
    "def geopoint(lon, lat):\n",
    "    return {\"type\": \"Point\", \"coordinates\": [lon, lat]}\n"
   ]
  },
  {
   "cell_type": "code",
   "execution_count": 9,
   "metadata": {},
   "outputs": [
    {
     "data": {
      "text/plain": [
       "'Localizacion_2dsphere'"
      ]
     },
     "execution_count": 9,
     "metadata": {},
     "output_type": "execute_result"
    }
   ],
   "source": [
    "no_damage['Localizacion'] = np.vectorize(geopoint)(no_damage['lon'], no_damage['lat'])\n",
    "\n",
    "coll.test.insert_many(no_damage.to_dict('record'))\n",
    "coll.test.create_index([('Localizacion', pymongo.GEOSPHERE)])"
   ]
  },
  {
   "cell_type": "code",
   "execution_count": null,
   "metadata": {},
   "outputs": [],
   "source": []
  },
  {
   "cell_type": "code",
   "execution_count": null,
   "metadata": {},
   "outputs": [],
   "source": []
  },
  {
   "cell_type": "code",
   "execution_count": null,
   "metadata": {},
   "outputs": [],
   "source": []
  },
  {
   "cell_type": "code",
   "execution_count": null,
   "metadata": {},
   "outputs": [],
   "source": []
  },
  {
   "cell_type": "code",
   "execution_count": null,
   "metadata": {},
   "outputs": [],
   "source": []
  },
  {
   "cell_type": "code",
   "execution_count": null,
   "metadata": {},
   "outputs": [],
   "source": [
    "def num_horario(value):\n",
    "    dict_hora = {\n",
    "        'Mañana': 1,\n",
    "        'Tarde': 2,\n",
    "        'Noche': 3\n",
    "    }\n",
    "    return dict_hora[value]\n",
    "\n",
    "def num_fest(value):\n",
    "    dict_fest = {\n",
    "        'Laborable': 1,\n",
    "        'Vispera': 2,\n",
    "        'Festivo': 3\n",
    "    }\n",
    "    return dict_fest[value]\n",
    "\n",
    "def prepare_df(data):\n",
    "    data.drop(['fecha', 'dia', 'year', 'tipo_accidente',\n",
    "               'distrito', 'direccion'], axis=1, inplace=True)\n",
    "    data.horario = data.horario.apply(lambda x: num_horario(x))\n",
    "    data.festividad = data.festividad.apply(lambda x: num_fest(x))\n",
    "    data = pd.get_dummies(data, columns=['meteo'], prefix_sep='', prefix='')\n",
    "    return data"
   ]
  },
  {
   "cell_type": "code",
   "execution_count": 5,
   "metadata": {},
   "outputs": [],
   "source": [
    "data = prepare_df(bici)"
   ]
  },
  {
   "cell_type": "code",
   "execution_count": 5,
   "metadata": {},
   "outputs": [
    {
     "data": {
      "text/html": [
       "<div>\n",
       "<style scoped>\n",
       "    .dataframe tbody tr th:only-of-type {\n",
       "        vertical-align: middle;\n",
       "    }\n",
       "\n",
       "    .dataframe tbody tr th {\n",
       "        vertical-align: top;\n",
       "    }\n",
       "\n",
       "    .dataframe thead th {\n",
       "        text-align: right;\n",
       "    }\n",
       "</style>\n",
       "<table border=\"1\" class=\"dataframe\">\n",
       "  <thead>\n",
       "    <tr style=\"text-align: right;\">\n",
       "      <th></th>\n",
       "      <th>fecha</th>\n",
       "      <th>dia</th>\n",
       "      <th>year</th>\n",
       "      <th>horario</th>\n",
       "      <th>festividad</th>\n",
       "      <th>tipo_accidente</th>\n",
       "      <th>lesividad</th>\n",
       "      <th>meteo</th>\n",
       "      <th>distrito</th>\n",
       "      <th>direccion</th>\n",
       "      <th>lon</th>\n",
       "      <th>lat</th>\n",
       "    </tr>\n",
       "  </thead>\n",
       "  <tbody>\n",
       "    <tr>\n",
       "      <th>0</th>\n",
       "      <td>2019-01-01 14:00:00</td>\n",
       "      <td>2019-01-01 00:00:00</td>\n",
       "      <td>2019</td>\n",
       "      <td>Tarde</td>\n",
       "      <td>Festivo</td>\n",
       "      <td>Colision</td>\n",
       "      <td>Moderada</td>\n",
       "      <td>Despejado</td>\n",
       "      <td>SALAMANCA</td>\n",
       "      <td>CALLE CASTELLO / CALLE DON RAMON DE LA CRUZ Ma...</td>\n",
       "      <td>-3.681209</td>\n",
       "      <td>40.428990</td>\n",
       "    </tr>\n",
       "    <tr>\n",
       "      <th>1</th>\n",
       "      <td>2019-01-02 21:00:00</td>\n",
       "      <td>2019-01-02 00:00:00</td>\n",
       "      <td>2019</td>\n",
       "      <td>Noche</td>\n",
       "      <td>Laborable</td>\n",
       "      <td>Colision</td>\n",
       "      <td>Grave</td>\n",
       "      <td>Despejado</td>\n",
       "      <td>HORTALEZA</td>\n",
       "      <td>AVDA. GRAN VIA DE HORTALEZA / GTA. LUIS ROSALE...</td>\n",
       "      <td>-3.654527</td>\n",
       "      <td>40.466921</td>\n",
       "    </tr>\n",
       "    <tr>\n",
       "      <th>2</th>\n",
       "      <td>2019-01-03 14:00:00</td>\n",
       "      <td>2019-01-03 00:00:00</td>\n",
       "      <td>2019</td>\n",
       "      <td>Tarde</td>\n",
       "      <td>Laborable</td>\n",
       "      <td>Colision</td>\n",
       "      <td>Leve</td>\n",
       "      <td>Despejado</td>\n",
       "      <td>VILLA DE VALLECAS</td>\n",
       "      <td>CALLE FELIPE ALVAREZ 10 Madrid</td>\n",
       "      <td>-3.623423</td>\n",
       "      <td>40.381971</td>\n",
       "    </tr>\n",
       "    <tr>\n",
       "      <th>3</th>\n",
       "      <td>2019-01-03 13:00:00</td>\n",
       "      <td>2019-01-03 00:00:00</td>\n",
       "      <td>2019</td>\n",
       "      <td>Tarde</td>\n",
       "      <td>Laborable</td>\n",
       "      <td>Colision</td>\n",
       "      <td>Leve</td>\n",
       "      <td>Despejado</td>\n",
       "      <td>VILLA DE VALLECAS</td>\n",
       "      <td>AVDA. SANTA EUGENIA / CALLE REAL DE ARGANDA Ma...</td>\n",
       "      <td>-3.608276</td>\n",
       "      <td>40.377939</td>\n",
       "    </tr>\n",
       "    <tr>\n",
       "      <th>4</th>\n",
       "      <td>2019-01-03 13:00:00</td>\n",
       "      <td>2019-01-03 00:00:00</td>\n",
       "      <td>2019</td>\n",
       "      <td>Tarde</td>\n",
       "      <td>Laborable</td>\n",
       "      <td>Colision</td>\n",
       "      <td>Leve</td>\n",
       "      <td>Despejado</td>\n",
       "      <td>VILLA DE VALLECAS</td>\n",
       "      <td>AVDA. SANTA EUGENIA / CALLE REAL DE ARGANDA Ma...</td>\n",
       "      <td>-3.608276</td>\n",
       "      <td>40.377939</td>\n",
       "    </tr>\n",
       "  </tbody>\n",
       "</table>\n",
       "</div>"
      ],
      "text/plain": [
       "                 fecha                  dia  year horario festividad  \\\n",
       "0  2019-01-01 14:00:00  2019-01-01 00:00:00  2019   Tarde    Festivo   \n",
       "1  2019-01-02 21:00:00  2019-01-02 00:00:00  2019   Noche  Laborable   \n",
       "2  2019-01-03 14:00:00  2019-01-03 00:00:00  2019   Tarde  Laborable   \n",
       "3  2019-01-03 13:00:00  2019-01-03 00:00:00  2019   Tarde  Laborable   \n",
       "4  2019-01-03 13:00:00  2019-01-03 00:00:00  2019   Tarde  Laborable   \n",
       "\n",
       "  tipo_accidente lesividad      meteo           distrito  \\\n",
       "0       Colision  Moderada  Despejado          SALAMANCA   \n",
       "1       Colision     Grave  Despejado          HORTALEZA   \n",
       "2       Colision      Leve  Despejado  VILLA DE VALLECAS   \n",
       "3       Colision      Leve  Despejado  VILLA DE VALLECAS   \n",
       "4       Colision      Leve  Despejado  VILLA DE VALLECAS   \n",
       "\n",
       "                                           direccion       lon        lat  \n",
       "0  CALLE CASTELLO / CALLE DON RAMON DE LA CRUZ Ma... -3.681209  40.428990  \n",
       "1  AVDA. GRAN VIA DE HORTALEZA / GTA. LUIS ROSALE... -3.654527  40.466921  \n",
       "2                     CALLE FELIPE ALVAREZ 10 Madrid -3.623423  40.381971  \n",
       "3  AVDA. SANTA EUGENIA / CALLE REAL DE ARGANDA Ma... -3.608276  40.377939  \n",
       "4  AVDA. SANTA EUGENIA / CALLE REAL DE ARGANDA Ma... -3.608276  40.377939  "
      ]
     },
     "execution_count": 5,
     "metadata": {},
     "output_type": "execute_result"
    }
   ],
   "source": [
    "bici.head()"
   ]
  },
  {
   "cell_type": "code",
   "execution_count": 5,
   "metadata": {},
   "outputs": [],
   "source": [
    "all_acc = coll.acc.find()\n",
    "df = pd.DataFrame(all_acc)"
   ]
  },
  {
   "cell_type": "code",
   "execution_count": 6,
   "metadata": {},
   "outputs": [
    {
     "data": {
      "text/html": [
       "<div>\n",
       "<style scoped>\n",
       "    .dataframe tbody tr th:only-of-type {\n",
       "        vertical-align: middle;\n",
       "    }\n",
       "\n",
       "    .dataframe tbody tr th {\n",
       "        vertical-align: top;\n",
       "    }\n",
       "\n",
       "    .dataframe thead th {\n",
       "        text-align: right;\n",
       "    }\n",
       "</style>\n",
       "<table border=\"1\" class=\"dataframe\">\n",
       "  <thead>\n",
       "    <tr style=\"text-align: right;\">\n",
       "      <th></th>\n",
       "      <th>_id</th>\n",
       "      <th>fecha</th>\n",
       "      <th>year</th>\n",
       "      <th>horario</th>\n",
       "      <th>festividad</th>\n",
       "      <th>tipo_accidente</th>\n",
       "      <th>lesividad</th>\n",
       "      <th>meteo</th>\n",
       "      <th>distrito</th>\n",
       "      <th>direccion</th>\n",
       "      <th>localizacion</th>\n",
       "    </tr>\n",
       "  </thead>\n",
       "  <tbody>\n",
       "    <tr>\n",
       "      <th>0</th>\n",
       "      <td>5e11db4d64114c18c0e3a5c2</td>\n",
       "      <td>2019-01-01 14:00:00</td>\n",
       "      <td>2019</td>\n",
       "      <td>Tarde</td>\n",
       "      <td>Festivo</td>\n",
       "      <td>Colision</td>\n",
       "      <td>Moderada</td>\n",
       "      <td>Despejado</td>\n",
       "      <td>SALAMANCA</td>\n",
       "      <td>CALLE CASTELLO / CALLE DON RAMON DE LA CRUZ Ma...</td>\n",
       "      <td>{'type': 'Point', 'coordinates': [-3.681209, 4...</td>\n",
       "    </tr>\n",
       "    <tr>\n",
       "      <th>1</th>\n",
       "      <td>5e11db4d64114c18c0e3a5c3</td>\n",
       "      <td>2019-01-02 21:00:00</td>\n",
       "      <td>2019</td>\n",
       "      <td>Noche</td>\n",
       "      <td>Laborable</td>\n",
       "      <td>Colision</td>\n",
       "      <td>Grave</td>\n",
       "      <td>Despejado</td>\n",
       "      <td>HORTALEZA</td>\n",
       "      <td>AVDA. GRAN VIA DE HORTALEZA / GTA. LUIS ROSALE...</td>\n",
       "      <td>{'type': 'Point', 'coordinates': [-3.654527, 4...</td>\n",
       "    </tr>\n",
       "    <tr>\n",
       "      <th>2</th>\n",
       "      <td>5e11db4d64114c18c0e3a5c4</td>\n",
       "      <td>2019-01-03 14:00:00</td>\n",
       "      <td>2019</td>\n",
       "      <td>Tarde</td>\n",
       "      <td>Laborable</td>\n",
       "      <td>Colision</td>\n",
       "      <td>Leve</td>\n",
       "      <td>Despejado</td>\n",
       "      <td>VILLA DE VALLECAS</td>\n",
       "      <td>CALLE FELIPE ALVAREZ 10 Madrid</td>\n",
       "      <td>{'type': 'Point', 'coordinates': [-3.623423, 4...</td>\n",
       "    </tr>\n",
       "    <tr>\n",
       "      <th>3</th>\n",
       "      <td>5e11db4d64114c18c0e3a5c5</td>\n",
       "      <td>2019-01-03 13:00:00</td>\n",
       "      <td>2019</td>\n",
       "      <td>Tarde</td>\n",
       "      <td>Laborable</td>\n",
       "      <td>Colision</td>\n",
       "      <td>Leve</td>\n",
       "      <td>Despejado</td>\n",
       "      <td>VILLA DE VALLECAS</td>\n",
       "      <td>AVDA. SANTA EUGENIA / CALLE REAL DE ARGANDA Ma...</td>\n",
       "      <td>{'type': 'Point', 'coordinates': [-3.608276, 4...</td>\n",
       "    </tr>\n",
       "    <tr>\n",
       "      <th>4</th>\n",
       "      <td>5e11db4d64114c18c0e3a5c6</td>\n",
       "      <td>2019-01-03 13:00:00</td>\n",
       "      <td>2019</td>\n",
       "      <td>Tarde</td>\n",
       "      <td>Laborable</td>\n",
       "      <td>Colision</td>\n",
       "      <td>Leve</td>\n",
       "      <td>Despejado</td>\n",
       "      <td>VILLA DE VALLECAS</td>\n",
       "      <td>AVDA. SANTA EUGENIA / CALLE REAL DE ARGANDA Ma...</td>\n",
       "      <td>{'type': 'Point', 'coordinates': [-3.608276, 4...</td>\n",
       "    </tr>\n",
       "  </tbody>\n",
       "</table>\n",
       "</div>"
      ],
      "text/plain": [
       "                        _id                fecha  year horario festividad  \\\n",
       "0  5e11db4d64114c18c0e3a5c2  2019-01-01 14:00:00  2019   Tarde    Festivo   \n",
       "1  5e11db4d64114c18c0e3a5c3  2019-01-02 21:00:00  2019   Noche  Laborable   \n",
       "2  5e11db4d64114c18c0e3a5c4  2019-01-03 14:00:00  2019   Tarde  Laborable   \n",
       "3  5e11db4d64114c18c0e3a5c5  2019-01-03 13:00:00  2019   Tarde  Laborable   \n",
       "4  5e11db4d64114c18c0e3a5c6  2019-01-03 13:00:00  2019   Tarde  Laborable   \n",
       "\n",
       "  tipo_accidente lesividad      meteo           distrito  \\\n",
       "0       Colision  Moderada  Despejado          SALAMANCA   \n",
       "1       Colision     Grave  Despejado          HORTALEZA   \n",
       "2       Colision      Leve  Despejado  VILLA DE VALLECAS   \n",
       "3       Colision      Leve  Despejado  VILLA DE VALLECAS   \n",
       "4       Colision      Leve  Despejado  VILLA DE VALLECAS   \n",
       "\n",
       "                                           direccion  \\\n",
       "0  CALLE CASTELLO / CALLE DON RAMON DE LA CRUZ Ma...   \n",
       "1  AVDA. GRAN VIA DE HORTALEZA / GTA. LUIS ROSALE...   \n",
       "2                     CALLE FELIPE ALVAREZ 10 Madrid   \n",
       "3  AVDA. SANTA EUGENIA / CALLE REAL DE ARGANDA Ma...   \n",
       "4  AVDA. SANTA EUGENIA / CALLE REAL DE ARGANDA Ma...   \n",
       "\n",
       "                                        localizacion  \n",
       "0  {'type': 'Point', 'coordinates': [-3.681209, 4...  \n",
       "1  {'type': 'Point', 'coordinates': [-3.654527, 4...  \n",
       "2  {'type': 'Point', 'coordinates': [-3.623423, 4...  \n",
       "3  {'type': 'Point', 'coordinates': [-3.608276, 4...  \n",
       "4  {'type': 'Point', 'coordinates': [-3.608276, 4...  "
      ]
     },
     "execution_count": 6,
     "metadata": {},
     "output_type": "execute_result"
    }
   ],
   "source": [
    "df.head()"
   ]
  },
  {
   "cell_type": "code",
   "execution_count": null,
   "metadata": {},
   "outputs": [],
   "source": []
  },
  {
   "cell_type": "code",
   "execution_count": 7,
   "metadata": {},
   "outputs": [],
   "source": [
    "lluvia_tarde = coll.acc.find({'$and':[{\"horario\": \"Tarde\"}, {'meteo':'Lluvia'}]})\n",
    "df_llt = pd.DataFrame(lluvia_tarde)"
   ]
  },
  {
   "cell_type": "code",
   "execution_count": 8,
   "metadata": {},
   "outputs": [
    {
     "data": {
      "text/html": [
       "<div>\n",
       "<style scoped>\n",
       "    .dataframe tbody tr th:only-of-type {\n",
       "        vertical-align: middle;\n",
       "    }\n",
       "\n",
       "    .dataframe tbody tr th {\n",
       "        vertical-align: top;\n",
       "    }\n",
       "\n",
       "    .dataframe thead th {\n",
       "        text-align: right;\n",
       "    }\n",
       "</style>\n",
       "<table border=\"1\" class=\"dataframe\">\n",
       "  <thead>\n",
       "    <tr style=\"text-align: right;\">\n",
       "      <th></th>\n",
       "      <th>_id</th>\n",
       "      <th>fecha</th>\n",
       "      <th>year</th>\n",
       "      <th>horario</th>\n",
       "      <th>festividad</th>\n",
       "      <th>tipo_accidente</th>\n",
       "      <th>lesividad</th>\n",
       "      <th>meteo</th>\n",
       "      <th>distrito</th>\n",
       "      <th>direccion</th>\n",
       "      <th>localizacion</th>\n",
       "    </tr>\n",
       "  </thead>\n",
       "  <tbody>\n",
       "    <tr>\n",
       "      <th>0</th>\n",
       "      <td>5e11db4d64114c18c0e3a5ee</td>\n",
       "      <td>2019-01-29 16:00:00</td>\n",
       "      <td>2019</td>\n",
       "      <td>Tarde</td>\n",
       "      <td>Laborable</td>\n",
       "      <td>Caida</td>\n",
       "      <td>Moderada</td>\n",
       "      <td>Lluvia</td>\n",
       "      <td>CENTRO</td>\n",
       "      <td>PASEO. RECOLETOS 23 Madrid</td>\n",
       "      <td>{'type': 'Point', 'coordinates': [-3.692396, 4...</td>\n",
       "    </tr>\n",
       "    <tr>\n",
       "      <th>1</th>\n",
       "      <td>5e11db4e64114c18c0e3a678</td>\n",
       "      <td>2019-04-02 14:00:00</td>\n",
       "      <td>2019</td>\n",
       "      <td>Tarde</td>\n",
       "      <td>Laborable</td>\n",
       "      <td>Colision</td>\n",
       "      <td>Leve</td>\n",
       "      <td>Lluvia</td>\n",
       "      <td>FUENCARRAL-EL PARDO</td>\n",
       "      <td>AUTOV. M-607, +01500S Madrid</td>\n",
       "      <td>{'type': 'Point', 'coordinates': [-3.691782, 4...</td>\n",
       "    </tr>\n",
       "    <tr>\n",
       "      <th>2</th>\n",
       "      <td>5e11db4e64114c18c0e3a679</td>\n",
       "      <td>2019-04-02 14:00:00</td>\n",
       "      <td>2019</td>\n",
       "      <td>Tarde</td>\n",
       "      <td>Laborable</td>\n",
       "      <td>Colision</td>\n",
       "      <td>Leve</td>\n",
       "      <td>Lluvia</td>\n",
       "      <td>FUENCARRAL-EL PARDO</td>\n",
       "      <td>AUTOV. M-607, +01500S Madrid</td>\n",
       "      <td>{'type': 'Point', 'coordinates': [-3.691782, 4...</td>\n",
       "    </tr>\n",
       "    <tr>\n",
       "      <th>3</th>\n",
       "      <td>5e11db4e64114c18c0e3a67f</td>\n",
       "      <td>2019-04-06 20:00:00</td>\n",
       "      <td>2019</td>\n",
       "      <td>Tarde</td>\n",
       "      <td>Vispera</td>\n",
       "      <td>Caida</td>\n",
       "      <td>Moderada</td>\n",
       "      <td>Lluvia</td>\n",
       "      <td>CENTRO</td>\n",
       "      <td>CALLE VICTORIA 4 Madrid</td>\n",
       "      <td>{'type': 'Point', 'coordinates': [-3.701736, 4...</td>\n",
       "    </tr>\n",
       "    <tr>\n",
       "      <th>4</th>\n",
       "      <td>5e11db4e64114c18c0e3a686</td>\n",
       "      <td>2019-04-09 13:00:00</td>\n",
       "      <td>2019</td>\n",
       "      <td>Tarde</td>\n",
       "      <td>Laborable</td>\n",
       "      <td>Otro</td>\n",
       "      <td>Leve</td>\n",
       "      <td>Lluvia</td>\n",
       "      <td>CENTRO</td>\n",
       "      <td>PASEO. RECOLETOS / CALLE GENOVA Madrid</td>\n",
       "      <td>{'type': 'Point', 'coordinates': [-3.690993, 4...</td>\n",
       "    </tr>\n",
       "  </tbody>\n",
       "</table>\n",
       "</div>"
      ],
      "text/plain": [
       "                        _id                fecha  year horario festividad  \\\n",
       "0  5e11db4d64114c18c0e3a5ee  2019-01-29 16:00:00  2019   Tarde  Laborable   \n",
       "1  5e11db4e64114c18c0e3a678  2019-04-02 14:00:00  2019   Tarde  Laborable   \n",
       "2  5e11db4e64114c18c0e3a679  2019-04-02 14:00:00  2019   Tarde  Laborable   \n",
       "3  5e11db4e64114c18c0e3a67f  2019-04-06 20:00:00  2019   Tarde    Vispera   \n",
       "4  5e11db4e64114c18c0e3a686  2019-04-09 13:00:00  2019   Tarde  Laborable   \n",
       "\n",
       "  tipo_accidente lesividad   meteo             distrito  \\\n",
       "0          Caida  Moderada  Lluvia               CENTRO   \n",
       "1       Colision      Leve  Lluvia  FUENCARRAL-EL PARDO   \n",
       "2       Colision      Leve  Lluvia  FUENCARRAL-EL PARDO   \n",
       "3          Caida  Moderada  Lluvia               CENTRO   \n",
       "4           Otro      Leve  Lluvia               CENTRO   \n",
       "\n",
       "                                direccion  \\\n",
       "0              PASEO. RECOLETOS 23 Madrid   \n",
       "1            AUTOV. M-607, +01500S Madrid   \n",
       "2            AUTOV. M-607, +01500S Madrid   \n",
       "3                 CALLE VICTORIA 4 Madrid   \n",
       "4  PASEO. RECOLETOS / CALLE GENOVA Madrid   \n",
       "\n",
       "                                        localizacion  \n",
       "0  {'type': 'Point', 'coordinates': [-3.692396, 4...  \n",
       "1  {'type': 'Point', 'coordinates': [-3.691782, 4...  \n",
       "2  {'type': 'Point', 'coordinates': [-3.691782, 4...  \n",
       "3  {'type': 'Point', 'coordinates': [-3.701736, 4...  \n",
       "4  {'type': 'Point', 'coordinates': [-3.690993, 4...  "
      ]
     },
     "execution_count": 8,
     "metadata": {},
     "output_type": "execute_result"
    }
   ],
   "source": [
    "df_llt.head()"
   ]
  },
  {
   "cell_type": "code",
   "execution_count": null,
   "metadata": {},
   "outputs": [],
   "source": []
  },
  {
   "cell_type": "code",
   "execution_count": null,
   "metadata": {},
   "outputs": [],
   "source": []
  },
  {
   "cell_type": "code",
   "execution_count": null,
   "metadata": {},
   "outputs": [],
   "source": []
  },
  {
   "cell_type": "code",
   "execution_count": null,
   "metadata": {},
   "outputs": [],
   "source": []
  },
  {
   "cell_type": "code",
   "execution_count": null,
   "metadata": {},
   "outputs": [],
   "source": [
    ".find({'$and': [query, {\"location\": {\"$near\": {\"$geometry\": lst_loc, \"$maxDistance\": radio}}}]}))"
   ]
  },
  {
   "cell_type": "code",
   "execution_count": null,
   "metadata": {},
   "outputs": [],
   "source": []
  },
  {
   "cell_type": "code",
   "execution_count": null,
   "metadata": {},
   "outputs": [],
   "source": []
  },
  {
   "cell_type": "code",
   "execution_count": null,
   "metadata": {},
   "outputs": [],
   "source": []
  },
  {
   "cell_type": "code",
   "execution_count": 9,
   "metadata": {},
   "outputs": [],
   "source": []
  },
  {
   "cell_type": "code",
   "execution_count": null,
   "metadata": {},
   "outputs": [],
   "source": []
  },
  {
   "cell_type": "code",
   "execution_count": null,
   "metadata": {},
   "outputs": [],
   "source": []
  },
  {
   "cell_type": "code",
   "execution_count": null,
   "metadata": {},
   "outputs": [],
   "source": []
  }
 ],
 "metadata": {
  "kernelspec": {
   "display_name": "Python 3",
   "language": "python",
   "name": "python3"
  },
  "language_info": {
   "codemirror_mode": {
    "name": "ipython",
    "version": 3
   },
   "file_extension": ".py",
   "mimetype": "text/x-python",
   "name": "python",
   "nbconvert_exporter": "python",
   "pygments_lexer": "ipython3",
   "version": "3.7.5"
  }
 },
 "nbformat": 4,
 "nbformat_minor": 2
}
